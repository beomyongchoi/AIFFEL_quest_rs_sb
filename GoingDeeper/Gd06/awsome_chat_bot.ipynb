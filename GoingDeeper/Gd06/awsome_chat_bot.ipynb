{
 "cells": [
  {
   "cell_type": "markdown",
   "metadata": {
    "id": "nCqCU_ESSZt8"
   },
   "source": [
    "# Project: 멋진 챗봇 만들기"
   ]
  },
  {
   "cell_type": "code",
   "execution_count": 4,
   "metadata": {
    "colab": {
     "base_uri": "https://localhost:8080/"
    },
    "id": "u_RwmvP2TMEa",
    "outputId": "67b5c211-c3a7-4722-dae8-de367cfd46e4"
   },
   "outputs": [
    {
     "name": "stdout",
     "output_type": "stream",
     "text": [
      "Requirement already satisfied: gensim in /usr/local/lib/python3.12/dist-packages (4.3.3)\n",
      "Requirement already satisfied: numpy<2.0,>=1.18.5 in /usr/local/lib/python3.12/dist-packages (from gensim) (1.26.4)\n",
      "Requirement already satisfied: scipy<1.14.0,>=1.7.0 in /usr/local/lib/python3.12/dist-packages (from gensim) (1.13.1)\n",
      "Requirement already satisfied: smart-open>=1.8.1 in /usr/local/lib/python3.12/dist-packages (from gensim) (7.3.0.post1)\n",
      "Requirement already satisfied: wrapt in /usr/local/lib/python3.12/dist-packages (from smart-open>=1.8.1->gensim) (1.17.3)\n",
      "Requirement already satisfied: nltk in /usr/local/lib/python3.12/dist-packages (3.9.1)\n",
      "Requirement already satisfied: click in /usr/local/lib/python3.12/dist-packages (from nltk) (8.2.1)\n",
      "Requirement already satisfied: joblib in /usr/local/lib/python3.12/dist-packages (from nltk) (1.5.2)\n",
      "Requirement already satisfied: regex>=2021.8.3 in /usr/local/lib/python3.12/dist-packages (from nltk) (2024.11.6)\n",
      "Requirement already satisfied: tqdm in /usr/local/lib/python3.12/dist-packages (from nltk) (4.67.1)\n",
      "/bin/bash: line 1: pin: command not found\n"
     ]
    }
   ],
   "source": [
    "!pip install gensim\n",
    "!pip install nltk\n",
    "!pin install pandas numpy"
   ]
  },
  {
   "cell_type": "code",
   "execution_count": 5,
   "metadata": {
    "colab": {
     "base_uri": "https://localhost:8080/"
    },
    "id": "StW2k1jETrZs",
    "outputId": "cc4c5f24-310a-4642-ee0e-1ad75fe6d016"
   },
   "outputs": [
    {
     "name": "stdout",
     "output_type": "stream",
     "text": [
      "1.26.4\n",
      "2.2.2\n",
      "2.8.0+cu126\n",
      "3.9.1\n",
      "4.3.3\n"
     ]
    }
   ],
   "source": [
    "import numpy\n",
    "import pandas\n",
    "import torch\n",
    "import nltk\n",
    "import gensim\n",
    "\n",
    "print(numpy.__version__)\n",
    "print(pandas.__version__)\n",
    "print(torch.__version__)\n",
    "print(nltk.__version__)\n",
    "print(gensim.__version__)"
   ]
  },
  {
   "cell_type": "markdown",
   "metadata": {
    "id": "-Kfrq87xSc-C"
   },
   "source": [
    "## Step 1. 데이터 로드"
   ]
  },
  {
   "cell_type": "code",
   "execution_count": 6,
   "metadata": {
    "colab": {
     "base_uri": "https://localhost:8080/"
    },
    "id": "YJQTJ7isTyIC",
    "outputId": "f8456b5a-09d2-4e89-cf88-81f1fa61cf2d"
   },
   "outputs": [
    {
     "name": "stdout",
     "output_type": "stream",
     "text": [
      "총 질문 개수: 11823\n",
      "총 답변 개수: 11823\n",
      "\n",
      "첫 5개 질문:\n",
      "Q1: 12시 땡!\n",
      "Q2: 1지망 학교 떨어졌어\n",
      "Q3: 3박4일 놀러가고 싶다\n",
      "Q4: 3박4일 정도 놀러가고 싶다\n",
      "Q5: PPL 심하네\n",
      "\n",
      "첫 5개 답변:\n",
      "A1: 하루가 또 가네요.\n",
      "A2: 위로해 드립니다.\n",
      "A3: 여행은 언제나 좋죠.\n",
      "A4: 여행은 언제나 좋죠.\n",
      "A5: 눈살이 찌푸려지죠.\n"
     ]
    }
   ],
   "source": [
    "import pandas as pd\n",
    "\n",
    "# CSV 파일 읽기\n",
    "df = pd.read_csv('ChatbotData.csv')\n",
    "\n",
    "# 질문과 답변을 각각 변수에 저장\n",
    "questions = df['Q'].tolist()  # 또는 df['Q'].values\n",
    "answers = df['A'].tolist()    # 또는 df['A'].values\n",
    "\n",
    "# 확인해보기\n",
    "print(f\"총 질문 개수: {len(questions)}\")\n",
    "print(f\"총 답변 개수: {len(answers)}\")\n",
    "print(\"\\n첫 5개 질문:\")\n",
    "for i in range(5):\n",
    "    print(f\"Q{i+1}: {questions[i]}\")\n",
    "print(\"\\n첫 5개 답변:\")\n",
    "for i in range(5):\n",
    "    print(f\"A{i+1}: {answers[i]}\")"
   ]
  },
  {
   "cell_type": "markdown",
   "metadata": {
    "id": "lJgSiQIuSi2x"
   },
   "source": [
    "## Step 2. 데이터 정제"
   ]
  },
  {
   "cell_type": "code",
   "execution_count": 7,
   "metadata": {
    "colab": {
     "base_uri": "https://localhost:8080/"
    },
    "id": "6pvIgVtxT8L3",
    "outputId": "e3eb7f68-3afa-4ed4-ae6b-ee76f4cc8454"
   },
   "outputs": [
    {
     "name": "stdout",
     "output_type": "stream",
     "text": [
      "전처리 결과:\n",
      "원본: 안녕하세요! How are YOU?\n",
      "전처리: 안녕하세요! how are you?\n",
      "--------------------------------------------------\n",
      "원본: 오늘 날씨가 좋네요~~ ^^\n",
      "전처리: 오늘 날씨가 좋네요\n",
      "--------------------------------------------------\n",
      "원본: Hello123 @#$% 테스트입니다!\n",
      "전처리: hello123 테스트입니다!\n",
      "--------------------------------------------------\n",
      "원본:    여러   공백    처리   테스트   \n",
      "전처리: 여러 공백 처리 테스트\n",
      "--------------------------------------------------\n"
     ]
    }
   ],
   "source": [
    "import re\n",
    "\n",
    "def preprocess_sentence(sentence):\n",
    "    \"\"\"\n",
    "    문장 전처리 함수\n",
    "    1. 영문자를 모두 소문자로 변환\n",
    "    2. 영문자, 한글, 숫자, 주요 특수문자만 남기고 나머지 제거\n",
    "    \"\"\"\n",
    "    # 1. 소문자로 변환\n",
    "    sentence = sentence.lower()\n",
    "\n",
    "    # 2. 영문자, 한글, 숫자, 주요 특수문자만 남기기\n",
    "    # 한글: ㄱ-ㅎ, ㅏ-ㅣ, 가-힣\n",
    "    # 영문자: a-z\n",
    "    # 숫자: 0-9\n",
    "    # 주요 특수문자: 공백, 마침표, 쉼표, 물음표, 느낌표, 하이픈 등\n",
    "    sentence = re.sub(r'[^a-z가-힣ㄱ-ㅎㅏ-ㅣ0-9\\s.,?!-]', '', sentence)\n",
    "\n",
    "    # 연속된 공백을 하나로 통합\n",
    "    sentence = re.sub(r'\\s+', ' ', sentence)\n",
    "\n",
    "    # 문장 앞뒤 공백 제거\n",
    "    sentence = sentence.strip()\n",
    "\n",
    "    return sentence\n",
    "\n",
    "# 테스트\n",
    "test_sentences = [\n",
    "    \"안녕하세요! How are YOU?\",\n",
    "    \"오늘 날씨가 좋네요~~ ^^\",\n",
    "    \"Hello123 @#$% 테스트입니다!\",\n",
    "    \"   여러   공백    처리   테스트   \"\n",
    "]\n",
    "\n",
    "print(\"전처리 결과:\")\n",
    "for sentence in test_sentences:\n",
    "    processed = preprocess_sentence(sentence)\n",
    "    print(f\"원본: {sentence}\")\n",
    "    print(f\"전처리: {processed}\")\n",
    "    print(\"-\" * 50)"
   ]
  },
  {
   "cell_type": "code",
   "execution_count": 8,
   "metadata": {
    "colab": {
     "base_uri": "https://localhost:8080/"
    },
    "id": "L3LqVKT0T-pl",
    "outputId": "a13aed59-fdda-4b01-fe6f-393d081c647b"
   },
   "outputs": [
    {
     "name": "stdout",
     "output_type": "stream",
     "text": [
      "전처리 시작...\n",
      "전처리 완료!\n",
      "\n",
      "전처리된 질문 개수: 11823\n",
      "전처리된 답변 개수: 11823\n",
      "\n",
      "=== 전처리 전후 비교 (첫 5개) ===\n",
      "\n",
      "[1번째]\n",
      "원본 질문: 12시 땡!\n",
      "전처리 질문: 12시 땡!\n",
      "원본 답변: 하루가 또 가네요.\n",
      "전처리 답변: 하루가 또 가네요.\n",
      "------------------------------------------------------------\n",
      "\n",
      "[2번째]\n",
      "원본 질문: 1지망 학교 떨어졌어\n",
      "전처리 질문: 1지망 학교 떨어졌어\n",
      "원본 답변: 위로해 드립니다.\n",
      "전처리 답변: 위로해 드립니다.\n",
      "------------------------------------------------------------\n",
      "\n",
      "[3번째]\n",
      "원본 질문: 3박4일 놀러가고 싶다\n",
      "전처리 질문: 3박4일 놀러가고 싶다\n",
      "원본 답변: 여행은 언제나 좋죠.\n",
      "전처리 답변: 여행은 언제나 좋죠.\n",
      "------------------------------------------------------------\n",
      "\n",
      "[4번째]\n",
      "원본 질문: 3박4일 정도 놀러가고 싶다\n",
      "전처리 질문: 3박4일 정도 놀러가고 싶다\n",
      "원본 답변: 여행은 언제나 좋죠.\n",
      "전처리 답변: 여행은 언제나 좋죠.\n",
      "------------------------------------------------------------\n",
      "\n",
      "[5번째]\n",
      "원본 질문: PPL 심하네\n",
      "전처리 질문: ppl 심하네\n",
      "원본 답변: 눈살이 찌푸려지죠.\n",
      "전처리 답변: 눈살이 찌푸려지죠.\n",
      "------------------------------------------------------------\n",
      "\n",
      "빈 질문 개수: 0\n",
      "빈 답변 개수: 0\n"
     ]
    }
   ],
   "source": [
    "# 앞서 정의한 preprocess_sentence 함수 사용\n",
    "\n",
    "# 1. questions와 answers 리스트에 전처리 적용\n",
    "print(\"전처리 시작...\")\n",
    "\n",
    "# 질문 전처리\n",
    "processed_questions = []\n",
    "for question in questions:\n",
    "    processed_q = preprocess_sentence(question)\n",
    "    processed_questions.append(processed_q)\n",
    "\n",
    "# 답변 전처리\n",
    "processed_answers = []\n",
    "for answer in answers:\n",
    "    processed_a = preprocess_sentence(answer)\n",
    "    processed_answers.append(processed_a)\n",
    "\n",
    "print(\"전처리 완료!\")\n",
    "\n",
    "# 2. 전처리 결과 확인\n",
    "print(f\"\\n전처리된 질문 개수: {len(processed_questions)}\")\n",
    "print(f\"전처리된 답변 개수: {len(processed_answers)}\")\n",
    "\n",
    "print(\"\\n=== 전처리 전후 비교 (첫 5개) ===\")\n",
    "for i in range(min(5, len(questions))):\n",
    "    print(f\"\\n[{i+1}번째]\")\n",
    "    print(f\"원본 질문: {questions[i]}\")\n",
    "    print(f\"전처리 질문: {processed_questions[i]}\")\n",
    "    print(f\"원본 답변: {answers[i]}\")\n",
    "    print(f\"전처리 답변: {processed_answers[i]}\")\n",
    "    print(\"-\" * 60)\n",
    "\n",
    "# 3. 빈 문장이나 너무 짧은 문장 확인\n",
    "empty_questions = [i for i, q in enumerate(processed_questions) if len(q.strip()) == 0]\n",
    "empty_answers = [i for i, a in enumerate(processed_answers) if len(a.strip()) == 0]\n",
    "\n",
    "print(f\"\\n빈 질문 개수: {len(empty_questions)}\")\n",
    "print(f\"빈 답변 개수: {len(empty_answers)}\")\n",
    "\n",
    "if empty_questions:\n",
    "    print(f\"빈 질문 인덱스: {empty_questions[:0]}\")  # 처음 10개만\n",
    "if empty_answers:\n",
    "    print(f\"빈 답변 인덱스: {empty_answers[:10]}\")    # 처음 10개만"
   ]
  },
  {
   "cell_type": "markdown",
   "metadata": {
    "id": "KfzGsk02SofB"
   },
   "source": [
    "### 긴 문장 제외 (20단어 초과 문장 없애기)"
   ]
  },
  {
   "cell_type": "code",
   "execution_count": 9,
   "metadata": {
    "colab": {
     "base_uri": "https://localhost:8080/",
     "height": 1000
    },
    "id": "Ekzp6LQ2VjNM",
    "outputId": "577a4a08-e9c6-422c-84dc-66fcf0a6276a"
   },
   "outputs": [
    {
     "name": "stdout",
     "output_type": "stream",
     "text": [
      "\n",
      "=== 질문 길이 분포 ===\n",
      "총 문장 수: 11823\n",
      "평균 길이: 3.59\n",
      "중간값: 3.00\n",
      "최대 길이: 15\n",
      "최소 길이: 1\n",
      "표준편차: 1.62\n",
      "분위수:\n",
      "  25%: 2.0\n",
      "  50%: 3.0\n",
      "  75%: 4.0\n",
      "  90%: 6.0\n",
      "  95%: 7.0\n",
      "  99%: 8.0\n",
      "\n",
      "=== 답변 길이 분포 ===\n",
      "총 문장 수: 11823\n",
      "평균 길이: 3.69\n",
      "중간값: 3.00\n",
      "최대 길이: 21\n",
      "최소 길이: 1\n",
      "표준편차: 1.86\n",
      "분위수:\n",
      "  25%: 2.0\n",
      "  50%: 3.0\n",
      "  75%: 5.0\n",
      "  90%: 6.0\n",
      "  95%: 7.0\n",
      "  99%: 10.0\n",
      "\n",
      "=== 질문 길이별 빈도 (상위 30개) ===\n",
      "길이  1:  625개 (  5.3%)\n",
      "길이  2: 2498개 ( 21.1%)\n",
      "길이  3: 3342개 ( 28.3%)\n",
      "길이  4: 2512개 ( 21.2%)\n",
      "길이  5: 1455개 ( 12.3%)\n",
      "길이  6:  754개 (  6.4%)\n",
      "길이  7:  361개 (  3.1%)\n",
      "길이  8:  163개 (  1.4%)\n",
      "길이  9:   70개 (  0.6%)\n",
      "길이 10:   25개 (  0.2%)\n",
      "길이 11:   10개 (  0.1%)\n",
      "길이 12:    7개 (  0.1%)\n",
      "길이 15:    1개 (  0.0%)\n",
      "\n",
      "=== 답변 길이별 빈도 (상위 30개) ===\n",
      "길이  1:  739개 (  6.3%)\n",
      "길이  2: 2472개 ( 20.9%)\n",
      "길이  3: 3117개 ( 26.4%)\n",
      "길이  4: 2384개 ( 20.2%)\n",
      "길이  5: 1436개 ( 12.1%)\n",
      "길이  6:  814개 (  6.9%)\n",
      "길이  7:  415개 (  3.5%)\n",
      "길이  8:  213개 (  1.8%)\n",
      "길이  9:   92개 (  0.8%)\n",
      "길이 10:   64개 (  0.5%)\n",
      "길이 11:   30개 (  0.3%)\n",
      "길이 12:   23개 (  0.2%)\n",
      "길이 13:    8개 (  0.1%)\n",
      "길이 14:    6개 (  0.1%)\n",
      "길이 15:    4개 (  0.0%)\n",
      "길이 16:    4개 (  0.0%)\n",
      "길이 20:    1개 (  0.0%)\n",
      "길이 21:    1개 (  0.0%)\n"
     ]
    },
    {
     "name": "stderr",
     "output_type": "stream",
     "text": [
      "/tmp/ipython-input-1957013160.py:74: UserWarning: Glyph 44600 (\\N{HANGUL SYLLABLE GIL}) missing from font(s) DejaVu Sans.\n",
      "  plt.tight_layout()\n",
      "/tmp/ipython-input-1957013160.py:74: UserWarning: Glyph 51060 (\\N{HANGUL SYLLABLE I}) missing from font(s) DejaVu Sans.\n",
      "  plt.tight_layout()\n",
      "/tmp/ipython-input-1957013160.py:74: UserWarning: Glyph 45800 (\\N{HANGUL SYLLABLE DAN}) missing from font(s) DejaVu Sans.\n",
      "  plt.tight_layout()\n",
      "/tmp/ipython-input-1957013160.py:74: UserWarning: Glyph 50612 (\\N{HANGUL SYLLABLE EO}) missing from font(s) DejaVu Sans.\n",
      "  plt.tight_layout()\n",
      "/tmp/ipython-input-1957013160.py:74: UserWarning: Glyph 49688 (\\N{HANGUL SYLLABLE SU}) missing from font(s) DejaVu Sans.\n",
      "  plt.tight_layout()\n",
      "/tmp/ipython-input-1957013160.py:74: UserWarning: Glyph 48712 (\\N{HANGUL SYLLABLE BIN}) missing from font(s) DejaVu Sans.\n",
      "  plt.tight_layout()\n",
      "/tmp/ipython-input-1957013160.py:74: UserWarning: Glyph 46020 (\\N{HANGUL SYLLABLE DO}) missing from font(s) DejaVu Sans.\n",
      "  plt.tight_layout()\n",
      "/tmp/ipython-input-1957013160.py:74: UserWarning: Glyph 51656 (\\N{HANGUL SYLLABLE JIL}) missing from font(s) DejaVu Sans.\n",
      "  plt.tight_layout()\n",
      "/tmp/ipython-input-1957013160.py:74: UserWarning: Glyph 47928 (\\N{HANGUL SYLLABLE MUN}) missing from font(s) DejaVu Sans.\n",
      "  plt.tight_layout()\n",
      "/tmp/ipython-input-1957013160.py:74: UserWarning: Glyph 48516 (\\N{HANGUL SYLLABLE BUN}) missing from font(s) DejaVu Sans.\n",
      "  plt.tight_layout()\n",
      "/tmp/ipython-input-1957013160.py:74: UserWarning: Glyph 54252 (\\N{HANGUL SYLLABLE PO}) missing from font(s) DejaVu Sans.\n",
      "  plt.tight_layout()\n",
      "/tmp/ipython-input-1957013160.py:74: UserWarning: Glyph 45813 (\\N{HANGUL SYLLABLE DAB}) missing from font(s) DejaVu Sans.\n",
      "  plt.tight_layout()\n",
      "/tmp/ipython-input-1957013160.py:74: UserWarning: Glyph 48320 (\\N{HANGUL SYLLABLE BYEON}) missing from font(s) DejaVu Sans.\n",
      "  plt.tight_layout()\n",
      "/tmp/ipython-input-1957013160.py:74: UserWarning: Glyph 48708 (\\N{HANGUL SYLLABLE BI}) missing from font(s) DejaVu Sans.\n",
      "  plt.tight_layout()\n",
      "/tmp/ipython-input-1957013160.py:74: UserWarning: Glyph 44368 (\\N{HANGUL SYLLABLE GYO}) missing from font(s) DejaVu Sans.\n",
      "  plt.tight_layout()\n",
      "/usr/local/lib/python3.12/dist-packages/IPython/core/pylabtools.py:151: UserWarning: Glyph 48712 (\\N{HANGUL SYLLABLE BIN}) missing from font(s) DejaVu Sans.\n",
      "  fig.canvas.print_figure(bytes_io, **kw)\n",
      "/usr/local/lib/python3.12/dist-packages/IPython/core/pylabtools.py:151: UserWarning: Glyph 46020 (\\N{HANGUL SYLLABLE DO}) missing from font(s) DejaVu Sans.\n",
      "  fig.canvas.print_figure(bytes_io, **kw)\n",
      "/usr/local/lib/python3.12/dist-packages/IPython/core/pylabtools.py:151: UserWarning: Glyph 51656 (\\N{HANGUL SYLLABLE JIL}) missing from font(s) DejaVu Sans.\n",
      "  fig.canvas.print_figure(bytes_io, **kw)\n",
      "/usr/local/lib/python3.12/dist-packages/IPython/core/pylabtools.py:151: UserWarning: Glyph 47928 (\\N{HANGUL SYLLABLE MUN}) missing from font(s) DejaVu Sans.\n",
      "  fig.canvas.print_figure(bytes_io, **kw)\n",
      "/usr/local/lib/python3.12/dist-packages/IPython/core/pylabtools.py:151: UserWarning: Glyph 44600 (\\N{HANGUL SYLLABLE GIL}) missing from font(s) DejaVu Sans.\n",
      "  fig.canvas.print_figure(bytes_io, **kw)\n",
      "/usr/local/lib/python3.12/dist-packages/IPython/core/pylabtools.py:151: UserWarning: Glyph 51060 (\\N{HANGUL SYLLABLE I}) missing from font(s) DejaVu Sans.\n",
      "  fig.canvas.print_figure(bytes_io, **kw)\n",
      "/usr/local/lib/python3.12/dist-packages/IPython/core/pylabtools.py:151: UserWarning: Glyph 48516 (\\N{HANGUL SYLLABLE BUN}) missing from font(s) DejaVu Sans.\n",
      "  fig.canvas.print_figure(bytes_io, **kw)\n",
      "/usr/local/lib/python3.12/dist-packages/IPython/core/pylabtools.py:151: UserWarning: Glyph 54252 (\\N{HANGUL SYLLABLE PO}) missing from font(s) DejaVu Sans.\n",
      "  fig.canvas.print_figure(bytes_io, **kw)\n",
      "/usr/local/lib/python3.12/dist-packages/IPython/core/pylabtools.py:151: UserWarning: Glyph 45800 (\\N{HANGUL SYLLABLE DAN}) missing from font(s) DejaVu Sans.\n",
      "  fig.canvas.print_figure(bytes_io, **kw)\n",
      "/usr/local/lib/python3.12/dist-packages/IPython/core/pylabtools.py:151: UserWarning: Glyph 50612 (\\N{HANGUL SYLLABLE EO}) missing from font(s) DejaVu Sans.\n",
      "  fig.canvas.print_figure(bytes_io, **kw)\n",
      "/usr/local/lib/python3.12/dist-packages/IPython/core/pylabtools.py:151: UserWarning: Glyph 49688 (\\N{HANGUL SYLLABLE SU}) missing from font(s) DejaVu Sans.\n",
      "  fig.canvas.print_figure(bytes_io, **kw)\n",
      "/usr/local/lib/python3.12/dist-packages/IPython/core/pylabtools.py:151: UserWarning: Glyph 45813 (\\N{HANGUL SYLLABLE DAB}) missing from font(s) DejaVu Sans.\n",
      "  fig.canvas.print_figure(bytes_io, **kw)\n",
      "/usr/local/lib/python3.12/dist-packages/IPython/core/pylabtools.py:151: UserWarning: Glyph 48320 (\\N{HANGUL SYLLABLE BYEON}) missing from font(s) DejaVu Sans.\n",
      "  fig.canvas.print_figure(bytes_io, **kw)\n",
      "/usr/local/lib/python3.12/dist-packages/IPython/core/pylabtools.py:151: UserWarning: Glyph 48708 (\\N{HANGUL SYLLABLE BI}) missing from font(s) DejaVu Sans.\n",
      "  fig.canvas.print_figure(bytes_io, **kw)\n",
      "/usr/local/lib/python3.12/dist-packages/IPython/core/pylabtools.py:151: UserWarning: Glyph 44368 (\\N{HANGUL SYLLABLE GYO}) missing from font(s) DejaVu Sans.\n",
      "  fig.canvas.print_figure(bytes_io, **kw)\n"
     ]
    },
    {
     "data": {
      "image/png": "[encoded data removed]",
      "text/plain": [
       "<Figure size 1500x500 with 3 Axes>"
      ]
     },
     "metadata": {},
     "output_type": "display_data"
    },
    {
     "name": "stdout",
     "output_type": "stream",
     "text": [
      "\n",
      "=== 질문 길이 범위별 분포 ===\n",
      "1-5 단어    : 10432개 ( 88.2%)\n",
      "6-10 단어   : 1373개 ( 11.6%)\n",
      "11-15 단어  :   18개 (  0.2%)\n",
      "16-20 단어  :    0개 (  0.0%)\n",
      "21-30 단어  :    0개 (  0.0%)\n",
      "31+ 단어    :    0개 (  0.0%)\n",
      "\n",
      "=== 답변 길이 범위별 분포 ===\n",
      "1-5 단어    : 10148개 ( 85.8%)\n",
      "6-10 단어   : 1598개 ( 13.5%)\n",
      "11-15 단어  :   71개 (  0.6%)\n",
      "16-20 단어  :    5개 (  0.0%)\n",
      "21-30 단어  :    1개 (  0.0%)\n",
      "31+ 단어    :    0개 (  0.0%)\n",
      "\n",
      "=== 특이사항 체크 ===\n",
      "빈 질문: 0개\n",
      "빈 답변: 0개\n",
      "20단어 초과 질문: 0개\n",
      "20단어 초과 답변: 1개\n"
     ]
    }
   ],
   "source": [
    "import numpy as np\n",
    "import matplotlib.pyplot as plt\n",
    "\n",
    "# 1. 기본 길이 분포 계산\n",
    "def analyze_length_distribution(sentences, name):\n",
    "    \"\"\"문장들의 길이 분포를 분석하는 함수\"\"\"\n",
    "    lengths = [len(sentence.split()) for sentence in sentences]  # 공백 기준 단어 수\n",
    "\n",
    "    print(f\"\\n=== {name} 길이 분포 ===\")\n",
    "    print(f\"총 문장 수: {len(sentences)}\")\n",
    "    print(f\"평균 길이: {np.mean(lengths):.2f}\")\n",
    "    print(f\"중간값: {np.median(lengths):.2f}\")\n",
    "    print(f\"최대 길이: {max(lengths)}\")\n",
    "    print(f\"최소 길이: {min(lengths)}\")\n",
    "    print(f\"표준편차: {np.std(lengths):.2f}\")\n",
    "\n",
    "    # 분위수 정보\n",
    "    percentiles = [25, 50, 75, 90, 95, 99]\n",
    "    print(\"분위수:\")\n",
    "    for p in percentiles:\n",
    "        print(f\"  {p}%: {np.percentile(lengths, p):.1f}\")\n",
    "\n",
    "    return lengths\n",
    "\n",
    "# 질문과 답변 길이 분포 분석\n",
    "question_lengths = analyze_length_distribution(processed_questions, \"질문\")\n",
    "answer_lengths = analyze_length_distribution(processed_answers, \"답변\")\n",
    "\n",
    "# 2. 길이별 빈도 분포\n",
    "def show_frequency_distribution(lengths, name, max_show=30):\n",
    "    \"\"\"길이별 빈도 분포를 보여주는 함수\"\"\"\n",
    "    print(f\"\\n=== {name} 길이별 빈도 (상위 {max_show}개) ===\")\n",
    "\n",
    "    from collections import Counter\n",
    "    length_counts = Counter(lengths)\n",
    "\n",
    "    for length in sorted(length_counts.keys())[:max_show]:\n",
    "        count = length_counts[length]\n",
    "        percentage = (count / len(lengths)) * 100\n",
    "        print(f\"길이 {length:2d}: {count:4d}개 ({percentage:5.1f}%)\")\n",
    "\n",
    "show_frequency_distribution(question_lengths, \"질문\")\n",
    "show_frequency_distribution(answer_lengths, \"답변\")\n",
    "\n",
    "# 3. 시각화 (matplotlib 사용)\n",
    "plt.figure(figsize=(15, 5))\n",
    "\n",
    "# 질문 길이 히스토그램\n",
    "plt.subplot(1, 3, 1)\n",
    "plt.hist(question_lengths, bins=30, alpha=0.7, color='blue', edgecolor='black')\n",
    "plt.title('질문 길이 분포')\n",
    "plt.xlabel('길이 (단어 수)')\n",
    "plt.ylabel('빈도')\n",
    "plt.grid(True, alpha=0.3)\n",
    "\n",
    "# 답변 길이 히스토그램\n",
    "plt.subplot(1, 3, 2)\n",
    "plt.hist(answer_lengths, bins=30, alpha=0.7, color='red', edgecolor='black')\n",
    "plt.title('답변 길이 분포')\n",
    "plt.xlabel('길이 (단어 수)')\n",
    "plt.ylabel('빈도')\n",
    "plt.grid(True, alpha=0.3)\n",
    "\n",
    "# 질문 vs 답변 길이 비교\n",
    "plt.subplot(1, 3, 3)\n",
    "plt.hist(question_lengths, bins=20, alpha=0.5, label='질문', color='blue')\n",
    "plt.hist(answer_lengths, bins=20, alpha=0.5, label='답변', color='red')\n",
    "plt.title('질문 vs 답변 길이 비교')\n",
    "plt.xlabel('길이 (단어 수)')\n",
    "plt.ylabel('빈도')\n",
    "plt.legend()\n",
    "plt.grid(True, alpha=0.3)\n",
    "\n",
    "plt.tight_layout()\n",
    "plt.show()\n",
    "\n",
    "# 4. 특정 길이 범위의 문장 개수\n",
    "def count_by_length_range(lengths, name):\n",
    "    \"\"\"길이 범위별 문장 개수를 계산\"\"\"\n",
    "    print(f\"\\n=== {name} 길이 범위별 분포 ===\")\n",
    "    ranges = [(1, 5), (6, 10), (11, 15), (16, 20), (21, 30), (31, float('inf'))]\n",
    "\n",
    "    for start, end in ranges:\n",
    "        if end == float('inf'):\n",
    "            count = sum(1 for l in lengths if l >= start)\n",
    "            range_str = f\"{start}+ 단어\"\n",
    "        else:\n",
    "            count = sum(1 for l in lengths if start <= l <= end)\n",
    "            range_str = f\"{start}-{end} 단어\"\n",
    "\n",
    "        percentage = (count / len(lengths)) * 100\n",
    "        print(f\"{range_str:10s}: {count:4d}개 ({percentage:5.1f}%)\")\n",
    "\n",
    "count_by_length_range(question_lengths, \"질문\")\n",
    "count_by_length_range(answer_lengths, \"답변\")\n",
    "\n",
    "# 5. 빈 문장이나 너무 긴 문장 체크\n",
    "print(f\"\\n=== 특이사항 체크 ===\")\n",
    "empty_questions = sum(1 for s in processed_questions if len(s.strip()) == 0)\n",
    "empty_answers = sum(1 for s in processed_answers if len(s.strip()) == 0)\n",
    "print(f\"빈 질문: {empty_questions}개\")\n",
    "print(f\"빈 답변: {empty_answers}개\")\n",
    "\n",
    "long_questions = sum(1 for l in question_lengths if l > 20)\n",
    "long_answers = sum(1 for l in answer_lengths if l > 20)\n",
    "print(f\"20단어 초과 질문: {long_questions}개\")\n",
    "print(f\"20단어 초과 답변: {long_answers}개\")"
   ]
  },
  {
   "cell_type": "markdown",
   "metadata": {
    "id": "p8IyIovpS0ly"
   },
   "source": [
    "## Step 3. 데이터 토큰화"
   ]
  },
  {
   "cell_type": "code",
   "execution_count": 10,
   "metadata": {
    "id": "gsL8pK-OUGJH"
   },
   "outputs": [],
   "source": [
    "# !pip install sentencepiece"
   ]
  },
  {
   "cell_type": "code",
   "execution_count": 11,
   "metadata": {
    "id": "ogSKbQ12VAY7"
   },
   "outputs": [],
   "source": [
    "import sentencepiece as spm\n",
    "import io"
   ]
  },
  {
   "cell_type": "code",
   "execution_count": 12,
   "metadata": {
    "colab": {
     "base_uri": "https://localhost:8080/"
    },
    "id": "ZzpGM8ghftqQ",
    "outputId": "7218117a-7766-42df-cab8-5b5ea68f1087"
   },
   "outputs": [
    {
     "name": "stdout",
     "output_type": "stream",
     "text": [
      "SentencePiece 모델 훈련 중...\n",
      "SentencePiece 모델 로드 완료\n"
     ]
    }
   ],
   "source": [
    "# 수정된 셀 9: SentencePiece 모델을 먼저 생성하고 로드한 후 사용\n",
    "\n",
    "def train_sentencepiece_model(sentences, model_name='chatbot_sp', vocab_size=5000):\n",
    "    \"\"\"SentencePiece 모델 훈련 함수\"\"\"\n",
    "    with open('temp_corpus.txt', 'w', encoding='utf-8') as f:\n",
    "        for sentence in sentences:\n",
    "            f.write(sentence + '\\n')\n",
    "\n",
    "    spm.SentencePieceTrainer.train(\n",
    "        input='temp_corpus.txt',\n",
    "        model_prefix=model_name,\n",
    "        vocab_size=vocab_size,\n",
    "        character_coverage=0.9995,\n",
    "        model_type='bpe',\n",
    "        unk_piece='<unk>',\n",
    "        bos_piece='<start>',\n",
    "        eos_piece='<end>',\n",
    "        pad_piece='<pad>'\n",
    "    )\n",
    "    return f'{model_name}.model'\n",
    "\n",
    "# 1. 먼저 SentencePiece 모델 훈련 및 로드\n",
    "print(\"SentencePiece 모델 훈련 중...\")\n",
    "all_text = processed_questions + processed_answers\n",
    "model_path = train_sentencepiece_model(all_text)\n",
    "\n",
    "# 2. SentencePiece 프로세서 초기화\n",
    "sp = spm.SentencePieceProcessor()\n",
    "sp.load(model_path)\n",
    "print(\"SentencePiece 모델 로드 완료\")"
   ]
  },
  {
   "cell_type": "code",
   "execution_count": 13,
   "metadata": {
    "id": "iuRilnf3hz3h"
   },
   "outputs": [],
   "source": [
    "def sp_tokenize(sentence):\n",
    "    \"\"\"SentencePiece를 사용한 토큰화 함수\"\"\"\n",
    "    return sp.encode_as_pieces(sentence)"
   ]
  },
  {
   "cell_type": "code",
   "execution_count": 14,
   "metadata": {
    "colab": {
     "base_uri": "https://localhost:8080/"
    },
    "id": "AV3rHAZAUIUU",
    "outputId": "d9617fb1-ca48-44a8-895e-94f7e2dfdc28"
   },
   "outputs": [
    {
     "name": "stdout",
     "output_type": "stream",
     "text": [
      "코퍼스 구축 시작...\n",
      "원본 데이터 개수: 11823\n",
      "필터링 후 데이터 개수: 7717\n",
      "제거된 데이터 개수: 4106\n",
      "\n",
      "=== 코퍼스 구축 결과 ===\n",
      "질문 코퍼스 크기: 7717\n",
      "답변 코퍼스 크기: 7717\n",
      "\n",
      "=== 첫 5개 예시 ===\n",
      "\n",
      "[1]\n",
      "질문 토큰: ['▁1', '2', '시', '▁땡', '!']\n",
      "답변 토큰: ['▁하루', '가', '▁또', '▁가', '네요', '.']\n",
      "질문 복원: 12시 땡!\n",
      "답변 복원: 하루가 또 가네요.\n",
      "\n",
      "[2]\n",
      "질문 토큰: ['▁1', '지', '망', '▁학교', '▁떨어졌어']\n",
      "답변 토큰: ['▁위로해', '▁드', '립니다', '.']\n",
      "질문 복원: 1지망 학교 떨어졌어\n",
      "답변 복원: 위로해 드립니다.\n",
      "\n",
      "[3]\n",
      "질문 토큰: ['▁3', '박', '4', '일', '▁놀러가고', '▁싶다']\n",
      "답변 토큰: ['▁여행', '은', '▁언제나', '▁좋죠', '.']\n",
      "질문 복원: 3박4일 놀러가고 싶다\n",
      "답변 복원: 여행은 언제나 좋죠.\n",
      "\n",
      "[4]\n",
      "질문 토큰: ['▁', 'p', 'p', 'l', '▁심', '하네']\n",
      "답변 토큰: ['▁눈', '살', '이', '▁찌', '푸', '려', '지', '죠', '.']\n",
      "질문 복원: ppl 심하네\n",
      "답변 복원: 눈살이 찌푸려지죠.\n",
      "\n",
      "[5]\n",
      "질문 토큰: ['▁s', 'd', '카', '드', '▁망', '가', '졌어']\n",
      "답변 토큰: ['▁다시', '▁새로', '▁사는', '▁게', '▁마음', '▁편', '해요', '.']\n",
      "질문 복원: sd카드 망가졌어\n",
      "답변 복원: 다시 새로 사는 게 마음 편해요.\n",
      "\n",
      "=== 토큰 길이 통계 ===\n",
      "질문 길이 - 평균: 6.20, 최대: 20, 최소: 1\n",
      "답변 길이 - 평균: 6.67, 최대: 20, 최소: 1\n"
     ]
    }
   ],
   "source": [
    "def build_corpus(source_sentences, target_sentences, tokenizer, max_length=20):\n",
    "    \"\"\"\n",
    "    코퍼스를 구축하는 함수\n",
    "\n",
    "    Args:\n",
    "        source_sentences: 소스 문장 리스트 (질문)\n",
    "        target_sentences: 타겟 문장 리스트 (답변)\n",
    "        tokenizer: 토크나이저 함수 (sentencepiece)\n",
    "        max_length: 최대 토큰 길이 (이보다 긴 문장 제외)\n",
    "\n",
    "    Returns:\n",
    "        tuple: (processed_sources, processed_targets) - 토큰화된 문장들\n",
    "    \"\"\"\n",
    "\n",
    "    processed_sources = []\n",
    "    processed_targets = []\n",
    "\n",
    "    # 중복 체크를 위한 set\n",
    "    seen_sources = set()\n",
    "    seen_targets = set()\n",
    "\n",
    "    print(f\"원본 데이터 개수: {len(source_sentences)}\")\n",
    "\n",
    "    for i, (source, target) in enumerate(zip(source_sentences, target_sentences)):\n",
    "        # 1. 전처리\n",
    "        processed_source = preprocess_sentence(source)\n",
    "        processed_target = preprocess_sentence(target)\n",
    "\n",
    "        # 빈 문장 제거\n",
    "        if not processed_source.strip() or not processed_target.strip():\n",
    "            continue\n",
    "\n",
    "        # 2. 토큰화\n",
    "        source_tokens = tokenizer(processed_source)\n",
    "        target_tokens = tokenizer(processed_target)\n",
    "\n",
    "        # 3. 길이 체크 (최대 길이 이상인 문장 제외)\n",
    "        if len(source_tokens) > max_length or len(target_tokens) > max_length:\n",
    "            continue\n",
    "\n",
    "        # 4. 중복 체크 (소스와 타겟을 각각 체크)\n",
    "        source_str = ' '.join(source_tokens)\n",
    "        target_str = ' '.join(target_tokens)\n",
    "\n",
    "        # 소스나 타겟 중 하나라도 중복이면 해당 쌍 전체를 제외\n",
    "        if source_str in seen_sources or target_str in seen_targets:\n",
    "            continue\n",
    "\n",
    "        # 중복이 아니면 추가\n",
    "        seen_sources.add(source_str)\n",
    "        seen_targets.add(target_str)\n",
    "        processed_sources.append(source_tokens)\n",
    "        processed_targets.append(target_tokens)\n",
    "\n",
    "    print(f\"필터링 후 데이터 개수: {len(processed_sources)}\")\n",
    "    print(f\"제거된 데이터 개수: {len(source_sentences) - len(processed_sources)}\")\n",
    "\n",
    "    return processed_sources, processed_targets\n",
    "\n",
    "# 4. 함수 실행\n",
    "print(\"코퍼스 구축 시작...\")\n",
    "que_corpus, ans_corpus = build_corpus(\n",
    "    source_sentences=processed_questions,  # 또는 questions (전처리된 것 사용)\n",
    "    target_sentences=processed_answers,    # 또는 answers (전처리된 것 사용)\n",
    "    tokenizer=sp_tokenize,\n",
    "    max_length=20  # 최대 토큰 길이 설정\n",
    ")\n",
    "\n",
    "# 결과 확인\n",
    "print(f\"\\n=== 코퍼스 구축 결과 ===\")\n",
    "print(f\"질문 코퍼스 크기: {len(que_corpus)}\")\n",
    "print(f\"답변 코퍼스 크기: {len(ans_corpus)}\")\n",
    "\n",
    "print(f\"\\n=== 첫 5개 예시 ===\")\n",
    "for i in range(min(5, len(que_corpus))):\n",
    "    print(f\"\\n[{i+1}]\")\n",
    "    print(f\"질문 토큰: {que_corpus[i]}\")\n",
    "    print(f\"답변 토큰: {ans_corpus[i]}\")\n",
    "    print(f\"질문 복원: {sp.decode_pieces(que_corpus[i])}\")\n",
    "    print(f\"답변 복원: {sp.decode_pieces(ans_corpus[i])}\")\n",
    "\n",
    "# 토큰 길이 분포 확인\n",
    "import numpy as np\n",
    "que_lengths = [len(tokens) for tokens in que_corpus]\n",
    "ans_lengths = [len(tokens) for tokens in ans_corpus]\n",
    "\n",
    "print(f\"\\n=== 토큰 길이 통계 ===\")\n",
    "print(f\"질문 길이 - 평균: {np.mean(que_lengths):.2f}, 최대: {max(que_lengths)}, 최소: {min(que_lengths)}\")\n",
    "print(f\"답변 길이 - 평균: {np.mean(ans_lengths):.2f}, 최대: {max(ans_lengths)}, 최소: {min(ans_lengths)}\")"
   ]
  },
  {
   "cell_type": "markdown",
   "metadata": {
    "id": "-IqXgckyS4_C"
   },
   "source": [
    "## Step 4. Augmentation"
   ]
  },
  {
   "cell_type": "code",
   "execution_count": 15,
   "metadata": {
    "id": "Q95U2QN5YkbF"
   },
   "outputs": [],
   "source": [
    "from gensim.models import KeyedVectors\n",
    "\n",
    "kv = KeyedVectors.load_word2vec_format(\"ko.vec\", binary=False)"
   ]
  },
  {
   "cell_type": "code",
   "execution_count": 16,
   "metadata": {
    "colab": {
     "base_uri": "https://localhost:8080/"
    },
    "id": "wEySOPxqZzma",
    "outputId": "b2bd6a52-c0fa-4d2b-fefd-5b8004b421e7"
   },
   "outputs": [
    {
     "name": "stdout",
     "output_type": "stream",
     "text": [
      "=== 데이터 3배 증강 시작 ===\n",
      "원본 데이터 크기: 7717\n",
      "\n",
      "1단계: 질문 증강\n",
      "문장 증강 중...\n"
     ]
    },
    {
     "name": "stderr",
     "output_type": "stream",
     "text": [
      "100%|██████████| 7717/7717 [00:16<00:00, 461.12it/s]\n"
     ]
    },
    {
     "name": "stdout",
     "output_type": "stream",
     "text": [
      "\n",
      "2단계: 답변 증강\n",
      "문장 증강 중...\n"
     ]
    },
    {
     "name": "stderr",
     "output_type": "stream",
     "text": [
      "100%|██████████| 7717/7717 [00:14<00:00, 521.41it/s]\n"
     ]
    },
    {
     "name": "stdout",
     "output_type": "stream",
     "text": [
      "\n",
      "3단계: 3배 데이터셋 구성\n",
      "\n",
      "=== 증강 완료 ===\n",
      "원본 데이터: 7717쌍\n",
      "최종 데이터: 23151쌍\n",
      "증강 비율: 3.0배\n",
      "\n",
      "4단계: 토큰화\n"
     ]
    },
    {
     "name": "stderr",
     "output_type": "stream",
     "text": [
      "100%|██████████| 23151/23151 [00:00<00:00, 72629.85it/s]\n",
      "100%|██████████| 23151/23151 [00:00<00:00, 72002.86it/s]"
     ]
    },
    {
     "name": "stdout",
     "output_type": "stream",
     "text": [
      "\n",
      "=== 최종 결과 ===\n",
      "최종 질문 코퍼스: 23151\n",
      "최종 답변 코퍼스: 23151\n",
      "\n",
      "=== 샘플 확인 (첫 3개 세트) ===\n",
      "\n",
      "--- 1번째 샘플 ---\n",
      "[원본] Q: ▁1 2 시 ▁땡 !\n",
      "[원본] A: ▁하루 가 ▁또 ▁가 네요 .\n",
      "[증강Q] Q: ▁1 2 시가 ▁땡 !\n",
      "[원본A] A: ▁하루 가 ▁또 ▁가 네요 .\n",
      "[원본Q] Q: ▁1 2 시 ▁땡 !\n",
      "[증강A] A: ▁하루 로 ▁또 ▁가 네요 .\n",
      "\n",
      "--- 2번째 샘플 ---\n",
      "[원본] Q: ▁1 지 망 ▁학교 ▁떨어졌어\n",
      "[원본] A: ▁위로해 ▁드 립니다 .\n",
      "[증강Q] Q: ▁1 지 오트 ▁학교 ▁떨어졌어\n",
      "[원본A] A: ▁위로해 ▁드 립니다 .\n",
      "[원본Q] Q: ▁1 지 망 ▁학교 ▁떨어졌어\n",
      "[증강A] A: ▁위로해 ▁드 립니다 희영\n",
      "\n",
      "--- 3번째 샘플 ---\n",
      "[원본] Q: ▁3 박 4 일 ▁놀러가고 ▁싶다\n",
      "[원본] A: ▁여행 은 ▁언제나 ▁좋죠 .\n",
      "[증강Q] Q: ▁3 박이 4 일 ▁놀러가고 ▁싶다\n",
      "[원본A] A: ▁여행 은 ▁언제나 ▁좋죠 .\n",
      "[원본Q] Q: ▁3 박 4 일 ▁놀러가고 ▁싶다\n",
      "[증강A] A: ▁여행 은 ▁언제나 ▁좋죠 희영\n",
      "\n",
      "que_corpus와 ans_corpus가 23151개로 업데이트되었습니다!\n"
     ]
    },
    {
     "name": "stderr",
     "output_type": "stream",
     "text": [
      "\n"
     ]
    }
   ],
   "source": [
    "import random\n",
    "from tqdm import tqdm\n",
    "\n",
    "def lexical_sub(sentence, wv):\n",
    "    \"\"\"개선된 lexical substitution 함수\"\"\"\n",
    "    tokens = sentence.split()\n",
    "    valid_tokens = [tok for tok in tokens if tok in wv]\n",
    "\n",
    "    if not valid_tokens:\n",
    "        return sentence\n",
    "\n",
    "    selected_tok = random.choice(valid_tokens)\n",
    "\n",
    "    try:\n",
    "        similar_words = wv.most_similar(selected_tok, topn=5)\n",
    "        similar_word = random.choice(similar_words)[0]\n",
    "        new_sentence = \" \".join([similar_word if tok == selected_tok else tok for tok in tokens])\n",
    "        return new_sentence\n",
    "    except:\n",
    "        return sentence\n",
    "\n",
    "def augment_sentences(sentences, wv):\n",
    "    \"\"\"문장 리스트를 증강하는 함수\"\"\"\n",
    "    augmented = []\n",
    "    print(\"문장 증강 중...\")\n",
    "\n",
    "    for sentence in tqdm(sentences):\n",
    "        if isinstance(sentence, list):  # 토큰화된 문장인 경우\n",
    "            sentence_str = ' '.join(sentence)\n",
    "            aug_sentence_str = lexical_sub(sentence_str, wv)\n",
    "            aug_sentence = aug_sentence_str.split()\n",
    "        else:  # 문자열인 경우\n",
    "            aug_sentence = lexical_sub(sentence, wv)\n",
    "\n",
    "        augmented.append(aug_sentence)\n",
    "\n",
    "    return augmented\n",
    "\n",
    "# 데이터 3배 증강 실행\n",
    "print(\"=== 데이터 3배 증강 시작 ===\")\n",
    "\n",
    "# 원본 데이터 (토큰화된 상태라면 문자열로 변환)\n",
    "if isinstance(que_corpus[0], list):\n",
    "    que_strings = [' '.join(tokens) for tokens in que_corpus]\n",
    "    ans_strings = [' '.join(tokens) for tokens in ans_corpus]\n",
    "else:\n",
    "    que_strings = que_corpus.copy()\n",
    "    ans_strings = ans_corpus.copy()\n",
    "\n",
    "print(f\"원본 데이터 크기: {len(que_strings)}\")\n",
    "\n",
    "# 1. 질문 증강\n",
    "print(\"\\n1단계: 질문 증강\")\n",
    "augmented_questions = augment_sentences(que_strings, kv)\n",
    "\n",
    "# 2. 답변 증강\n",
    "print(\"\\n2단계: 답변 증강\")\n",
    "augmented_answers = augment_sentences(ans_strings, kv)\n",
    "\n",
    "# 3. 3배 확장된 데이터셋 생성\n",
    "print(\"\\n3단계: 3배 데이터셋 구성\")\n",
    "\n",
    "# 최종 데이터 구성\n",
    "final_questions = []\n",
    "final_answers = []\n",
    "\n",
    "# 원본 데이터\n",
    "final_questions.extend(que_strings)\n",
    "final_answers.extend(ans_strings)\n",
    "\n",
    "# 증강된 질문 + 원본 답변\n",
    "final_questions.extend(augmented_questions)\n",
    "final_answers.extend(ans_strings)  # 원본 답변 재사용\n",
    "\n",
    "# 원본 질문 + 증강된 답변\n",
    "final_questions.extend(que_strings)  # 원본 질문 재사용\n",
    "final_answers.extend(augmented_answers)\n",
    "\n",
    "print(f\"\\n=== 증강 완료 ===\")\n",
    "print(f\"원본 데이터: {len(que_strings)}쌍\")\n",
    "print(f\"최종 데이터: {len(final_questions)}쌍\")\n",
    "print(f\"증강 비율: {len(final_questions) / len(que_strings):.1f}배\")\n",
    "\n",
    "# 4. 토큰화 (필요한 경우)\n",
    "print(\"\\n4단계: 토큰화\")\n",
    "if hasattr(sp, 'encode_as_pieces'):  # SentencePiece 토크나이저가 있는 경우\n",
    "    final_que_corpus = [sp.encode_as_pieces(q) for q in tqdm(final_questions)]\n",
    "    final_ans_corpus = [sp.encode_as_pieces(a) for a in tqdm(final_answers)]\n",
    "else:  # 간단한 공백 토큰화\n",
    "    final_que_corpus = [q.split() for q in final_questions]\n",
    "    final_ans_corpus = [a.split() for a in final_answers]\n",
    "\n",
    "# 5. 결과 확인\n",
    "print(f\"\\n=== 최종 결과 ===\")\n",
    "print(f\"최종 질문 코퍼스: {len(final_que_corpus)}\")\n",
    "print(f\"최종 답변 코퍼스: {len(final_ans_corpus)}\")\n",
    "\n",
    "print(f\"\\n=== 샘플 확인 (첫 3개 세트) ===\")\n",
    "original_size = len(que_strings)\n",
    "\n",
    "for i in range(3):\n",
    "    print(f\"\\n--- {i+1}번째 샘플 ---\")\n",
    "    # 원본\n",
    "    print(f\"[원본] Q: {final_questions[i]}\")\n",
    "    print(f\"[원본] A: {final_answers[i]}\")\n",
    "\n",
    "    # 증강된 질문 + 원본 답변\n",
    "    print(f\"[증강Q] Q: {final_questions[original_size + i]}\")\n",
    "    print(f\"[원본A] A: {final_answers[original_size + i]}\")\n",
    "\n",
    "    # 원본 질문 + 증강된 답변\n",
    "    print(f\"[원본Q] Q: {final_questions[2*original_size + i]}\")\n",
    "    print(f\"[증강A] A: {final_answers[2*original_size + i]}\")\n",
    "\n",
    "# 최종 변수 업데이트\n",
    "que_corpus = final_que_corpus\n",
    "ans_corpus = final_ans_corpus\n",
    "\n",
    "print(f\"\\nque_corpus와 ans_corpus가 {len(que_corpus)}개로 업데이트되었습니다!\")"
   ]
  },
  {
   "cell_type": "markdown",
   "metadata": {
    "id": "AxyBdXJ-TAQR"
   },
   "source": [
    "## Step 5. 데이터 벡터화"
   ]
  },
  {
   "cell_type": "code",
   "execution_count": 17,
   "metadata": {
    "colab": {
     "base_uri": "https://localhost:8080/"
    },
    "id": "tlj5Ponga3B8",
    "outputId": "6844a62c-80ac-43d3-8d3a-8fa2cb766ba2"
   },
   "outputs": [
    {
     "name": "stdout",
     "output_type": "stream",
     "text": [
      "=== 타겟 데이터에 특수 토큰 추가 ===\n",
      "원본 답변 예시: ['▁하루', '▁가', '▁또', '▁가', '▁', '네요', '▁.']\n",
      "토큰 추가 후: ['<start>', '▁하루', '▁가', '▁또', '▁가', '▁', '네요', '▁.', '<end>']\n",
      "처리된 답변 데이터 수: 23151\n",
      "\n",
      "=== 전체 단어 사전 구축 ===\n",
      "전체 토큰 수: 395168\n",
      "고유 토큰 수: 4401\n",
      "최종 어휘 크기: 4403\n",
      "특수 토큰: ['<pad>', '<unk>', '<start>', '<end>']\n",
      "가장 빈도 높은 토큰 10개: ['▁', '<start>', '<end>', '▁.', '▁이', '?', '▁다', '▁거예요', '▁나', '▁지']\n",
      "\n",
      "=== 시퀀스 길이 정보 ===\n",
      "질문 최대 길이: 27\n",
      "답변 최대 길이: 31\n",
      "\n",
      "=== 벡터화 진행 ===\n",
      "enc_train 형태: (23151, 27)\n",
      "dec_train 형태: (23151, 31)\n",
      "\n",
      "=== 벡터화 결과 확인 ===\n",
      "\n",
      "[1번째 예시]\n",
      "원본 질문: ['▁1', '▁2', '▁시', '▁땡', '▁', '!']\n",
      "벡터화된 질문: [ 285  286   84 2942    4  141    0    0    0    0    0    0    0    0\n",
      "    0    0    0    0    0    0    0    0    0    0    0    0    0]\n",
      "원본 답변: ['<start>', '▁하루', '▁가', '▁또', '▁가', '▁', '네요', '▁.', '<end>']\n",
      "벡터화된 답변: [  2 376  14  88  14   4  64   5   3   0   0   0   0   0   0   0   0   0\n",
      "   0   0   0   0   0   0   0   0   0   0   0   0   0]\n",
      "복원된 질문: ['▁1', '▁2', '▁시', '▁땡', '▁', '!']\n",
      "복원된 답변: ['<start>', '▁하루', '▁가', '▁또', '▁가', '▁', '네요', '▁.', '<end>']\n",
      "\n",
      "[2번째 예시]\n",
      "원본 질문: ['▁1', '▁지', '▁망', '▁학교', '▁떨어졌어']\n",
      "벡터화된 질문: [ 285   11  465  988 2346    0    0    0    0    0    0    0    0    0\n",
      "    0    0    0    0    0    0    0    0    0    0    0    0    0]\n",
      "원본 답변: ['<start>', '▁위로해', '▁드', '▁', '립니다', '▁.', '<end>']\n",
      "벡터화된 답변: [   2 2560  263    4 1833    5    3    0    0    0    0    0    0    0\n",
      "    0    0    0    0    0    0    0    0    0    0    0    0    0    0\n",
      "    0    0    0]\n",
      "복원된 질문: ['▁1', '▁지', '▁망', '▁학교', '▁떨어졌어']\n",
      "복원된 답변: ['<start>', '▁위로해', '▁드', '▁', '립니다', '▁.', '<end>']\n",
      "\n",
      "[3번째 예시]\n",
      "원본 질문: ['▁3', '▁', '박', '▁4', '▁일', '▁놀러가고', '▁싶다']\n",
      "벡터화된 질문: [ 334    4  975  624   44 2943  154    0    0    0    0    0    0    0\n",
      "    0    0    0    0    0    0    0    0    0    0    0    0    0]\n",
      "원본 답변: ['<start>', '▁여행', '▁은', '▁언제나', '▁좋죠', '▁.', '<end>']\n",
      "벡터화된 답변: [   2  421   37 1122  328    5    3    0    0    0    0    0    0    0\n",
      "    0    0    0    0    0    0    0    0    0    0    0    0    0    0\n",
      "    0    0    0]\n",
      "복원된 질문: ['▁3', '▁', '박', '▁4', '▁일', '▁놀러가고', '▁싶다']\n",
      "복원된 답변: ['<start>', '▁여행', '▁은', '▁언제나', '▁좋죠', '▁.', '<end>']\n",
      "\n",
      "=== 최종 데이터 정보 ===\n",
      "어휘 크기: 4403\n",
      "훈련 데이터 수: 23151\n",
      "인코더 입력 크기: (23151, 27)\n",
      "디코더 입력 크기: (23151, 31)\n",
      "질문 최대 길이: 27\n",
      "답변 최대 길이: 31\n",
      "\n",
      "vocab_to_idx와 idx_to_vocab 딕셔너리가 생성되었습니다.\n",
      "이는 나중에 모델 예측 결과를 텍스트로 변환할 때 필요합니다.\n"
     ]
    }
   ],
   "source": [
    "from collections import Counter\n",
    "import numpy as np\n",
    "\n",
    "# 1. 타겟 데이터에 <start>와 <end> 토큰 추가\n",
    "print(\"=== 타겟 데이터에 특수 토큰 추가 ===\")\n",
    "\n",
    "# ans_corpus에 <start>와 <end> 토큰 추가\n",
    "ans_corpus_with_tokens = []\n",
    "for answer in ans_corpus:\n",
    "    # 각 답변에 시작과 종료 토큰 추가\n",
    "    answer_with_tokens = [\"<start>\"] + answer + [\"<end>\"]\n",
    "    ans_corpus_with_tokens.append(answer_with_tokens)\n",
    "\n",
    "print(f\"원본 답변 예시: {ans_corpus[0]}\")\n",
    "print(f\"토큰 추가 후: {ans_corpus_with_tokens[0]}\")\n",
    "print(f\"처리된 답변 데이터 수: {len(ans_corpus_with_tokens)}\")\n",
    "\n",
    "# 2. 전체 데이터에 대한 단어 사전 구축\n",
    "print(\"\\n=== 전체 단어 사전 구축 ===\")\n",
    "\n",
    "# 모든 토큰을 하나의 리스트로 수집\n",
    "all_tokens = []\n",
    "\n",
    "# 질문 데이터의 모든 토큰 추가\n",
    "for question in que_corpus:\n",
    "    all_tokens.extend(question)\n",
    "\n",
    "# 답변 데이터의 모든 토큰 추가 (특수 토큰 포함)\n",
    "for answer in ans_corpus_with_tokens:\n",
    "    all_tokens.extend(answer)\n",
    "\n",
    "# 토큰 빈도 계산\n",
    "token_counts = Counter(all_tokens)\n",
    "print(f\"전체 토큰 수: {len(all_tokens)}\")\n",
    "print(f\"고유 토큰 수: {len(token_counts)}\")\n",
    "\n",
    "# 빈도 기준으로 단어 사전 생성 (빈도 높은 순으로 정렬)\n",
    "vocab_size = len(token_counts)\n",
    "sorted_tokens = sorted(token_counts.items(), key=lambda x: x[1], reverse=True)\n",
    "\n",
    "# 특수 토큰들을 먼저 추가\n",
    "special_tokens = [\"<pad>\", \"<unk>\", \"<start>\", \"<end>\"]\n",
    "vocab_to_idx = {}\n",
    "idx_to_vocab = {}\n",
    "\n",
    "# 특수 토큰 인덱스 할당\n",
    "for i, token in enumerate(special_tokens):\n",
    "    vocab_to_idx[token] = i\n",
    "    idx_to_vocab[i] = token\n",
    "\n",
    "# 나머지 토큰들 인덱스 할당\n",
    "current_idx = len(special_tokens)\n",
    "for token, count in sorted_tokens:\n",
    "    if token not in vocab_to_idx:  # 이미 추가된 특수 토큰은 제외\n",
    "        vocab_to_idx[token] = current_idx\n",
    "        idx_to_vocab[current_idx] = token\n",
    "        current_idx += 1\n",
    "\n",
    "vocab_size = len(vocab_to_idx)\n",
    "print(f\"최종 어휘 크기: {vocab_size}\")\n",
    "print(f\"특수 토큰: {special_tokens}\")\n",
    "print(f\"가장 빈도 높은 토큰 10개: {[token for token, count in sorted_tokens[:10]]}\")\n",
    "\n",
    "# 3. 벡터화 함수 정의\n",
    "def tokenize_and_pad(sentences, vocab_to_idx, max_length=None):\n",
    "    \"\"\"\n",
    "    문장들을 인덱스로 변환하고 패딩 적용\n",
    "    \"\"\"\n",
    "    # 최대 길이 계산 (지정하지 않은 경우)\n",
    "    if max_length is None:\n",
    "        max_length = max(len(sentence) for sentence in sentences)\n",
    "\n",
    "    vectorized = []\n",
    "    for sentence in sentences:\n",
    "        # 토큰을 인덱스로 변환\n",
    "        indices = []\n",
    "        for token in sentence:\n",
    "            if token in vocab_to_idx:\n",
    "                indices.append(vocab_to_idx[token])\n",
    "            else:\n",
    "                indices.append(vocab_to_idx[\"<unk>\"])  # 없는 단어는 <unk>로\n",
    "\n",
    "        # 패딩 적용\n",
    "        if len(indices) < max_length:\n",
    "            # 부족한 부분은 <pad> 토큰으로 채움\n",
    "            indices.extend([vocab_to_idx[\"<pad>\"]] * (max_length - len(indices)))\n",
    "        else:\n",
    "            # 길이가 초과하면 자름\n",
    "            indices = indices[:max_length]\n",
    "\n",
    "        vectorized.append(indices)\n",
    "\n",
    "    return np.array(vectorized)\n",
    "\n",
    "# 4. 최대 길이 설정\n",
    "que_max_length = max(len(sentence) for sentence in que_corpus)\n",
    "ans_max_length = max(len(sentence) for sentence in ans_corpus_with_tokens)\n",
    "\n",
    "print(f\"\\n=== 시퀀스 길이 정보 ===\")\n",
    "print(f\"질문 최대 길이: {que_max_length}\")\n",
    "print(f\"답변 최대 길이: {ans_max_length}\")\n",
    "\n",
    "# 5. 벡터화 실행\n",
    "print(\"\\n=== 벡터화 진행 ===\")\n",
    "\n",
    "# 인코더 입력 데이터 (질문)\n",
    "enc_train = tokenize_and_pad(que_corpus, vocab_to_idx, max_length=que_max_length)\n",
    "\n",
    "# 디코더 입력 데이터 (답변 - 특수 토큰 포함)\n",
    "dec_train = tokenize_and_pad(ans_corpus_with_tokens, vocab_to_idx, max_length=ans_max_length)\n",
    "\n",
    "print(f\"enc_train 형태: {enc_train.shape}\")\n",
    "print(f\"dec_train 형태: {dec_train.shape}\")\n",
    "\n",
    "# 6. 결과 확인\n",
    "print(\"\\n=== 벡터화 결과 확인 ===\")\n",
    "for i in range(3):\n",
    "    print(f\"\\n[{i+1}번째 예시]\")\n",
    "    print(f\"원본 질문: {que_corpus[i]}\")\n",
    "    print(f\"벡터화된 질문: {enc_train[i]}\")\n",
    "    print(f\"원본 답변: {ans_corpus_with_tokens[i]}\")\n",
    "    print(f\"벡터화된 답변: {dec_train[i]}\")\n",
    "\n",
    "    # 벡터를 다시 토큰으로 변환해서 확인\n",
    "    restored_question = [idx_to_vocab[idx] for idx in enc_train[i] if idx != vocab_to_idx[\"<pad>\"]]\n",
    "    restored_answer = [idx_to_vocab[idx] for idx in dec_train[i] if idx != vocab_to_idx[\"<pad>\"]]\n",
    "    print(f\"복원된 질문: {restored_question}\")\n",
    "    print(f\"복원된 답변: {restored_answer}\")\n",
    "\n",
    "# 7. 데이터 정보 요약\n",
    "print(f\"\\n=== 최종 데이터 정보 ===\")\n",
    "print(f\"어휘 크기: {vocab_size}\")\n",
    "print(f\"훈련 데이터 수: {len(enc_train)}\")\n",
    "print(f\"인코더 입력 크기: {enc_train.shape}\")\n",
    "print(f\"디코더 입력 크기: {dec_train.shape}\")\n",
    "print(f\"질문 최대 길이: {que_max_length}\")\n",
    "print(f\"답변 최대 길이: {ans_max_length}\")\n",
    "\n",
    "# vocab_to_idx, idx_to_vocab 딕셔너리도 나중에 사용할 수 있도록 저장\n",
    "print(f\"\\nvocab_to_idx와 idx_to_vocab 딕셔너리가 생성되었습니다.\")\n",
    "print(f\"이는 나중에 모델 예측 결과를 텍스트로 변환할 때 필요합니다.\")"
   ]
  },
  {
   "cell_type": "markdown",
   "metadata": {
    "id": "_m9E0lKigGx5"
   },
   "source": [
    "## Step 6. 훈련하기"
   ]
  },
  {
   "cell_type": "markdown",
   "metadata": {
    "id": "QAjbN2n6TIIq"
   },
   "source": [
    "### 6-1. 모델 정의"
   ]
  },
  {
   "cell_type": "code",
   "execution_count": 18,
   "metadata": {
    "colab": {
     "base_uri": "https://localhost:8080/"
    },
    "id": "1n1-x_3FiN1f",
    "outputId": "86e5bc9b-d8af-43a4-c33a-1eefaa60621f"
   },
   "outputs": [
    {
     "name": "stdout",
     "output_type": "stream",
     "text": [
      "슝=3\n"
     ]
    }
   ],
   "source": [
    "# Positional Encoding 구현\n",
    "def positional_encoding(pos, d_model):\n",
    "    def cal_angle(position, i):\n",
    "        return position / np.power(10000, (2*(i//2)) / np.float32(d_model))\n",
    "\n",
    "    def get_posi_angle_vec(position):\n",
    "        return [cal_angle(position, i) for i in range(d_model)]\n",
    "\n",
    "    sinusoid_table = np.array([get_posi_angle_vec(pos_i) for pos_i in range(pos)])\n",
    "\n",
    "    sinusoid_table[:, 0::2] = np.sin(sinusoid_table[:, 0::2])\n",
    "    sinusoid_table[:, 1::2] = np.cos(sinusoid_table[:, 1::2])\n",
    "\n",
    "    return sinusoid_table\n",
    "print(\"슝=3\")"
   ]
  },
  {
   "cell_type": "code",
   "execution_count": 19,
   "metadata": {
    "colab": {
     "base_uri": "https://localhost:8080/"
    },
    "id": "tS2kF9L-iX7a",
    "outputId": "438cfa84-e3b7-4a3a-9c42-875a96643d7e"
   },
   "outputs": [
    {
     "name": "stdout",
     "output_type": "stream",
     "text": [
      "슝=3\n"
     ]
    }
   ],
   "source": [
    "def generate_padding_mask(seq: torch.Tensor) -> torch.Tensor:\n",
    "    \"\"\"\n",
    "    seq: shape [batch_size, seq_len]의 입력 (토큰 ID 텐서)\n",
    "    반환: shape [batch_size, 1, 1, seq_len]의 패딩 마스크\n",
    "         (seq == 0)인 위치가 1, 나머지는 0\n",
    "    \"\"\"\n",
    "    # (seq == 0)은 불리언 텐서를 반환 -> float()로 형변환 -> (1.0 or 0.0)\n",
    "    # 차원 확장: [batch_size, seq_len] → [batch_size, 1, 1, seq_len]\n",
    "    return (seq == 0).unsqueeze(1).unsqueeze(2).float()\n",
    "\n",
    "\n",
    "def generate_lookahead_mask(size: int) -> torch.Tensor:\n",
    "    \"\"\"\n",
    "    size: 문장(시퀀스) 길이\n",
    "    반환: shape [size, size],\n",
    "         i < j (대각선 위)에 해당하는 위치가 1, 아닌 곳은 0\n",
    "         (미래 토큰을 가리기 위한 마스크)\n",
    "    \"\"\"\n",
    "    # triu(diagonal=1)은 주대각선 위가 1, 아래가 0인 텐서를 만들어 줌\n",
    "    return torch.triu(torch.ones(size, size), diagonal=1)\n",
    "\n",
    "\n",
    "def generate_masks(src: torch.Tensor, tgt: torch.Tensor):\n",
    "    \"\"\"\n",
    "    src, tgt: shape [batch_size, seq_len]\n",
    "    3가지 마스크를 반환:\n",
    "      - enc_mask: 인코더 입력용 패딩 마스크\n",
    "      - dec_enc_mask: 디코더-인코더 어텐션용 패딩 마스크\n",
    "      - dec_mask: 디코더 자기어텐션용 마스크(룩어헤드 + 패딩)\n",
    "\n",
    "    각각의 shape:\n",
    "      - enc_mask, dec_enc_mask: [batch_size, 1, 1, src_seq_len]\n",
    "      - dec_mask: [batch_size, 1, tgt_seq_len, tgt_seq_len]\n",
    "    \"\"\"\n",
    "    # 1) 인코더 입력용 패딩 마스크\n",
    "    enc_mask = generate_padding_mask(src)\n",
    "    # 2) 디코더에서 인코더 값을 볼 때 사용하는 마스크 (src 마스크 재사용)\n",
    "    dec_enc_mask = generate_padding_mask(src)\n",
    "\n",
    "    # 3) 디코더 자기어텐션 마스크 (미래 토큰 방지 룩어헤드 + tgt 자체 패딩 마스크)\n",
    "    dec_lookahead_mask = generate_lookahead_mask(tgt.shape[1])  # [tgt_seq_len, tgt_seq_len]\n",
    "    dec_tgt_padding_mask = generate_padding_mask(tgt)           # [batch_size, 1, 1, tgt_seq_len]\n",
    "\n",
    "    # 룩어헤드 마스크를 (batch 차원과 head 차원을 가상으로) 확장\n",
    "    dec_lookahead_mask = dec_lookahead_mask.unsqueeze(0).unsqueeze(1)  # [1, 1, seq_len, seq_len]\n",
    "\n",
    "    # 패딩 + 룩어헤드 마스크 병합\n",
    "    # 브로드캐스팅에 의해 shape [batch_size, 1, tgt_seq_len, tgt_seq_len]이 됨\n",
    "\n",
    "    dec_tgt_padding_mask = dec_tgt_padding_mask.to(device)\n",
    "    dec_lookahead_mask = dec_lookahead_mask.to(device)\n",
    "\n",
    "    dec_mask = torch.max(dec_tgt_padding_mask, dec_lookahead_mask)\n",
    "\n",
    "    return enc_mask, dec_enc_mask, dec_mask\n",
    "\n",
    "print(\"슝=3\")"
   ]
  },
  {
   "cell_type": "code",
   "execution_count": 20,
   "metadata": {
    "colab": {
     "base_uri": "https://localhost:8080/"
    },
    "id": "h_4cQzVCiZvM",
    "outputId": "1845f1cb-6e1d-4665-e48a-5c03065e2df2"
   },
   "outputs": [
    {
     "name": "stdout",
     "output_type": "stream",
     "text": [
      "슝=3\n"
     ]
    }
   ],
   "source": [
    "import torch\n",
    "import torch.nn as nn\n",
    "import torch.nn.functional as F\n",
    "\n",
    "class MultiHeadAttention(nn.Module):\n",
    "    def __init__(self, d_model, num_heads):\n",
    "        super(MultiHeadAttention, self).__init__()\n",
    "        self.num_heads = num_heads\n",
    "        self.d_model = d_model\n",
    "\n",
    "        # d_model을 num_heads로 나눈 만큼이 각 head가 담당할 차원 수\n",
    "        self.depth = d_model // num_heads\n",
    "\n",
    "        # Query, Key, Value를 구하는 선형 레이어\n",
    "        self.W_q = nn.Linear(d_model, d_model)\n",
    "        self.W_k = nn.Linear(d_model, d_model)\n",
    "        self.W_v = nn.Linear(d_model, d_model)\n",
    "\n",
    "        # 최종적으로 head들의 출력을 결합해주는 선형 레이어\n",
    "        self.linear = nn.Linear(d_model, d_model)\n",
    "\n",
    "    def scaled_dot_product_attention(self, Q, K, V, mask=None):\n",
    "        \"\"\"\n",
    "        Q, K, V:  [batch_size, num_heads, seq_len, depth]\n",
    "        mask:     [batch_size, 1, seq_len, seq_len] 혹은\n",
    "                  [batch_size, num_heads, seq_len, seq_len]\n",
    "                  (어텐션에서 제외할 위치=1, 사용할 위치=0)\n",
    "        \"\"\"\n",
    "        # d_k = depth\n",
    "        d_k = Q.size(-1)  # K.shape[-1]도 동일\n",
    "        # Q와 K의 전치 곱: (batch_size, num_heads, seq_len, seq_len)\n",
    "        QK = torch.matmul(Q, K.transpose(-1, -2))\n",
    "\n",
    "        # 스케일링\n",
    "        scaled_qk = QK / torch.sqrt(torch.tensor(d_k, dtype=torch.float32))\n",
    "\n",
    "        # 마스크가 있는 경우 -1e9(매우 작은 수)를 더하여 softmax 후 확률이 0에 가깝도록 처리\n",
    "        if mask is not None:\n",
    "            scaled_qk = scaled_qk + (mask * -1e9)\n",
    "\n",
    "        attentions = F.softmax(scaled_qk, dim=-1)  # (batch_size, num_heads, seq_len, seq_len)\n",
    "        out = torch.matmul(attentions, V)         # (batch_size, num_heads, seq_len, depth)\n",
    "\n",
    "        return out, attentions\n",
    "\n",
    "    def split_heads(self, x):\n",
    "        \"\"\"\n",
    "        x: [batch_size, seq_len, d_model]\n",
    "        반환: [batch_size, num_heads, seq_len, depth]\n",
    "        \"\"\"\n",
    "        bsz, seq_len, _ = x.size()\n",
    "        # d_model -> (num_heads * depth)이므로 view로 재배치\n",
    "        x = x.view(bsz, seq_len, self.num_heads, self.depth)\n",
    "        # (batch_size, seq_len, num_heads, depth) -> (batch_size, num_heads, seq_len, depth)\n",
    "        x = x.permute(0, 2, 1, 3)\n",
    "        return x\n",
    "\n",
    "    def combine_heads(self, x):\n",
    "        \"\"\"\n",
    "        x: [batch_size, num_heads, seq_len, depth]\n",
    "        반환: [batch_size, seq_len, d_model]\n",
    "        \"\"\"\n",
    "        bsz, num_heads, seq_len, depth = x.size()\n",
    "        # (batch_size, num_heads, seq_len, depth) -> (batch_size, seq_len, num_heads, depth)\n",
    "        x = x.permute(0, 2, 1, 3).contiguous()\n",
    "        x = x.view(bsz, seq_len, self.d_model)\n",
    "        return x\n",
    "\n",
    "    def forward(self, Q, K, V, mask=None):\n",
    "        \"\"\"\n",
    "        Q, K, V: [batch_size, seq_len, d_model]\n",
    "        mask:    [batch_size, 1, seq_len, seq_len] 혹은\n",
    "                 [batch_size, num_heads, seq_len, seq_len]\n",
    "        \"\"\"\n",
    "        # W_q, W_k, W_v는 각각 (d_model -> d_model) 선형 변환\n",
    "        WQ = self.W_q(Q)  # [batch_size, seq_len, d_model]\n",
    "        WK = self.W_k(K)  # [batch_size, seq_len, d_model]\n",
    "        WV = self.W_v(V)  # [batch_size, seq_len, d_model]\n",
    "\n",
    "        # 멀티헤드 분할\n",
    "        WQ_splits = self.split_heads(WQ)  # [batch_size, num_heads, seq_len, depth]\n",
    "        WK_splits = self.split_heads(WK)\n",
    "        WV_splits = self.split_heads(WV)\n",
    "\n",
    "        # Scaled dot-product attention\n",
    "        out, attention_weights = self.scaled_dot_product_attention(\n",
    "            WQ_splits, WK_splits, WV_splits, mask\n",
    "        )\n",
    "\n",
    "        # head 결과 결합 후 최종 선형\n",
    "        out = self.combine_heads(out)  # [batch_size, seq_len, d_model]\n",
    "        out = self.linear(out)         # [batch_size, seq_len, d_model]\n",
    "\n",
    "        return out, attention_weights\n",
    "\n",
    "print(\"슝=3\")"
   ]
  },
  {
   "cell_type": "code",
   "execution_count": 21,
   "metadata": {
    "colab": {
     "base_uri": "https://localhost:8080/"
    },
    "id": "DPvT0nIYibo3",
    "outputId": "c746ed8c-f78b-46eb-eb2e-38069f7cd692"
   },
   "outputs": [
    {
     "name": "stdout",
     "output_type": "stream",
     "text": [
      "슝=3\n"
     ]
    }
   ],
   "source": [
    "class PoswiseFeedForwardNet(nn.Module):\n",
    "    def __init__(self, d_model, d_ff):\n",
    "        super(PoswiseFeedForwardNet, self).__init__()\n",
    "        self.d_model = d_model\n",
    "        self.d_ff = d_ff\n",
    "\n",
    "        self.fc1 = nn.Linear(d_model, d_ff)\n",
    "        self.fc2 = nn.Linear(d_ff, d_model)\n",
    "        self.relu = nn.ReLU()\n",
    "\n",
    "    def forward(self, x):\n",
    "        out = self.relu(self.fc1(x))  # 첫 번째 Dense + ReLU\n",
    "        out = self.fc2(out)          # 두 번째 Dense\n",
    "        return out\n",
    "\n",
    "print(\"슝=3\")"
   ]
  },
  {
   "cell_type": "code",
   "execution_count": 22,
   "metadata": {
    "colab": {
     "base_uri": "https://localhost:8080/"
    },
    "id": "QGrLj9Szidev",
    "outputId": "76e67c3d-7c1e-48d1-e2d4-980f5209c2b0"
   },
   "outputs": [
    {
     "name": "stdout",
     "output_type": "stream",
     "text": [
      "슝=3\n"
     ]
    }
   ],
   "source": [
    "class EncoderLayer(nn.Module):\n",
    "    def __init__(self, d_model, n_heads, d_ff, dropout):\n",
    "        super(EncoderLayer, self).__init__()\n",
    "        self.enc_self_attn = MultiHeadAttention(d_model, n_heads)\n",
    "        self.ffn = PoswiseFeedForwardNet(d_model, d_ff)\n",
    "\n",
    "        # nn.LayerNorm은 마지막 차원(d_model)을 기준으로 정규화\n",
    "        self.norm_1 = nn.LayerNorm(d_model, eps=1e-6)\n",
    "        self.norm_2 = nn.LayerNorm(d_model, eps=1e-6)\n",
    "\n",
    "        self.do = nn.Dropout(dropout)\n",
    "\n",
    "    def forward(self, x, mask):\n",
    "        # Multi-Head Attention 단계\n",
    "        residual = x\n",
    "        out = self.norm_1(x)\n",
    "        out, enc_attn = self.enc_self_attn(out, out, out, mask)\n",
    "        out = self.do(out)\n",
    "        out = out + residual  # residual connection\n",
    "\n",
    "        # Position-Wise Feed Forward 단계\n",
    "        residual = out\n",
    "        out = self.norm_2(out)\n",
    "        out = self.ffn(out)\n",
    "        out = self.do(out)\n",
    "        out = out + residual  # residual connection\n",
    "\n",
    "        return out, enc_attn\n",
    "\n",
    "print(\"슝=3\")"
   ]
  },
  {
   "cell_type": "code",
   "execution_count": 23,
   "metadata": {
    "colab": {
     "base_uri": "https://localhost:8080/"
    },
    "id": "ub_cWjHPifOi",
    "outputId": "c02e14af-e33e-482c-d003-bd2b9ee0a6ca"
   },
   "outputs": [
    {
     "name": "stdout",
     "output_type": "stream",
     "text": [
      "슝=3\n"
     ]
    }
   ],
   "source": [
    "class DecoderLayer(nn.Module):\n",
    "    def __init__(self, d_model, num_heads, d_ff, dropout):\n",
    "        super(DecoderLayer, self).__init__()\n",
    "        self.dec_self_attn = MultiHeadAttention(d_model, num_heads)\n",
    "        self.enc_dec_attn = MultiHeadAttention(d_model, num_heads)\n",
    "        self.ffn = PoswiseFeedForwardNet(d_model, d_ff)\n",
    "\n",
    "        self.norm_1 = nn.LayerNorm(d_model, eps=1e-6)\n",
    "        self.norm_2 = nn.LayerNorm(d_model, eps=1e-6)\n",
    "        self.norm_3 = nn.LayerNorm(d_model, eps=1e-6)\n",
    "\n",
    "        self.do = nn.Dropout(dropout)\n",
    "\n",
    "    def forward(self, x, enc_out, dec_enc_mask, padding_mask):\n",
    "        # Masked Multi-Head Attention\n",
    "        residual = x\n",
    "        out = self.norm_1(x)\n",
    "        out, dec_attn = self.dec_self_attn(out, out, out, mask=padding_mask)\n",
    "        out = self.do(out)\n",
    "        out = out + residual\n",
    "\n",
    "        # Encoder-Decoder Multi-Head Attention (주의: Q, K, V 순서)\n",
    "        residual = out\n",
    "        out = self.norm_2(out)\n",
    "        out, dec_enc_attn = self.enc_dec_attn(out, enc_out, enc_out, mask=dec_enc_mask)\n",
    "        out = self.do(out)\n",
    "        out = out + residual\n",
    "\n",
    "        # Position-Wise Feed Forward Network\n",
    "        residual = out\n",
    "        out = self.norm_3(out)\n",
    "        out = self.ffn(out)\n",
    "        out = self.do(out)\n",
    "        out = out + residual\n",
    "\n",
    "        return out, dec_attn, dec_enc_attn\n",
    "\n",
    "print(\"슝=3\")"
   ]
  },
  {
   "cell_type": "code",
   "execution_count": 24,
   "metadata": {
    "colab": {
     "base_uri": "https://localhost:8080/"
    },
    "id": "1Fn6i3ZVigyZ",
    "outputId": "f44bf9aa-9668-457c-df8b-8aa4f1759023"
   },
   "outputs": [
    {
     "name": "stdout",
     "output_type": "stream",
     "text": [
      "슝=3\n"
     ]
    }
   ],
   "source": [
    "class Encoder(nn.Module):\n",
    "    def __init__(self, n_layers, d_model, n_heads, d_ff, dropout):\n",
    "        super(Encoder, self).__init__()\n",
    "        self.n_layers = n_layers\n",
    "        self.enc_layers = nn.ModuleList(\n",
    "            [EncoderLayer(d_model, n_heads, d_ff, dropout) for _ in range(n_layers)]\n",
    "        )\n",
    "        self.do = nn.Dropout(dropout)  # 필요 시 입력에 dropout 적용 가능\n",
    "\n",
    "    def forward(self, x, mask):\n",
    "        out = x\n",
    "        enc_attns = []\n",
    "        for i in range(self.n_layers):\n",
    "            out, enc_attn = self.enc_layers[i](out, mask)\n",
    "            enc_attns.append(enc_attn)\n",
    "        return out, enc_attns\n",
    "\n",
    "# 사용 예시: Encoder 인스턴스 생성 후 forward 호출\n",
    "# encoder = Encoder(n_layers, d_model, n_heads, d_ff, dropout)\n",
    "# out, enc_attns = encoder(x, mask)\n",
    "print(\"슝=3\")"
   ]
  },
  {
   "cell_type": "code",
   "execution_count": 25,
   "metadata": {
    "colab": {
     "base_uri": "https://localhost:8080/"
    },
    "id": "kcA7KXB5iiHQ",
    "outputId": "3c5fd663-864a-47dd-c941-8b6fb4285328"
   },
   "outputs": [
    {
     "name": "stdout",
     "output_type": "stream",
     "text": [
      "슝=3\n"
     ]
    }
   ],
   "source": [
    "class Decoder(nn.Module):\n",
    "    def __init__(self, n_layers, d_model, n_heads, d_ff, dropout):\n",
    "        super(Decoder, self).__init__()\n",
    "        self.n_layers = n_layers\n",
    "        self.dec_layers = nn.ModuleList(\n",
    "            [DecoderLayer(d_model, n_heads, d_ff, dropout) for _ in range(n_layers)]\n",
    "        )\n",
    "\n",
    "    def forward(self, x, enc_out, dec_enc_mask, padding_mask):\n",
    "        out = x\n",
    "        dec_attns = []\n",
    "        dec_enc_attns = []\n",
    "        for i in range(self.n_layers):\n",
    "            out, dec_attn, dec_enc_attn = self.dec_layers[i](out, enc_out, dec_enc_mask, padding_mask)\n",
    "            dec_attns.append(dec_attn)\n",
    "            dec_enc_attns.append(dec_enc_attn)\n",
    "        return out, dec_attns, dec_enc_attns\n",
    "\n",
    "print(\"슝=3\")"
   ]
  },
  {
   "cell_type": "code",
   "execution_count": 26,
   "metadata": {
    "colab": {
     "base_uri": "https://localhost:8080/"
    },
    "id": "jg5gBw7bijmZ",
    "outputId": "f6add97f-7d29-4672-8566-abb0d8abf577"
   },
   "outputs": [
    {
     "name": "stdout",
     "output_type": "stream",
     "text": [
      "슝=3\n"
     ]
    }
   ],
   "source": [
    "import math\n",
    "\n",
    "class Transformer(nn.Module):\n",
    "    def __init__(self, n_layers, d_model, n_heads, d_ff,\n",
    "                 src_vocab_size, tgt_vocab_size, pos_len,\n",
    "                 dropout=0.2, shared_fc=True, shared_emb=False):\n",
    "        super(Transformer, self).__init__()\n",
    "        # d_model은 스케일링에 사용되므로 float으로 저장\n",
    "        self.d_model = float(d_model)\n",
    "\n",
    "        # Embedding 레이어: shared_emb True면 동일한 임베딩을 사용합니다.\n",
    "        if shared_emb:\n",
    "            self.enc_emb = self.dec_emb = nn.Embedding(src_vocab_size, d_model)\n",
    "        else:\n",
    "            self.enc_emb = nn.Embedding(src_vocab_size, d_model)\n",
    "            self.dec_emb = nn.Embedding(tgt_vocab_size, d_model)\n",
    "\n",
    "        # Positional encoding (넘파이 버전 결과를 torch.Tensor로 변환)\n",
    "        pos_encoding_np = positional_encoding(pos_len, d_model)\n",
    "        # 파라미터로 등록하지 않고 고정값이므로 buffer로 등록합니다.\n",
    "        self.register_buffer(\"pos_encoding\", torch.tensor(pos_encoding_np, dtype=torch.float32))\n",
    "\n",
    "        self.do = nn.Dropout(dropout)\n",
    "\n",
    "        self.encoder = Encoder(n_layers, d_model, n_heads, d_ff, dropout)\n",
    "        self.decoder = Decoder(n_layers, d_model, n_heads, d_ff, dropout)\n",
    "\n",
    "        self.fc = nn.Linear(d_model, tgt_vocab_size)\n",
    "\n",
    "        self.shared_fc = shared_fc\n",
    "        if shared_fc:\n",
    "            # fc 레이어와 디코더 임베딩의 weight를 공유합니다.\n",
    "            self.fc.weight = self.dec_emb.weight\n",
    "\n",
    "    def embedding(self, emb, x):\n",
    "        \"\"\"\n",
    "        emb: 임베딩 레이어\n",
    "        x: [batch_size, seq_len] (토큰 인덱스)\n",
    "        \"\"\"\n",
    "        seq_len = x.size(1)\n",
    "        out = emb(x)  # [batch_size, seq_len, d_model]\n",
    "        if self.shared_fc:\n",
    "            out = out * math.sqrt(self.d_model)\n",
    "        # pos_encoding: [pos_len, d_model] → [1, pos_len, d_model] 후 슬라이싱\n",
    "        out = out + self.pos_encoding[:seq_len, :].unsqueeze(0)\n",
    "        out = self.do(out)\n",
    "        return out\n",
    "\n",
    "    def forward(self, enc_in, dec_in, enc_mask, dec_enc_mask, dec_mask):\n",
    "        \"\"\"\n",
    "        enc_in: [batch_size, src_seq_len]\n",
    "        dec_in: [batch_size, tgt_seq_len]\n",
    "        enc_mask, dec_enc_mask, dec_mask: 마스킹 텐서들\n",
    "        \"\"\"\n",
    "        # Embedding 및 positional encoding 적용\n",
    "        enc_in_emb = self.embedding(self.enc_emb, enc_in)\n",
    "        dec_in_emb = self.embedding(self.dec_emb, dec_in)\n",
    "\n",
    "        # Encoder와 Decoder 통과\n",
    "        enc_out, enc_attns = self.encoder(enc_in_emb, enc_mask)\n",
    "        dec_out, dec_attns, dec_enc_attns = self.decoder(dec_in_emb, enc_out, dec_enc_mask, dec_mask)\n",
    "\n",
    "        logits = self.fc(dec_out)\n",
    "        return logits, enc_attns, dec_attns, dec_enc_attns\n",
    "\n",
    "print(\"슝=3\")"
   ]
  },
  {
   "cell_type": "code",
   "execution_count": 27,
   "metadata": {
    "colab": {
     "base_uri": "https://localhost:8080/"
    },
    "id": "z_BtHaU6j4Bn",
    "outputId": "18b659fc-20ae-4aa5-f319-c9cd5c0aa188"
   },
   "outputs": [
    {
     "name": "stdout",
     "output_type": "stream",
     "text": [
      "사용 중인 디바이스: cuda\n"
     ]
    }
   ],
   "source": [
    "# GPU 설정\n",
    "device = torch.device('cuda' if torch.cuda.is_available() else 'cpu')\n",
    "print(f\"사용 중인 디바이스: {device}\")"
   ]
  },
  {
   "cell_type": "code",
   "execution_count": 28,
   "metadata": {
    "colab": {
     "base_uri": "https://localhost:8080/"
    },
    "id": "RxIetCHWjhLW",
    "outputId": "147edc29-0f12-4ac9-8872-36bfe0e9a064"
   },
   "outputs": [
    {
     "name": "stdout",
     "output_type": "stream",
     "text": [
      "어휘 크기: 4403\n"
     ]
    }
   ],
   "source": [
    "# VOCAB_SIZE 정의 (이전에 계산된 vocab_size 사용)\n",
    "VOCAB_SIZE = vocab_size  # 4409\n",
    "print(f\"어휘 크기: {VOCAB_SIZE}\")"
   ]
  },
  {
   "cell_type": "code",
   "execution_count": 29,
   "metadata": {
    "colab": {
     "base_uri": "https://localhost:8080/"
    },
    "id": "rRYPrTMGiq2q",
    "outputId": "08debc29-5860-4832-aec9-1828bc97978a"
   },
   "outputs": [
    {
     "name": "stdout",
     "output_type": "stream",
     "text": [
      "슝=3\n"
     ]
    }
   ],
   "source": [
    "# 주어진 하이퍼파라미터로 Transformer 인스턴스 생성\n",
    "transformer = Transformer(\n",
    "    n_layers=2,\n",
    "    d_model=512,\n",
    "    n_heads=8,\n",
    "    d_ff=2048,\n",
    "    src_vocab_size=VOCAB_SIZE,\n",
    "    tgt_vocab_size=VOCAB_SIZE,\n",
    "    pos_len=200,\n",
    "    dropout=0.3,\n",
    "    shared_fc=True,\n",
    "    shared_emb=True)\n",
    "\n",
    "transformer = transformer.to(device)\n",
    "\n",
    "d_model = 512\n",
    "\n",
    "print(\"슝=3\")"
   ]
  },
  {
   "cell_type": "code",
   "execution_count": 30,
   "metadata": {
    "colab": {
     "base_uri": "https://localhost:8080/"
    },
    "id": "xPwLWiamivSv",
    "outputId": "2870db3d-23be-437e-a069-9a6c9ad2f4d9"
   },
   "outputs": [
    {
     "name": "stdout",
     "output_type": "stream",
     "text": [
      "슝=3\n"
     ]
    }
   ],
   "source": [
    "class LearningRateScheduler:\n",
    "    def __init__(self, d_model, warmup_steps=60): # 4000\n",
    "        self.d_model = d_model\n",
    "        self.warmup_steps = warmup_steps\n",
    "\n",
    "    def __call__(self, step):\n",
    "        # step을 float으로 변환하여 지수 연산이 제대로 수행되도록 함\n",
    "        step = float(step)\n",
    "        arg1 = step ** -0.5\n",
    "        arg2 = step * (self.warmup_steps ** -1.5)\n",
    "        return (self.d_model ** -0.5) * min(arg1, arg2)\n",
    "\n",
    "print(\"슝=3\")"
   ]
  },
  {
   "cell_type": "code",
   "execution_count": 31,
   "metadata": {
    "colab": {
     "base_uri": "https://localhost:8080/"
    },
    "id": "BFqB_ltJiyiS",
    "outputId": "29a7d867-1584-4715-9234-97641bfd5816"
   },
   "outputs": [
    {
     "name": "stdout",
     "output_type": "stream",
     "text": [
      "슝=3\n"
     ]
    }
   ],
   "source": [
    "# Learning Rate 인스턴스 선언\n",
    "learning_rate = LearningRateScheduler(d_model)\n",
    "\n",
    "# 초기 lr은 스텝 1에 해당하는 값으로 설정합니다.\n",
    "optimizer = torch.optim.Adam(transformer.parameters(),\n",
    "                             lr=learning_rate(1),\n",
    "                             betas=(0.9, 0.98),\n",
    "                             eps=1e-9)\n",
    "\n",
    "print(\"슝=3\")"
   ]
  },
  {
   "cell_type": "code",
   "execution_count": 32,
   "metadata": {
    "colab": {
     "base_uri": "https://localhost:8080/"
    },
    "id": "NEvNwyzni0Dc",
    "outputId": "e20874ec-1b8f-409f-a764-420e95ff8355"
   },
   "outputs": [
    {
     "name": "stdout",
     "output_type": "stream",
     "text": [
      "슝=3\n"
     ]
    }
   ],
   "source": [
    "def loss_function(real, pred):\n",
    "    \"\"\"\n",
    "    real: [batch_size, seq_len] (정답 토큰 인덱스)\n",
    "    pred: [batch_size, seq_len, num_classes] (모델의 raw logits)\n",
    "    \"\"\"\n",
    "\n",
    "    real = real.to(device)\n",
    "    pred = pred.to(device)\n",
    "\n",
    "    # 예측 값을 (N, C) 형태로 flatten하고, 정답도 flatten하여 개별 손실 값을 구함\n",
    "    loss_ = F.cross_entropy(pred.contiguous().view(-1, pred.size(-1)), real.contiguous().view(-1), reduction='none')\n",
    "    # 다시 (batch_size, seq_len)로 reshape\n",
    "    loss_ = loss_.view(real.size())\n",
    "\n",
    "    # real이 0이 아닌 위치에 대한 마스크 생성 (0이면 패딩 토큰)\n",
    "    mask = (real != 0).float()\n",
    "    loss_ = loss_ * mask\n",
    "\n",
    "    # 전체 손실 합을 마스크 합으로 나누어 평균 손실 계산\n",
    "    return loss_.sum() / mask.sum()\n",
    "\n",
    "print(\"슝=3\")"
   ]
  },
  {
   "cell_type": "code",
   "execution_count": 33,
   "metadata": {
    "colab": {
     "base_uri": "https://localhost:8080/"
    },
    "id": "dy3FLp0vi1iq",
    "outputId": "e0b6fe43-0268-481f-da24-83574a15eb14"
   },
   "outputs": [
    {
     "name": "stdout",
     "output_type": "stream",
     "text": [
      "슝=3\n"
     ]
    }
   ],
   "source": [
    "def train_step(src, tgt, model, optimizer):\n",
    "    model.train()  # 모델을 training 모드로 전환\n",
    "    optimizer.zero_grad()\n",
    "\n",
    "    # tgt의 오른쪽 시프트: decoder input과 gold target 분리\n",
    "    tgt_in = tgt[:, :-1]  # Decoder의 입력\n",
    "    gold = tgt[:, 1:]     # Decoder의 정답(target)\n",
    "\n",
    "    # 마스크 생성 (generate_masks는 PyTorch용으로 변환된 함수여야 합니다)\n",
    "    enc_mask, dec_enc_mask, dec_mask = generate_masks(src, tgt_in)\n",
    "\n",
    "    src = src.to(device)\n",
    "    tgt_in = tgt_in.to(device)\n",
    "    enc_mask = enc_mask.to(device)\n",
    "    dec_enc_mask = dec_enc_mask.to(device)\n",
    "    dec_mask = dec_mask.to(device)\n",
    "\n",
    "    # 모델 forward pass\n",
    "    predictions, enc_attns, dec_attns, dec_enc_attns = model(src, tgt_in, enc_mask, dec_enc_mask, dec_mask)\n",
    "\n",
    "    # loss 계산\n",
    "    loss = loss_function(gold, predictions)\n",
    "\n",
    "    # 역전파 수행 및 파라미터 업데이트\n",
    "    loss.backward()\n",
    "    optimizer.step()\n",
    "\n",
    "    return loss, enc_attns, dec_attns, dec_enc_attns\n",
    "\n",
    "print(\"슝=3\")"
   ]
  },
  {
   "cell_type": "code",
   "execution_count": 34,
   "metadata": {
    "id": "BWNxn_5Jj9lJ"
   },
   "outputs": [],
   "source": [
    "import torch\n",
    "from torch.utils.data import DataLoader, TensorDataset"
   ]
  },
  {
   "cell_type": "code",
   "execution_count": 35,
   "metadata": {
    "colab": {
     "base_uri": "https://localhost:8080/"
    },
    "id": "HEOxg3kHkCJq",
    "outputId": "a014fa02-9299-4b1c-94bd-9ac0992bacd3"
   },
   "outputs": [
    {
     "name": "stdout",
     "output_type": "stream",
     "text": [
      "데이터로더 생성 중...\n",
      "배치 수: 724\n",
      "총 데이터 수: 23151\n"
     ]
    }
   ],
   "source": [
    "# 데이터로더 생성\n",
    "def create_dataloader(enc_data, dec_data, batch_size=32, shuffle=True):\n",
    "    \"\"\"\n",
    "    PyTorch DataLoader 생성\n",
    "    \"\"\"\n",
    "    # numpy 배열을 torch tensor로 변환\n",
    "    enc_tensor = torch.tensor(enc_data, dtype=torch.long)\n",
    "    dec_tensor = torch.tensor(dec_data, dtype=torch.long)\n",
    "\n",
    "    # TensorDataset 생성\n",
    "    dataset = TensorDataset(enc_tensor, dec_tensor)\n",
    "\n",
    "    # DataLoader 생성\n",
    "    dataloader = DataLoader(dataset, batch_size=batch_size, shuffle=shuffle)\n",
    "\n",
    "    return dataloader\n",
    "\n",
    "# 훈련 데이터로더 생성\n",
    "print(\"데이터로더 생성 중...\")\n",
    "train_dataloader = create_dataloader(enc_train, dec_train, batch_size=32, shuffle=True)\n",
    "print(f\"배치 수: {len(train_dataloader)}\")\n",
    "print(f\"총 데이터 수: {len(enc_train)}\")"
   ]
  },
  {
   "cell_type": "markdown",
   "metadata": {
    "id": "vd-fMFIfTO6G"
   },
   "source": [
    "### 6-2. 모델 훈련"
   ]
  },
  {
   "cell_type": "code",
   "execution_count": 36,
   "metadata": {
    "colab": {
     "base_uri": "https://localhost:8080/"
    },
    "id": "a7toKztei2-7",
    "outputId": "eff8f457-c9ec-4e58-d13d-7dce8808f674"
   },
   "outputs": [
    {
     "name": "stderr",
     "output_type": "stream",
     "text": [
      "100%|██████████| 724/724 [00:26<00:00, 26.85it/s, Batch Loss=5243.5825]\n"
     ]
    },
    {
     "name": "stdout",
     "output_type": "stream",
     "text": [
      "Epoch 1, Loss: 6702.0981\n"
     ]
    },
    {
     "name": "stderr",
     "output_type": "stream",
     "text": [
      "100%|██████████| 724/724 [00:26<00:00, 27.57it/s, Batch Loss=4368.3027]\n"
     ]
    },
    {
     "name": "stdout",
     "output_type": "stream",
     "text": [
      "Epoch 2, Loss: 4654.8520\n"
     ]
    },
    {
     "name": "stderr",
     "output_type": "stream",
     "text": [
      "100%|██████████| 724/724 [00:27<00:00, 26.76it/s, Batch Loss=3811.3582]\n"
     ]
    },
    {
     "name": "stdout",
     "output_type": "stream",
     "text": [
      "Epoch 3, Loss: 3904.7675\n"
     ]
    },
    {
     "name": "stderr",
     "output_type": "stream",
     "text": [
      "100%|██████████| 724/724 [00:26<00:00, 26.90it/s, Batch Loss=3131.9207]\n"
     ]
    },
    {
     "name": "stdout",
     "output_type": "stream",
     "text": [
      "Epoch 4, Loss: 3425.8470\n"
     ]
    },
    {
     "name": "stderr",
     "output_type": "stream",
     "text": [
      "100%|██████████| 724/724 [00:26<00:00, 27.19it/s, Batch Loss=2616.2566]\n"
     ]
    },
    {
     "name": "stdout",
     "output_type": "stream",
     "text": [
      "Epoch 5, Loss: 3050.4474\n"
     ]
    },
    {
     "name": "stderr",
     "output_type": "stream",
     "text": [
      "100%|██████████| 724/724 [00:26<00:00, 27.06it/s, Batch Loss=2637.8896]\n"
     ]
    },
    {
     "name": "stdout",
     "output_type": "stream",
     "text": [
      "Epoch 6, Loss: 2772.7010\n"
     ]
    },
    {
     "name": "stderr",
     "output_type": "stream",
     "text": [
      "100%|██████████| 724/724 [00:26<00:00, 27.00it/s, Batch Loss=2413.0388]\n"
     ]
    },
    {
     "name": "stdout",
     "output_type": "stream",
     "text": [
      "Epoch 7, Loss: 2542.8039\n"
     ]
    },
    {
     "name": "stderr",
     "output_type": "stream",
     "text": [
      "100%|██████████| 724/724 [00:26<00:00, 27.12it/s, Batch Loss=2123.8101]\n"
     ]
    },
    {
     "name": "stdout",
     "output_type": "stream",
     "text": [
      "Epoch 8, Loss: 2337.9210\n"
     ]
    },
    {
     "name": "stderr",
     "output_type": "stream",
     "text": [
      "100%|██████████| 724/724 [00:26<00:00, 26.95it/s, Batch Loss=1925.8085]\n"
     ]
    },
    {
     "name": "stdout",
     "output_type": "stream",
     "text": [
      "Epoch 9, Loss: 2149.7097\n"
     ]
    },
    {
     "name": "stderr",
     "output_type": "stream",
     "text": [
      "100%|██████████| 724/724 [00:26<00:00, 26.96it/s, Batch Loss=1746.8646]\n"
     ]
    },
    {
     "name": "stdout",
     "output_type": "stream",
     "text": [
      "Epoch 10, Loss: 1976.6292\n"
     ]
    },
    {
     "name": "stderr",
     "output_type": "stream",
     "text": [
      "100%|██████████| 724/724 [00:26<00:00, 26.96it/s, Batch Loss=2045.7764]\n"
     ]
    },
    {
     "name": "stdout",
     "output_type": "stream",
     "text": [
      "Epoch 11, Loss: 1815.5963\n"
     ]
    },
    {
     "name": "stderr",
     "output_type": "stream",
     "text": [
      "100%|██████████| 724/724 [00:26<00:00, 27.06it/s, Batch Loss=1917.9896]\n"
     ]
    },
    {
     "name": "stdout",
     "output_type": "stream",
     "text": [
      "Epoch 12, Loss: 1659.3727\n"
     ]
    },
    {
     "name": "stderr",
     "output_type": "stream",
     "text": [
      "100%|██████████| 724/724 [00:26<00:00, 27.00it/s, Batch Loss=1522.4346]\n"
     ]
    },
    {
     "name": "stdout",
     "output_type": "stream",
     "text": [
      "Epoch 13, Loss: 1515.9311\n"
     ]
    },
    {
     "name": "stderr",
     "output_type": "stream",
     "text": [
      "100%|██████████| 724/724 [00:26<00:00, 27.06it/s, Batch Loss=1769.3717]\n"
     ]
    },
    {
     "name": "stdout",
     "output_type": "stream",
     "text": [
      "Epoch 14, Loss: 1383.2143\n"
     ]
    },
    {
     "name": "stderr",
     "output_type": "stream",
     "text": [
      "100%|██████████| 724/724 [00:26<00:00, 27.07it/s, Batch Loss=1151.5454]\n"
     ]
    },
    {
     "name": "stdout",
     "output_type": "stream",
     "text": [
      "Epoch 15, Loss: 1262.9783\n"
     ]
    },
    {
     "name": "stderr",
     "output_type": "stream",
     "text": [
      "100%|██████████| 724/724 [00:26<00:00, 26.97it/s, Batch Loss=1180.9697]\n"
     ]
    },
    {
     "name": "stdout",
     "output_type": "stream",
     "text": [
      "Epoch 16, Loss: 1155.7820\n"
     ]
    },
    {
     "name": "stderr",
     "output_type": "stream",
     "text": [
      "100%|██████████| 724/724 [00:26<00:00, 26.83it/s, Batch Loss=982.1979]\n"
     ]
    },
    {
     "name": "stdout",
     "output_type": "stream",
     "text": [
      "Epoch 17, Loss: 1060.9619\n"
     ]
    },
    {
     "name": "stderr",
     "output_type": "stream",
     "text": [
      "100%|██████████| 724/724 [00:26<00:00, 27.07it/s, Batch Loss=913.6564]\n"
     ]
    },
    {
     "name": "stdout",
     "output_type": "stream",
     "text": [
      "Epoch 18, Loss: 974.2169\n"
     ]
    },
    {
     "name": "stderr",
     "output_type": "stream",
     "text": [
      "100%|██████████| 724/724 [00:26<00:00, 27.10it/s, Batch Loss=934.7592]\n"
     ]
    },
    {
     "name": "stdout",
     "output_type": "stream",
     "text": [
      "Epoch 19, Loss: 900.8877\n"
     ]
    },
    {
     "name": "stderr",
     "output_type": "stream",
     "text": [
      "100%|██████████| 724/724 [00:26<00:00, 27.09it/s, Batch Loss=803.2232]\n"
     ]
    },
    {
     "name": "stdout",
     "output_type": "stream",
     "text": [
      "Epoch 20, Loss: 835.9125\n"
     ]
    },
    {
     "name": "stderr",
     "output_type": "stream",
     "text": [
      "100%|██████████| 724/724 [00:26<00:00, 27.13it/s, Batch Loss=905.1976]\n"
     ]
    },
    {
     "name": "stdout",
     "output_type": "stream",
     "text": [
      "Epoch 21, Loss: 782.5491\n"
     ]
    },
    {
     "name": "stderr",
     "output_type": "stream",
     "text": [
      "100%|██████████| 724/724 [00:26<00:00, 27.09it/s, Batch Loss=958.3369]\n"
     ]
    },
    {
     "name": "stdout",
     "output_type": "stream",
     "text": [
      "Epoch 22, Loss: 734.5266\n"
     ]
    },
    {
     "name": "stderr",
     "output_type": "stream",
     "text": [
      "100%|██████████| 724/724 [00:26<00:00, 27.08it/s, Batch Loss=678.9667]\n"
     ]
    },
    {
     "name": "stdout",
     "output_type": "stream",
     "text": [
      "Epoch 23, Loss: 690.0462\n"
     ]
    },
    {
     "name": "stderr",
     "output_type": "stream",
     "text": [
      "100%|██████████| 724/724 [00:26<00:00, 27.04it/s, Batch Loss=638.9466]\n"
     ]
    },
    {
     "name": "stdout",
     "output_type": "stream",
     "text": [
      "Epoch 24, Loss: 653.8730\n"
     ]
    },
    {
     "name": "stderr",
     "output_type": "stream",
     "text": [
      "100%|██████████| 724/724 [00:26<00:00, 26.95it/s, Batch Loss=517.3447]\n"
     ]
    },
    {
     "name": "stdout",
     "output_type": "stream",
     "text": [
      "Epoch 25, Loss: 621.8404\n"
     ]
    },
    {
     "name": "stderr",
     "output_type": "stream",
     "text": [
      "100%|██████████| 724/724 [00:26<00:00, 26.92it/s, Batch Loss=599.3875]\n"
     ]
    },
    {
     "name": "stdout",
     "output_type": "stream",
     "text": [
      "Epoch 26, Loss: 591.7822\n"
     ]
    },
    {
     "name": "stderr",
     "output_type": "stream",
     "text": [
      "100%|██████████| 724/724 [00:26<00:00, 26.94it/s, Batch Loss=641.7620]\n"
     ]
    },
    {
     "name": "stdout",
     "output_type": "stream",
     "text": [
      "Epoch 27, Loss: 565.7814\n"
     ]
    },
    {
     "name": "stderr",
     "output_type": "stream",
     "text": [
      "100%|██████████| 724/724 [00:26<00:00, 26.97it/s, Batch Loss=683.9539]\n"
     ]
    },
    {
     "name": "stdout",
     "output_type": "stream",
     "text": [
      "Epoch 28, Loss: 543.4885\n"
     ]
    },
    {
     "name": "stderr",
     "output_type": "stream",
     "text": [
      "100%|██████████| 724/724 [00:26<00:00, 27.09it/s, Batch Loss=537.4249]\n"
     ]
    },
    {
     "name": "stdout",
     "output_type": "stream",
     "text": [
      "Epoch 29, Loss: 520.8936\n"
     ]
    },
    {
     "name": "stderr",
     "output_type": "stream",
     "text": [
      "100%|██████████| 724/724 [00:26<00:00, 27.11it/s, Batch Loss=404.3753]"
     ]
    },
    {
     "name": "stdout",
     "output_type": "stream",
     "text": [
      "Epoch 30, Loss: 501.7793\n",
      "CPU times: user 13min, sys: 6.86 s, total: 13min 7s\n",
      "Wall time: 13min 23s\n"
     ]
    },
    {
     "name": "stderr",
     "output_type": "stream",
     "text": [
      "\n"
     ]
    }
   ],
   "source": [
    "%%time\n",
    "\n",
    "EPOCHS = 30\n",
    "\n",
    "for epoch in range(EPOCHS):\n",
    "    total_loss = 0.0\n",
    "    dataset_count = len(train_dataloader)  # train_loader는 PyTorch DataLoader입니다.\n",
    "    tqdm_bar = tqdm(total=dataset_count)\n",
    "\n",
    "    for batch, (src, tgt) in enumerate(train_dataloader):\n",
    "        # train_step 함수는 (loss, enc_attns, dec_attns, dec_enc_attns)를 반환합니다.\n",
    "        loss, enc_attns, dec_attns, dec_enc_attns = train_step(src, tgt, transformer, optimizer)\n",
    "\n",
    "        total_loss += loss.item()  # PyTorch에서는 loss.numpy() 대신 loss.item() 사용\n",
    "        tqdm_bar.set_postfix({\"Batch Loss\": f\"{loss.item():.4f}\"})\n",
    "        tqdm_bar.update(1)\n",
    "\n",
    "    tqdm_bar.close()\n",
    "    print(f\"Epoch {epoch+1}, Loss: {total_loss / dataset_count:.4f}\")"
   ]
  },
  {
   "cell_type": "markdown",
   "metadata": {
    "id": "hDJEQN4IJdE3"
   },
   "source": [
    "## Step 7. 성능 측정하기"
   ]
  },
  {
   "cell_type": "code",
   "execution_count": 37,
   "metadata": {
    "id": "pfLxqYhKJe0B"
   },
   "outputs": [],
   "source": [
    "import torch\n",
    "import torch.nn.functional as F\n",
    "from nltk.translate.bleu_score import sentence_bleu\n",
    "from nltk.translate.bleu_score import SmoothingFunction\n",
    "from tqdm import tqdm\n",
    "\n",
    "# 최대 길이 상수 정의 (노트북의 max_length와 맞춤)\n",
    "MAX_LEN = 27  # 질문 최대 길이\n",
    "MAX_ANS_LEN = 31  # 답변 최대 길이"
   ]
  },
  {
   "cell_type": "code",
   "execution_count": 45,
   "metadata": {
    "id": "F5feJeG6e2rq"
   },
   "outputs": [],
   "source": [
    "def preprocess_input(sentence, sp_tokenizer, vocab_to_idx, max_length=27):\n",
    "    \"\"\"\n",
    "    입력 문장을 전처리하고 토큰화하여 모델 입력 형태로 변환\n",
    "\n",
    "    Args:\n",
    "        sentence: 입력 문장 (문자열)\n",
    "        sp_tokenizer: SentencePiece 토크나이저\n",
    "        vocab_to_idx: 어휘 사전 (토큰 -> 인덱스)\n",
    "        max_length: 최대 길이 (기본값: 27)\n",
    "\n",
    "    Returns:\n",
    "        torch.Tensor: [1, max_length] 형태의 텐서 (배치 차원 포함)\n",
    "    \"\"\"\n",
    "    # 1. 전처리 (기존 preprocess_sentence 함수 사용)\n",
    "    processed = preprocess_sentence(sentence)\n",
    "\n",
    "    # 2. SentencePiece 토큰화\n",
    "    tokens = sp_tokenizer.encode_as_pieces(processed)\n",
    "\n",
    "    # 3. 인덱스로 변환\n",
    "    indices = []\n",
    "    for token in tokens:\n",
    "        if token in vocab_to_idx:\n",
    "            indices.append(vocab_to_idx[token])\n",
    "        else:\n",
    "            indices.append(vocab_to_idx[\"<unk>\"])\n",
    "\n",
    "    # 4. 패딩 또는 자르기\n",
    "    if len(indices) < max_length:\n",
    "        indices.extend([vocab_to_idx[\"<pad>\"]] * (max_length - len(indices)))\n",
    "    else:\n",
    "        indices = indices[:max_length]\n",
    "\n",
    "    return torch.tensor([indices], dtype=torch.long)  # 배치 차원 추가"
   ]
  },
  {
   "cell_type": "code",
   "execution_count": 38,
   "metadata": {
    "id": "MOGnKg0BJkB_"
   },
   "outputs": [],
   "source": [
    "def translate(tokens, model, vocab_to_idx, idx_to_vocab, sp_tokenizer, device):\n",
    "    \"\"\"\n",
    "    주어진 토큰들로부터 응답을 생성하는 함수\n",
    "\n",
    "    Args:\n",
    "        tokens: 입력 토큰 리스트 (인덱스)\n",
    "        model: 훈련된 Transformer 모델\n",
    "        vocab_to_idx, idx_to_vocab: 어휘 사전\n",
    "        sp_tokenizer: SentencePiece 토크나이저\n",
    "        device: GPU/CPU 장치\n",
    "    \"\"\"\n",
    "    model.eval()\n",
    "\n",
    "    # tokens 길이 조정 (패딩 또는 자르기)\n",
    "    if len(tokens) > MAX_LEN:\n",
    "        tokens = tokens[:MAX_LEN]\n",
    "    else:\n",
    "        tokens = tokens + [vocab_to_idx[\"<pad>\"]] * (MAX_LEN - len(tokens))\n",
    "\n",
    "    # 배치 차원을 추가하여 텐서로 변환 (shape: [1, MAX_LEN])\n",
    "    padded_tokens = torch.tensor([tokens], dtype=torch.long, device=device)\n",
    "\n",
    "    ids = []\n",
    "    # 디코더의 첫 입력은 <start> 토큰 (배치 차원 추가)\n",
    "    output = torch.tensor([[vocab_to_idx[\"<start>\"]]], dtype=torch.long, device=device)\n",
    "\n",
    "    with torch.no_grad():\n",
    "        for i in range(MAX_ANS_LEN - 1):  # <start> 제외하고 최대 길이만큼\n",
    "            # 마스크 생성\n",
    "            enc_mask, dec_enc_mask, dec_mask = generate_masks(padded_tokens, output)\n",
    "\n",
    "            # 모델 예측: predictions shape: [batch, seq_len, num_classes]\n",
    "            predictions, _, _, _ = model(padded_tokens, output, enc_mask, dec_enc_mask, dec_mask)\n",
    "\n",
    "            # 마지막 시퀀스 위치의 예측값을 소프트맥스 후 argmax로 선택\n",
    "            predicted_id = predictions[0, -1].softmax(dim=-1).argmax(dim=-1).item()\n",
    "\n",
    "            # <end> 토큰에 도달하면 현재까지의 예측 토큰 ids를 디코딩 후 반환\n",
    "            if predicted_id == vocab_to_idx[\"<end>\"]:\n",
    "                break\n",
    "\n",
    "            ids.append(predicted_id)\n",
    "\n",
    "            # 현재 output에 새로운 예측 토큰을 연결 (dim=1)\n",
    "            new_token = torch.tensor([[predicted_id]], dtype=torch.long, device=device)\n",
    "            output = torch.cat([output, new_token], dim=1)\n",
    "\n",
    "    # 토큰들을 텍스트로 변환\n",
    "    result_tokens = [idx_to_vocab[idx] for idx in ids if idx in idx_to_vocab]\n",
    "    result = sp_tokenizer.decode_pieces(result_tokens)\n",
    "\n",
    "    return result"
   ]
  },
  {
   "cell_type": "code",
   "execution_count": 39,
   "metadata": {
    "id": "N-MyfWK0JmTC"
   },
   "outputs": [],
   "source": [
    "def eval_bleu_single(model, src_sentence, tgt_sentence, vocab_to_idx, idx_to_vocab, sp_tokenizer, device, verbose=True):\n",
    "    \"\"\"\n",
    "    단일 문장 쌍에 대해 BLEU 점수 계산\n",
    "\n",
    "    Args:\n",
    "        src_sentence: 소스 문장 (문자열)\n",
    "        tgt_sentence: 타겟 문장 (문자열)\n",
    "    \"\"\"\n",
    "    # 소스 문장을 토큰화 (기존 preprocess_input 함수 활용)\n",
    "    src_tokens_tensor = preprocess_input(src_sentence, sp_tokenizer, vocab_to_idx, MAX_LEN)\n",
    "    src_tokens = src_tokens_tensor[0].tolist()  # 배치 차원 제거하고 리스트로 변환\n",
    "\n",
    "    # 타겟 문장을 토큰화\n",
    "    tgt_processed = preprocess_sentence(tgt_sentence)\n",
    "    tgt_tokens = sp_tokenizer.encode_as_pieces(tgt_processed)\n",
    "\n",
    "    # 길이 체크\n",
    "    if len([t for t in src_tokens if t != vocab_to_idx[\"<pad>\"]]) > MAX_LEN:\n",
    "        return None\n",
    "    if len(tgt_tokens) > MAX_ANS_LEN:\n",
    "        return None\n",
    "\n",
    "    # 참조 답변과 모델 예측 생성\n",
    "    reference = tgt_tokens  # 토큰화된 참조 답변\n",
    "    candidate_text = translate(src_tokens, model, vocab_to_idx, idx_to_vocab, sp_tokenizer, device)\n",
    "    candidate = sp_tokenizer.encode_as_pieces(candidate_text)  # 예측 결과를 토큰화\n",
    "\n",
    "    # BLEU 점수 계산\n",
    "    score = sentence_bleu([reference], candidate,\n",
    "                         smoothing_function=SmoothingFunction().method1)\n",
    "\n",
    "    if verbose:\n",
    "        print(\"Source Sentence: \", src_sentence)\n",
    "        print(\"Model Prediction: \", candidate_text)\n",
    "        print(\"Model Tokens: \", candidate)\n",
    "        print(\"Real: \", tgt_sentence)\n",
    "        print(\"Real Tokens: \", reference)\n",
    "        print(\"Score: %f\\n\" % score)\n",
    "\n",
    "    return score"
   ]
  },
  {
   "cell_type": "code",
   "execution_count": 40,
   "metadata": {
    "id": "HyryjeKNJouP"
   },
   "outputs": [],
   "source": [
    "def eval_bleu(model, src_sentences, tgt_sentences, vocab_to_idx, idx_to_vocab, sp_tokenizer, device, verbose=True):\n",
    "    \"\"\"\n",
    "    여러 문장 쌍에 대해 전체 BLEU 점수 계산\n",
    "\n",
    "    Args:\n",
    "        src_sentences: 소스 문장들의 리스트\n",
    "        tgt_sentences: 타겟 문장들의 리스트\n",
    "    \"\"\"\n",
    "    total_score = 0.0\n",
    "    valid_samples = 0\n",
    "    sample_size = len(src_sentences)\n",
    "\n",
    "    print(f\"=== BLEU 평가 시작 (총 {sample_size}개 샘플) ===\")\n",
    "\n",
    "    for idx in tqdm(range(sample_size)):\n",
    "        try:\n",
    "            score = eval_bleu_single(\n",
    "                model, src_sentences[idx], tgt_sentences[idx],\n",
    "                vocab_to_idx, idx_to_vocab, sp_tokenizer, device, verbose=False\n",
    "            )\n",
    "            if score is not None:\n",
    "                total_score += score\n",
    "                valid_samples += 1\n",
    "\n",
    "            # 일부 샘플은 상세 출력\n",
    "            if verbose and idx < 5:\n",
    "                print(f\"\\n=== 샘플 {idx+1} ===\")\n",
    "                eval_bleu_single(\n",
    "                    model, src_sentences[idx], tgt_sentences[idx],\n",
    "                    vocab_to_idx, idx_to_vocab, sp_tokenizer, device, verbose=True\n",
    "                )\n",
    "\n",
    "        except Exception as e:\n",
    "            print(f\"샘플 {idx+1} 처리 중 오류: {e}\")\n",
    "            continue\n",
    "\n",
    "    if valid_samples > 0:\n",
    "        avg_score = total_score / valid_samples\n",
    "        print(f\"\\n=== BLEU 평가 결과 ===\")\n",
    "        print(f\"전체 샘플 수: {sample_size}\")\n",
    "        print(f\"유효 샘플 수: {valid_samples}\")\n",
    "        print(f\"평균 BLEU 점수: {avg_score:.6f}\")\n",
    "        return avg_score\n",
    "    else:\n",
    "        print(\"유효한 샘플이 없습니다.\")\n",
    "        return 0.0"
   ]
  },
  {
   "cell_type": "code",
   "execution_count": 41,
   "metadata": {
    "id": "oNOuwg9BJrkw"
   },
   "outputs": [],
   "source": [
    "def evaluate_test_bleu(model, test_que, test_ans, vocab_to_idx, idx_to_vocab, sp_tokenizer, device, num_samples=None):\n",
    "    \"\"\"\n",
    "    테스트 데이터로 BLEU 점수 평가\n",
    "\n",
    "    Args:\n",
    "        test_que: 테스트 질문 리스트 (토큰화된 상태)\n",
    "        test_ans: 테스트 답변 리스트 (토큰화된 상태, <start>/<end> 포함)\n",
    "        num_samples: 평가할 샘플 수 (None이면 전체)\n",
    "    \"\"\"\n",
    "    # 토큰화된 데이터를 문자열로 변환\n",
    "    test_src_sentences = []\n",
    "    test_tgt_sentences = []\n",
    "\n",
    "    sample_count = len(test_que) if num_samples is None else min(num_samples, len(test_que))\n",
    "\n",
    "    for i in range(sample_count):\n",
    "        # 질문 토큰을 문자열로 변환\n",
    "        src_tokens = [idx_to_vocab[idx] for idx in test_que[i] if idx != vocab_to_idx[\"<pad>\"]]\n",
    "        src_sentence = sp_tokenizer.decode_pieces(src_tokens)\n",
    "        test_src_sentences.append(src_sentence)\n",
    "\n",
    "        # 답변 토큰을 문자열로 변환 (<start>, <end> 제거)\n",
    "        tgt_tokens = [idx_to_vocab[idx] for idx in test_ans[i]\n",
    "                     if idx not in [vocab_to_idx[\"<pad>\"], vocab_to_idx[\"<start>\"], vocab_to_idx[\"<end>\"]]]\n",
    "        tgt_sentence = sp_tokenizer.decode_pieces(tgt_tokens)\n",
    "        test_tgt_sentences.append(tgt_sentence)\n",
    "\n",
    "    # BLEU 평가 실행\n",
    "    bleu_score = eval_bleu(\n",
    "        model, test_src_sentences, test_tgt_sentences,\n",
    "        vocab_to_idx, idx_to_vocab, sp_tokenizer, device, verbose=True\n",
    "    )\n",
    "\n",
    "    return bleu_score\n",
    "    \"\"\"\n",
    "    입력 문장을 전처리하고 토큰화하여 모델 입력 형태로 변환\n",
    "    \"\"\"\n",
    "    # 1. 전처리 (기존 preprocess_sentence 함수 사용)\n",
    "    processed = preprocess_sentence(sentence)\n",
    "\n",
    "    # 2. SentencePiece 토큰화\n",
    "    tokens = sp_tokenizer.encode_as_pieces(processed)\n",
    "\n",
    "    # 3. 인덱스로 변환\n",
    "    indices = []\n",
    "    for token in tokens:\n",
    "        if token in vocab_to_idx:\n",
    "            indices.append(vocab_to_idx[token])\n",
    "        else:\n",
    "            indices.append(vocab_to_idx[\"<unk>\"])\n",
    "\n",
    "    # 4. 패딩 또는 자르기\n",
    "    if len(indices) < max_length:\n",
    "        indices.extend([vocab_to_idx[\"<pad>\"]] * (max_length - len(indices)))\n",
    "    else:\n",
    "        indices = indices[:max_length]\n",
    "\n",
    "    return torch.tensor([indices], dtype=torch.long)  # batch 차원 추가"
   ]
  },
  {
   "cell_type": "code",
   "execution_count": 42,
   "metadata": {
    "id": "M3_t8od1JuWv"
   },
   "outputs": [],
   "source": [
    "def generate_response(model, input_sentence, sp_tokenizer, vocab_to_idx, idx_to_vocab,\n",
    "                     device, max_length=31, temperature=1.0):\n",
    "    \"\"\"\n",
    "    훈련된 모델을 사용해서 입력 문장에 대한 응답 생성\n",
    "\n",
    "    Args:\n",
    "        model: 훈련된 Transformer 모델\n",
    "        input_sentence: 입력 문장 (문자열)\n",
    "        sp_tokenizer: SentencePiece 토크나이저\n",
    "        vocab_to_idx, idx_to_vocab: 어휘 사전\n",
    "        device: GPU/CPU 장치\n",
    "        max_length: 최대 생성 길이\n",
    "        temperature: 생성 다양성 조절 (1.0=원본, 낮을수록 보수적)\n",
    "    \"\"\"\n",
    "    model.eval()  # 평가 모드로 전환\n",
    "\n",
    "    # 1. 입력 전처리\n",
    "    src = preprocess_input(input_sentence, sp_tokenizer, vocab_to_idx).to(device)\n",
    "\n",
    "    # 2. 디코더 입력 초기화 (<start> 토큰으로 시작)\n",
    "    tgt_input = torch.tensor([[vocab_to_idx[\"<start>\"]]], dtype=torch.long).to(device)\n",
    "\n",
    "    generated_tokens = []\n",
    "\n",
    "    with torch.no_grad():\n",
    "        for _ in range(max_length - 1):  # <start> 제외하고 최대 길이만큼 생성\n",
    "            # 마스크 생성\n",
    "            enc_mask, dec_enc_mask, dec_mask = generate_masks(src, tgt_input)\n",
    "\n",
    "            # 모델 예측\n",
    "            predictions, _, _, _ = model(src, tgt_input, enc_mask, dec_enc_mask, dec_mask)\n",
    "\n",
    "            # 마지막 토큰의 예측 결과 (다음 토큰 예측)\n",
    "            next_token_logits = predictions[0, -1, :]  # [vocab_size]\n",
    "\n",
    "            # Temperature 적용\n",
    "            if temperature != 1.0:\n",
    "                next_token_logits = next_token_logits / temperature\n",
    "\n",
    "            # 소프트맥스로 확률 분포 계산\n",
    "            probs = F.softmax(next_token_logits, dim=-1)\n",
    "\n",
    "            # 다음 토큰 샘플링 (확률적 선택)\n",
    "            next_token = torch.multinomial(probs, num_samples=1)\n",
    "\n",
    "            # <end> 토큰이면 생성 종료\n",
    "            if next_token.item() == vocab_to_idx[\"<end>\"]:\n",
    "                break\n",
    "\n",
    "            # 생성된 토큰 저장\n",
    "            generated_tokens.append(next_token.item())\n",
    "\n",
    "            # 디코더 입력에 새 토큰 추가\n",
    "            tgt_input = torch.cat([tgt_input, next_token.unsqueeze(0)], dim=1)\n",
    "\n",
    "    # 3. 토큰을 텍스트로 변환\n",
    "    response_tokens = [idx_to_vocab[idx] for idx in generated_tokens if idx in idx_to_vocab]\n",
    "    response_text = sp_tokenizer.decode_pieces(response_tokens)\n",
    "\n",
    "    return response_text, response_tokens"
   ]
  },
  {
   "cell_type": "code",
   "execution_count": 43,
   "metadata": {
    "id": "tAYE6n64JyZz"
   },
   "outputs": [],
   "source": [
    "# 사용 예시\n",
    "def test_model_responses(model, sp_tokenizer, vocab_to_idx, idx_to_vocab, device,\n",
    "                        reference_answers=None):\n",
    "    \"\"\"\n",
    "    몇 가지 테스트 문장으로 모델 성능 확인 (BLEU 점수 포함)\n",
    "\n",
    "    Args:\n",
    "        reference_answers: 각 테스트 문장에 대한 참조 답변 리스트 (선택사항)\n",
    "    \"\"\"\n",
    "    from nltk.translate.bleu_score import sentence_bleu\n",
    "    from nltk.translate.bleu_score import SmoothingFunction\n",
    "\n",
    "    test_sentences = [\n",
    "        \"사랑이란 뭘까?\"\n",
    "        \"안녕하세요\",\n",
    "        \"오늘 날씨가 좋네요\",\n",
    "        \"여행 가고 싶어요\",\n",
    "        \"심심해요\",\n",
    "        \"고마워요\",\n",
    "        \"배고파요\",\n",
    "        \"영화 추천해주세요\",\n",
    "        \"기분이 안 좋아요\"\n",
    "    ]\n",
    "\n",
    "    # 기본 참조 답변 (실제 데이터에서 가져오거나 수동으로 작성)\n",
    "    if reference_answers is None:\n",
    "        reference_answers = [\n",
    "            [\"사랑에는\", \"답이\", \"없어요\"],\n",
    "            [\"안녕하세요\", \"반갑습니다\", \"안녕\"],\n",
    "            [\"날씨가 정말 좋네요\", \"좋은 날씨네요\", \"날씨 좋아요\"],\n",
    "            [\"여행 좋죠\", \"어디로 가고 싶으세요\", \"여행은 언제나 좋죠\"],\n",
    "            [\"뭔가 재미있는 걸 해보세요\", \"심심하시군요\", \"재미있는 일이 있으면 좋겠네요\"],\n",
    "            [\"천만에요\", \"별말씀을요\", \"도움이 되어서 다행이에요\"],\n",
    "            [\"맛있는 음식 드세요\", \"뭔가 드시면 좋겠네요\", \"배고프시군요\"],\n",
    "            [\"좋은 영화 추천해드릴게요\", \"어떤 장르 좋아하세요\", \"영화 보는 거 좋죠\"],\n",
    "            [\"위로해 드립니다\", \"기분이 나아지면 좋겠어요\", \"힘내세요\"]\n",
    "        ]\n",
    "\n",
    "    print(\"=== 모델 테스트 (BLEU 점수 포함) ===\\n\")\n",
    "\n",
    "    total_bleu_scores = []\n",
    "    smoothie = SmoothingFunction().method4  # 스무딩 함수\n",
    "\n",
    "    for i, sentence in enumerate(test_sentences):\n",
    "        try:\n",
    "            response, tokens = generate_response(\n",
    "                model, sentence, sp_tokenizer, vocab_to_idx,\n",
    "                idx_to_vocab, device, temperature=0.7\n",
    "            )\n",
    "\n",
    "            # 생성된 응답을 토큰화 (BLEU 계산용)\n",
    "            generated_tokens = sp_tokenizer.encode_as_pieces(response)\n",
    "\n",
    "            # 참조 답변들을 토큰화\n",
    "            reference_tokens_list = []\n",
    "            for ref in reference_answers[i]:\n",
    "                ref_tokens = sp_tokenizer.encode_as_pieces(ref)\n",
    "                reference_tokens_list.append(ref_tokens)\n",
    "\n",
    "            # BLEU 점수 계산 (1-gram부터 4-gram까지)\n",
    "            bleu_1 = sentence_bleu(reference_tokens_list, generated_tokens,\n",
    "                                 weights=(1, 0, 0, 0), smoothing_function=smoothie)\n",
    "            bleu_2 = sentence_bleu(reference_tokens_list, generated_tokens,\n",
    "                                 weights=(0.5, 0.5, 0, 0), smoothing_function=smoothie)\n",
    "            bleu_3 = sentence_bleu(reference_tokens_list, generated_tokens,\n",
    "                                 weights=(0.33, 0.33, 0.33, 0), smoothing_function=smoothie)\n",
    "            bleu_4 = sentence_bleu(reference_tokens_list, generated_tokens,\n",
    "                                 weights=(0.25, 0.25, 0.25, 0.25), smoothing_function=smoothie)\n",
    "\n",
    "            total_bleu_scores.append([bleu_1, bleu_2, bleu_3, bleu_4])\n",
    "\n",
    "            print(f\"입력: {sentence}\")\n",
    "            print(f\"출력: {response}\")\n",
    "            print(f\"BLEU-1: {bleu_1:.4f}\")\n",
    "            print(f\"BLEU-2: {bleu_2:.4f}\")\n",
    "            print(f\"BLEU-3: {bleu_3:.4f}\")\n",
    "            print(f\"BLEU-4: {bleu_4:.4f}\")\n",
    "            print(\"-\" * 50)\n",
    "\n",
    "        except Exception as e:\n",
    "            print(f\"'{sentence}' 처리 중 오류: {e}\")\n",
    "            print(\"-\" * 50)\n",
    "\n",
    "    # 전체 평균 BLEU 점수 계산\n",
    "    if total_bleu_scores:\n",
    "        avg_bleu_scores = np.mean(total_bleu_scores, axis=0)\n",
    "        print(f\"\\n=== 평균 BLEU 점수 ===\")\n",
    "        print(f\"평균 BLEU-1: {avg_bleu_scores[0]:.4f}\")\n",
    "        print(f\"평균 BLEU-2: {avg_bleu_scores[1]:.4f}\")\n",
    "        print(f\"평균 BLEU-3: {avg_bleu_scores[2]:.4f}\")\n",
    "        print(f\"평균 BLEU-4: {avg_bleu_scores[3]:.4f}\")\n",
    "\n",
    "        return avg_bleu_scores\n",
    "\n",
    "    return None"
   ]
  },
  {
   "cell_type": "code",
   "execution_count": 46,
   "metadata": {
    "colab": {
     "base_uri": "https://localhost:8080/"
    },
    "id": "iRQouFx9J0bB",
    "outputId": "b4240dce-98d7-4c90-a20f-0a03f372c5bf"
   },
   "outputs": [
    {
     "name": "stdout",
     "output_type": "stream",
     "text": [
      "=== 모델 테스트 (BLEU 점수 포함) ===\n",
      "\n",
      "입력: 사랑이란 뭘까?안녕하세요\n",
      "출력: 당신도 잘 여 기 전에 무엇 에서 시작 이네요 .\n",
      "BLEU-1: 0.0000\n",
      "BLEU-2: 0.0000\n",
      "BLEU-3: 0.0000\n",
      "BLEU-4: 0.0000\n",
      "--------------------------------------------------\n",
      "입력: 오늘 날씨가 좋네요\n",
      "출력: 잘 챙겨 아는 것도 좋아요 .\n",
      "BLEU-1: 0.0000\n",
      "BLEU-2: 0.0000\n",
      "BLEU-3: 0.0000\n",
      "BLEU-4: 0.0000\n",
      "--------------------------------------------------\n",
      "입력: 여행 가고 싶어요\n",
      "출력: 저도 좋아해요 .\n",
      "BLEU-1: 0.0000\n",
      "BLEU-2: 0.0000\n",
      "BLEU-3: 0.0000\n",
      "BLEU-4: 0.0000\n",
      "--------------------------------------------------\n",
      "입력: 심심해요\n",
      "출력: 잘 버텨 이네요 .\n",
      "BLEU-1: 0.0000\n",
      "BLEU-2: 0.0000\n",
      "BLEU-3: 0.0000\n",
      "BLEU-4: 0.0000\n",
      "--------------------------------------------------\n",
      "입력: 고마워요\n",
      "출력: 잘 챙겨 드세요 .\n",
      "BLEU-1: 0.0000\n",
      "BLEU-2: 0.0000\n",
      "BLEU-3: 0.0000\n",
      "BLEU-4: 0.0000\n",
      "--------------------------------------------------\n",
      "입력: 배고파요\n",
      "출력: 잘 챙겨 드세요 .\n",
      "BLEU-1: 0.0000\n",
      "BLEU-2: 0.0000\n",
      "BLEU-3: 0.0000\n",
      "BLEU-4: 0.0000\n",
      "--------------------------------------------------\n",
      "입력: 영화 추천해주세요\n",
      "출력: 영화 우 책 는 영화 보고 싶은 보고 싶은 보고 싶은 보고 싶은\n",
      "BLEU-1: 0.0000\n",
      "BLEU-2: 0.0000\n",
      "BLEU-3: 0.0000\n",
      "BLEU-4: 0.0000\n",
      "--------------------------------------------------\n",
      "입력: 기분이 안 좋아요\n",
      "출력: 잘 챙겨 드세요 .\n",
      "BLEU-1: 0.0000\n",
      "BLEU-2: 0.0000\n",
      "BLEU-3: 0.0000\n",
      "BLEU-4: 0.0000\n",
      "--------------------------------------------------\n",
      "\n",
      "=== 평균 BLEU 점수 ===\n",
      "평균 BLEU-1: 0.0000\n",
      "평균 BLEU-2: 0.0000\n",
      "평균 BLEU-3: 0.0000\n",
      "평균 BLEU-4: 0.0000\n"
     ]
    },
    {
     "data": {
      "text/plain": [
       "array([0., 0., 0., 0.])"
      ]
     },
     "execution_count": 46,
     "metadata": {},
     "output_type": "execute_result"
    }
   ],
   "source": [
    "# 모델 테스트\n",
    "test_model_responses(transformer, sp, vocab_to_idx, idx_to_vocab, device)"
   ]
  },
  {
   "cell_type": "markdown",
   "metadata": {
    "colab": {
     "base_uri": "https://localhost:8080/"
    },
    "id": "iRQouFx9J0bB",
    "outputId": "b4240dce-98d7-4c90-a20f-0a03f372c5bf"
   },
   "source": [
    "### 회고\n",
    "\n",
    "1. 동작은 하나 자연스러운 답이 나오지 않음.\n",
    "2. 증강이 오히려 성능을 떨어트리는 것 같음. 약간의 노이즈는 도움이 되나 노이즈가 너무 큰것 같음.\n",
    "3. 챗봇 등 생성 모델에는 BLEU score가 좋은 척도는 아니라 생각됨. 왜냐면 정답이 정해져 있지 않기 때문에"
   ]
  }
 ],
 "metadata": {
  "accelerator": "GPU",
  "colab": {
   "gpuType": "T4",
   "provenance": []
  },
  "kernelspec": {
   "display_name": "Python 3 (ipykernel)",
   "language": "python",
   "name": "python3"
  },
  "language_info": {
   "codemirror_mode": {
    "name": "ipython",
    "version": 3
   },
   "file_extension": ".py",
   "mimetype": "text/x-python",
   "name": "python",
   "nbconvert_exporter": "python",
   "pygments_lexer": "ipython3",
   "version": "3.12.11"
  }
 },
 "nbformat": 4,
 "nbformat_minor": 4
}
