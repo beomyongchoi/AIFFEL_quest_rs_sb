{
  "nbformat": 4,
  "nbformat_minor": 0,
  "metadata": {
    "colab": {
      "provenance": [],
      "gpuType": "T4"
    },
    "kernelspec": {
      "name": "python3",
      "display_name": "Python 3"
    },
    "language_info": {
      "name": "python"
    },
    "accelerator": "GPU",
    "widgets": {
      "application/vnd.jupyter.widget-state+json": {
        "d26f7d94ba7943eaa72d8efc223d8dd3": {
          "model_module": "@jupyter-widgets/controls",
          "model_name": "HBoxModel",
          "model_module_version": "1.5.0",
          "state": {
            "_dom_classes": [],
            "_model_module": "@jupyter-widgets/controls",
            "_model_module_version": "1.5.0",
            "_model_name": "HBoxModel",
            "_view_count": null,
            "_view_module": "@jupyter-widgets/controls",
            "_view_module_version": "1.5.0",
            "_view_name": "HBoxView",
            "box_style": "",
            "children": [
              "IPY_MODEL_1a17e754e12848ae9ed5228d2f6ad674",
              "IPY_MODEL_4118f0a9cc064042a1ad357f63211dbb",
              "IPY_MODEL_cd61f1d7bd594817a8bf08a1c031335f"
            ],
            "layout": "IPY_MODEL_775a9d74b6f14b9d89ec3079376cbfc1"
          }
        },
        "1a17e754e12848ae9ed5228d2f6ad674": {
          "model_module": "@jupyter-widgets/controls",
          "model_name": "HTMLModel",
          "model_module_version": "1.5.0",
          "state": {
            "_dom_classes": [],
            "_model_module": "@jupyter-widgets/controls",
            "_model_module_version": "1.5.0",
            "_model_name": "HTMLModel",
            "_view_count": null,
            "_view_module": "@jupyter-widgets/controls",
            "_view_module_version": "1.5.0",
            "_view_name": "HTMLView",
            "description": "",
            "description_tooltip": null,
            "layout": "IPY_MODEL_3e35f6f90d6b46f28787272ebec89e7d",
            "placeholder": "​",
            "style": "IPY_MODEL_4eecd356c2f149f880c1900464d0a3d2",
            "value": "Map: 100%"
          }
        },
        "4118f0a9cc064042a1ad357f63211dbb": {
          "model_module": "@jupyter-widgets/controls",
          "model_name": "FloatProgressModel",
          "model_module_version": "1.5.0",
          "state": {
            "_dom_classes": [],
            "_model_module": "@jupyter-widgets/controls",
            "_model_module_version": "1.5.0",
            "_model_name": "FloatProgressModel",
            "_view_count": null,
            "_view_module": "@jupyter-widgets/controls",
            "_view_module_version": "1.5.0",
            "_view_name": "ProgressView",
            "bar_style": "success",
            "description": "",
            "description_tooltip": null,
            "layout": "IPY_MODEL_2428a3eadaa54d12a704a87038c36e82",
            "max": 149995,
            "min": 0,
            "orientation": "horizontal",
            "style": "IPY_MODEL_f17beb33cb8e4bb698eb241a0415a792",
            "value": 149995
          }
        },
        "cd61f1d7bd594817a8bf08a1c031335f": {
          "model_module": "@jupyter-widgets/controls",
          "model_name": "HTMLModel",
          "model_module_version": "1.5.0",
          "state": {
            "_dom_classes": [],
            "_model_module": "@jupyter-widgets/controls",
            "_model_module_version": "1.5.0",
            "_model_name": "HTMLModel",
            "_view_count": null,
            "_view_module": "@jupyter-widgets/controls",
            "_view_module_version": "1.5.0",
            "_view_name": "HTMLView",
            "description": "",
            "description_tooltip": null,
            "layout": "IPY_MODEL_ab532831491245c984735de9872de123",
            "placeholder": "​",
            "style": "IPY_MODEL_5ee5b3e6d2284595a64977b31720f4e9",
            "value": " 149995/149995 [00:37&lt;00:00, 9295.26 examples/s]"
          }
        },
        "775a9d74b6f14b9d89ec3079376cbfc1": {
          "model_module": "@jupyter-widgets/base",
          "model_name": "LayoutModel",
          "model_module_version": "1.2.0",
          "state": {
            "_model_module": "@jupyter-widgets/base",
            "_model_module_version": "1.2.0",
            "_model_name": "LayoutModel",
            "_view_count": null,
            "_view_module": "@jupyter-widgets/base",
            "_view_module_version": "1.2.0",
            "_view_name": "LayoutView",
            "align_content": null,
            "align_items": null,
            "align_self": null,
            "border": null,
            "bottom": null,
            "display": null,
            "flex": null,
            "flex_flow": null,
            "grid_area": null,
            "grid_auto_columns": null,
            "grid_auto_flow": null,
            "grid_auto_rows": null,
            "grid_column": null,
            "grid_gap": null,
            "grid_row": null,
            "grid_template_areas": null,
            "grid_template_columns": null,
            "grid_template_rows": null,
            "height": null,
            "justify_content": null,
            "justify_items": null,
            "left": null,
            "margin": null,
            "max_height": null,
            "max_width": null,
            "min_height": null,
            "min_width": null,
            "object_fit": null,
            "object_position": null,
            "order": null,
            "overflow": null,
            "overflow_x": null,
            "overflow_y": null,
            "padding": null,
            "right": null,
            "top": null,
            "visibility": null,
            "width": null
          }
        },
        "3e35f6f90d6b46f28787272ebec89e7d": {
          "model_module": "@jupyter-widgets/base",
          "model_name": "LayoutModel",
          "model_module_version": "1.2.0",
          "state": {
            "_model_module": "@jupyter-widgets/base",
            "_model_module_version": "1.2.0",
            "_model_name": "LayoutModel",
            "_view_count": null,
            "_view_module": "@jupyter-widgets/base",
            "_view_module_version": "1.2.0",
            "_view_name": "LayoutView",
            "align_content": null,
            "align_items": null,
            "align_self": null,
            "border": null,
            "bottom": null,
            "display": null,
            "flex": null,
            "flex_flow": null,
            "grid_area": null,
            "grid_auto_columns": null,
            "grid_auto_flow": null,
            "grid_auto_rows": null,
            "grid_column": null,
            "grid_gap": null,
            "grid_row": null,
            "grid_template_areas": null,
            "grid_template_columns": null,
            "grid_template_rows": null,
            "height": null,
            "justify_content": null,
            "justify_items": null,
            "left": null,
            "margin": null,
            "max_height": null,
            "max_width": null,
            "min_height": null,
            "min_width": null,
            "object_fit": null,
            "object_position": null,
            "order": null,
            "overflow": null,
            "overflow_x": null,
            "overflow_y": null,
            "padding": null,
            "right": null,
            "top": null,
            "visibility": null,
            "width": null
          }
        },
        "4eecd356c2f149f880c1900464d0a3d2": {
          "model_module": "@jupyter-widgets/controls",
          "model_name": "DescriptionStyleModel",
          "model_module_version": "1.5.0",
          "state": {
            "_model_module": "@jupyter-widgets/controls",
            "_model_module_version": "1.5.0",
            "_model_name": "DescriptionStyleModel",
            "_view_count": null,
            "_view_module": "@jupyter-widgets/base",
            "_view_module_version": "1.2.0",
            "_view_name": "StyleView",
            "description_width": ""
          }
        },
        "2428a3eadaa54d12a704a87038c36e82": {
          "model_module": "@jupyter-widgets/base",
          "model_name": "LayoutModel",
          "model_module_version": "1.2.0",
          "state": {
            "_model_module": "@jupyter-widgets/base",
            "_model_module_version": "1.2.0",
            "_model_name": "LayoutModel",
            "_view_count": null,
            "_view_module": "@jupyter-widgets/base",
            "_view_module_version": "1.2.0",
            "_view_name": "LayoutView",
            "align_content": null,
            "align_items": null,
            "align_self": null,
            "border": null,
            "bottom": null,
            "display": null,
            "flex": null,
            "flex_flow": null,
            "grid_area": null,
            "grid_auto_columns": null,
            "grid_auto_flow": null,
            "grid_auto_rows": null,
            "grid_column": null,
            "grid_gap": null,
            "grid_row": null,
            "grid_template_areas": null,
            "grid_template_columns": null,
            "grid_template_rows": null,
            "height": null,
            "justify_content": null,
            "justify_items": null,
            "left": null,
            "margin": null,
            "max_height": null,
            "max_width": null,
            "min_height": null,
            "min_width": null,
            "object_fit": null,
            "object_position": null,
            "order": null,
            "overflow": null,
            "overflow_x": null,
            "overflow_y": null,
            "padding": null,
            "right": null,
            "top": null,
            "visibility": null,
            "width": null
          }
        },
        "f17beb33cb8e4bb698eb241a0415a792": {
          "model_module": "@jupyter-widgets/controls",
          "model_name": "ProgressStyleModel",
          "model_module_version": "1.5.0",
          "state": {
            "_model_module": "@jupyter-widgets/controls",
            "_model_module_version": "1.5.0",
            "_model_name": "ProgressStyleModel",
            "_view_count": null,
            "_view_module": "@jupyter-widgets/base",
            "_view_module_version": "1.2.0",
            "_view_name": "StyleView",
            "bar_color": null,
            "description_width": ""
          }
        },
        "ab532831491245c984735de9872de123": {
          "model_module": "@jupyter-widgets/base",
          "model_name": "LayoutModel",
          "model_module_version": "1.2.0",
          "state": {
            "_model_module": "@jupyter-widgets/base",
            "_model_module_version": "1.2.0",
            "_model_name": "LayoutModel",
            "_view_count": null,
            "_view_module": "@jupyter-widgets/base",
            "_view_module_version": "1.2.0",
            "_view_name": "LayoutView",
            "align_content": null,
            "align_items": null,
            "align_self": null,
            "border": null,
            "bottom": null,
            "display": null,
            "flex": null,
            "flex_flow": null,
            "grid_area": null,
            "grid_auto_columns": null,
            "grid_auto_flow": null,
            "grid_auto_rows": null,
            "grid_column": null,
            "grid_gap": null,
            "grid_row": null,
            "grid_template_areas": null,
            "grid_template_columns": null,
            "grid_template_rows": null,
            "height": null,
            "justify_content": null,
            "justify_items": null,
            "left": null,
            "margin": null,
            "max_height": null,
            "max_width": null,
            "min_height": null,
            "min_width": null,
            "object_fit": null,
            "object_position": null,
            "order": null,
            "overflow": null,
            "overflow_x": null,
            "overflow_y": null,
            "padding": null,
            "right": null,
            "top": null,
            "visibility": null,
            "width": null
          }
        },
        "5ee5b3e6d2284595a64977b31720f4e9": {
          "model_module": "@jupyter-widgets/controls",
          "model_name": "DescriptionStyleModel",
          "model_module_version": "1.5.0",
          "state": {
            "_model_module": "@jupyter-widgets/controls",
            "_model_module_version": "1.5.0",
            "_model_name": "DescriptionStyleModel",
            "_view_count": null,
            "_view_module": "@jupyter-widgets/base",
            "_view_module_version": "1.2.0",
            "_view_name": "StyleView",
            "description_width": ""
          }
        },
        "49946cb20d5f438a942e7d1ecae10dd2": {
          "model_module": "@jupyter-widgets/controls",
          "model_name": "HBoxModel",
          "model_module_version": "1.5.0",
          "state": {
            "_dom_classes": [],
            "_model_module": "@jupyter-widgets/controls",
            "_model_module_version": "1.5.0",
            "_model_name": "HBoxModel",
            "_view_count": null,
            "_view_module": "@jupyter-widgets/controls",
            "_view_module_version": "1.5.0",
            "_view_name": "HBoxView",
            "box_style": "",
            "children": [
              "IPY_MODEL_b9edf1bca57a4197809e3024b07bbac3",
              "IPY_MODEL_41e887365dc84e2b8bb625e96b5a916a",
              "IPY_MODEL_e097e94a24774b5490863f9c50142fc4"
            ],
            "layout": "IPY_MODEL_18d74fc73630464bacc17c0a8e6752f2"
          }
        },
        "b9edf1bca57a4197809e3024b07bbac3": {
          "model_module": "@jupyter-widgets/controls",
          "model_name": "HTMLModel",
          "model_module_version": "1.5.0",
          "state": {
            "_dom_classes": [],
            "_model_module": "@jupyter-widgets/controls",
            "_model_module_version": "1.5.0",
            "_model_name": "HTMLModel",
            "_view_count": null,
            "_view_module": "@jupyter-widgets/controls",
            "_view_module_version": "1.5.0",
            "_view_name": "HTMLView",
            "description": "",
            "description_tooltip": null,
            "layout": "IPY_MODEL_cc75bf1c418e4ba6899559d650f743b3",
            "placeholder": "​",
            "style": "IPY_MODEL_c4521f1db59b4db9b9efd9c41f46b860",
            "value": "Map: 100%"
          }
        },
        "41e887365dc84e2b8bb625e96b5a916a": {
          "model_module": "@jupyter-widgets/controls",
          "model_name": "FloatProgressModel",
          "model_module_version": "1.5.0",
          "state": {
            "_dom_classes": [],
            "_model_module": "@jupyter-widgets/controls",
            "_model_module_version": "1.5.0",
            "_model_name": "FloatProgressModel",
            "_view_count": null,
            "_view_module": "@jupyter-widgets/controls",
            "_view_module_version": "1.5.0",
            "_view_name": "ProgressView",
            "bar_style": "success",
            "description": "",
            "description_tooltip": null,
            "layout": "IPY_MODEL_5eeea1a09e534cc2bb43dd583af24532",
            "max": 49997,
            "min": 0,
            "orientation": "horizontal",
            "style": "IPY_MODEL_59e8aa75b32b4a13897ede3f0f05f4d7",
            "value": 49997
          }
        },
        "e097e94a24774b5490863f9c50142fc4": {
          "model_module": "@jupyter-widgets/controls",
          "model_name": "HTMLModel",
          "model_module_version": "1.5.0",
          "state": {
            "_dom_classes": [],
            "_model_module": "@jupyter-widgets/controls",
            "_model_module_version": "1.5.0",
            "_model_name": "HTMLModel",
            "_view_count": null,
            "_view_module": "@jupyter-widgets/controls",
            "_view_module_version": "1.5.0",
            "_view_name": "HTMLView",
            "description": "",
            "description_tooltip": null,
            "layout": "IPY_MODEL_283eaee7e96a4115a2b11963b86ac24a",
            "placeholder": "​",
            "style": "IPY_MODEL_d8d34bc19f714758af5af7934492ad5d",
            "value": " 49997/49997 [00:06&lt;00:00, 8665.15 examples/s]"
          }
        },
        "18d74fc73630464bacc17c0a8e6752f2": {
          "model_module": "@jupyter-widgets/base",
          "model_name": "LayoutModel",
          "model_module_version": "1.2.0",
          "state": {
            "_model_module": "@jupyter-widgets/base",
            "_model_module_version": "1.2.0",
            "_model_name": "LayoutModel",
            "_view_count": null,
            "_view_module": "@jupyter-widgets/base",
            "_view_module_version": "1.2.0",
            "_view_name": "LayoutView",
            "align_content": null,
            "align_items": null,
            "align_self": null,
            "border": null,
            "bottom": null,
            "display": null,
            "flex": null,
            "flex_flow": null,
            "grid_area": null,
            "grid_auto_columns": null,
            "grid_auto_flow": null,
            "grid_auto_rows": null,
            "grid_column": null,
            "grid_gap": null,
            "grid_row": null,
            "grid_template_areas": null,
            "grid_template_columns": null,
            "grid_template_rows": null,
            "height": null,
            "justify_content": null,
            "justify_items": null,
            "left": null,
            "margin": null,
            "max_height": null,
            "max_width": null,
            "min_height": null,
            "min_width": null,
            "object_fit": null,
            "object_position": null,
            "order": null,
            "overflow": null,
            "overflow_x": null,
            "overflow_y": null,
            "padding": null,
            "right": null,
            "top": null,
            "visibility": null,
            "width": null
          }
        },
        "cc75bf1c418e4ba6899559d650f743b3": {
          "model_module": "@jupyter-widgets/base",
          "model_name": "LayoutModel",
          "model_module_version": "1.2.0",
          "state": {
            "_model_module": "@jupyter-widgets/base",
            "_model_module_version": "1.2.0",
            "_model_name": "LayoutModel",
            "_view_count": null,
            "_view_module": "@jupyter-widgets/base",
            "_view_module_version": "1.2.0",
            "_view_name": "LayoutView",
            "align_content": null,
            "align_items": null,
            "align_self": null,
            "border": null,
            "bottom": null,
            "display": null,
            "flex": null,
            "flex_flow": null,
            "grid_area": null,
            "grid_auto_columns": null,
            "grid_auto_flow": null,
            "grid_auto_rows": null,
            "grid_column": null,
            "grid_gap": null,
            "grid_row": null,
            "grid_template_areas": null,
            "grid_template_columns": null,
            "grid_template_rows": null,
            "height": null,
            "justify_content": null,
            "justify_items": null,
            "left": null,
            "margin": null,
            "max_height": null,
            "max_width": null,
            "min_height": null,
            "min_width": null,
            "object_fit": null,
            "object_position": null,
            "order": null,
            "overflow": null,
            "overflow_x": null,
            "overflow_y": null,
            "padding": null,
            "right": null,
            "top": null,
            "visibility": null,
            "width": null
          }
        },
        "c4521f1db59b4db9b9efd9c41f46b860": {
          "model_module": "@jupyter-widgets/controls",
          "model_name": "DescriptionStyleModel",
          "model_module_version": "1.5.0",
          "state": {
            "_model_module": "@jupyter-widgets/controls",
            "_model_module_version": "1.5.0",
            "_model_name": "DescriptionStyleModel",
            "_view_count": null,
            "_view_module": "@jupyter-widgets/base",
            "_view_module_version": "1.2.0",
            "_view_name": "StyleView",
            "description_width": ""
          }
        },
        "5eeea1a09e534cc2bb43dd583af24532": {
          "model_module": "@jupyter-widgets/base",
          "model_name": "LayoutModel",
          "model_module_version": "1.2.0",
          "state": {
            "_model_module": "@jupyter-widgets/base",
            "_model_module_version": "1.2.0",
            "_model_name": "LayoutModel",
            "_view_count": null,
            "_view_module": "@jupyter-widgets/base",
            "_view_module_version": "1.2.0",
            "_view_name": "LayoutView",
            "align_content": null,
            "align_items": null,
            "align_self": null,
            "border": null,
            "bottom": null,
            "display": null,
            "flex": null,
            "flex_flow": null,
            "grid_area": null,
            "grid_auto_columns": null,
            "grid_auto_flow": null,
            "grid_auto_rows": null,
            "grid_column": null,
            "grid_gap": null,
            "grid_row": null,
            "grid_template_areas": null,
            "grid_template_columns": null,
            "grid_template_rows": null,
            "height": null,
            "justify_content": null,
            "justify_items": null,
            "left": null,
            "margin": null,
            "max_height": null,
            "max_width": null,
            "min_height": null,
            "min_width": null,
            "object_fit": null,
            "object_position": null,
            "order": null,
            "overflow": null,
            "overflow_x": null,
            "overflow_y": null,
            "padding": null,
            "right": null,
            "top": null,
            "visibility": null,
            "width": null
          }
        },
        "59e8aa75b32b4a13897ede3f0f05f4d7": {
          "model_module": "@jupyter-widgets/controls",
          "model_name": "ProgressStyleModel",
          "model_module_version": "1.5.0",
          "state": {
            "_model_module": "@jupyter-widgets/controls",
            "_model_module_version": "1.5.0",
            "_model_name": "ProgressStyleModel",
            "_view_count": null,
            "_view_module": "@jupyter-widgets/base",
            "_view_module_version": "1.2.0",
            "_view_name": "StyleView",
            "bar_color": null,
            "description_width": ""
          }
        },
        "283eaee7e96a4115a2b11963b86ac24a": {
          "model_module": "@jupyter-widgets/base",
          "model_name": "LayoutModel",
          "model_module_version": "1.2.0",
          "state": {
            "_model_module": "@jupyter-widgets/base",
            "_model_module_version": "1.2.0",
            "_model_name": "LayoutModel",
            "_view_count": null,
            "_view_module": "@jupyter-widgets/base",
            "_view_module_version": "1.2.0",
            "_view_name": "LayoutView",
            "align_content": null,
            "align_items": null,
            "align_self": null,
            "border": null,
            "bottom": null,
            "display": null,
            "flex": null,
            "flex_flow": null,
            "grid_area": null,
            "grid_auto_columns": null,
            "grid_auto_flow": null,
            "grid_auto_rows": null,
            "grid_column": null,
            "grid_gap": null,
            "grid_row": null,
            "grid_template_areas": null,
            "grid_template_columns": null,
            "grid_template_rows": null,
            "height": null,
            "justify_content": null,
            "justify_items": null,
            "left": null,
            "margin": null,
            "max_height": null,
            "max_width": null,
            "min_height": null,
            "min_width": null,
            "object_fit": null,
            "object_position": null,
            "order": null,
            "overflow": null,
            "overflow_x": null,
            "overflow_y": null,
            "padding": null,
            "right": null,
            "top": null,
            "visibility": null,
            "width": null
          }
        },
        "d8d34bc19f714758af5af7934492ad5d": {
          "model_module": "@jupyter-widgets/controls",
          "model_name": "DescriptionStyleModel",
          "model_module_version": "1.5.0",
          "state": {
            "_model_module": "@jupyter-widgets/controls",
            "_model_module_version": "1.5.0",
            "_model_name": "DescriptionStyleModel",
            "_view_count": null,
            "_view_module": "@jupyter-widgets/base",
            "_view_module_version": "1.2.0",
            "_view_name": "StyleView",
            "description_width": ""
          }
        }
      }
    }
  },
  "cells": [
    {
      "cell_type": "code",
      "execution_count": null,
      "metadata": {
        "colab": {
          "base_uri": "https://localhost:8080/"
        },
        "id": "RwDimXU6foMn",
        "outputId": "b5d2c94c-bfce-4cde-afc6-5eee29c6ee48"
      },
      "outputs": [
        {
          "output_type": "stream",
          "name": "stdout",
          "text": [
            "2.19.0\n",
            "2.0.2\n",
            "4.56.1\n",
            "4.0.0\n"
          ]
        }
      ],
      "source": [
        "import tensorflow\n",
        "import numpy\n",
        "import transformers\n",
        "import datasets\n",
        "\n",
        "print(tensorflow.__version__)\n",
        "print(numpy.__version__)\n",
        "print(transformers.__version__)\n",
        "print(datasets.__version__)"
      ]
    },
    {
      "cell_type": "code",
      "source": [
        "import pandas as pd\n",
        "from datasets import Dataset\n",
        "\n",
        "def parse_rating_file(file_path):\n",
        "    \"\"\"한국어 영화 리뷰 데이터 파일을 안전하게 파싱하는 함수\"\"\"\n",
        "    data = {\n",
        "        'id': [],\n",
        "        'document': [],\n",
        "        'label': []\n",
        "    }\n",
        "\n",
        "    with open(file_path, 'r', encoding='utf-8') as f:\n",
        "        # 헤더 스킵\n",
        "        next(f)\n",
        "\n",
        "        for line_num, line in enumerate(f, 1):\n",
        "            try:\n",
        "                line = line.strip()\n",
        "                if not line:  # 빈 줄 스킵\n",
        "                    continue\n",
        "\n",
        "                parts = line.split('\\t')\n",
        "                if len(parts) >= 3:\n",
        "                    # ID는 정수로 변환\n",
        "                    review_id = int(parts[0])\n",
        "                    # 문서 텍스트 (탭이 포함된 경우를 대비해 나머지 모든 부분을 합침)\n",
        "                    document = '\\t'.join(parts[1:-1]) if len(parts) > 3 else parts[1]\n",
        "                    # 라벨은 마지막 컬럼\n",
        "                    label = int(parts[-1])\n",
        "\n",
        "                    # 빈 문서나 잘못된 라벨 체크\n",
        "                    if not document.strip():\n",
        "                        print(f\"Line {line_num}: Empty document, skipping\")\n",
        "                        continue\n",
        "                    if label not in [0, 1]:\n",
        "                        print(f\"Line {line_num}: Invalid label {label}, skipping\")\n",
        "                        continue\n",
        "\n",
        "                    data['id'].append(review_id)\n",
        "                    data['document'].append(document.strip())\n",
        "                    data['label'].append(label)\n",
        "                else:\n",
        "                    print(f\"Line {line_num}: Invalid format (expected 3 columns), skipping\")\n",
        "            except ValueError as e:\n",
        "                print(f\"Line {line_num}: Value conversion error {e}, skipping\")\n",
        "            except Exception as e:\n",
        "                print(f\"Line {line_num}: Unexpected error {e}, skipping\")\n",
        "\n",
        "    return pd.DataFrame(data)"
      ],
      "metadata": {
        "id": "Whb_2zXkgD0k"
      },
      "execution_count": null,
      "outputs": []
    },
    {
      "cell_type": "code",
      "source": [
        "def load_rating_datasets(train_path, test_path):\n",
        "    \"\"\"훈련 및 테스트 데이터를 로드하고 기본 통계를 출력하는 함수\"\"\"\n",
        "    # 데이터 로드\n",
        "    train_df = parse_rating_file(train_path)\n",
        "    test_df = parse_rating_file(test_path)\n",
        "\n",
        "    # 기본 통계 출력\n",
        "    print(\"=== 훈련 데이터 정보 ===\")\n",
        "    print(f\"총 샘플 수: {len(train_df)}\")\n",
        "    print(f\"라벨 분포:\")\n",
        "    print(train_df['label'].value_counts().sort_index())\n",
        "    print(f\"평균 문서 길이: {train_df['document'].str.len().mean():.1f}자\")\n",
        "    print(f\"최대 문서 길이: {train_df['document'].str.len().max()}자\")\n",
        "\n",
        "    print(\"\\n=== 테스트 데이터 정보 ===\")\n",
        "    print(f\"총 샘플 수: {len(test_df)}\")\n",
        "    print(f\"라벨 분포:\")\n",
        "    print(test_df['label'].value_counts().sort_index())\n",
        "    print(f\"평균 문서 길이: {test_df['document'].str.len().mean():.1f}자\")\n",
        "    print(f\"최대 문서 길이: {test_df['document'].str.len().max()}자\")\n",
        "\n",
        "    # 샘플 데이터 출력\n",
        "    print(\"\\n=== 훈련 데이터 샘플 ===\")\n",
        "    for i in range(min(3, len(train_df))):\n",
        "        row = train_df.iloc[i]\n",
        "        print(f\"ID: {row['id']}\")\n",
        "        print(f\"라벨: {row['label']} ({'긍정' if row['label'] == 1 else '부정'})\")\n",
        "        print(f\"텍스트: {row['document']}\")\n",
        "        print(\"-\" * 50)\n",
        "\n",
        "    return train_df, test_df"
      ],
      "metadata": {
        "id": "Ld0spyLggGLh"
      },
      "execution_count": null,
      "outputs": []
    },
    {
      "cell_type": "code",
      "source": [
        "def convert_to_huggingface_dataset(df):\n",
        "    \"\"\"pandas DataFrame을 허깅페이스 Dataset으로 변환\"\"\"\n",
        "    return Dataset.from_pandas(df)"
      ],
      "metadata": {
        "id": "zvY3DO5hgIdH"
      },
      "execution_count": null,
      "outputs": []
    },
    {
      "cell_type": "code",
      "source": [
        "# 데이터 로드\n",
        "train_df, test_df = load_rating_datasets('ratings_train.txt', 'ratings_test.txt')\n",
        "\n",
        "# 허깅페이스 Dataset으로 변환\n",
        "train_dataset = convert_to_huggingface_dataset(train_df)\n",
        "test_dataset = convert_to_huggingface_dataset(test_df)\n",
        "\n",
        "print(f\"\\n=== 허깅페이스 Dataset 변환 완료 ===\")\n",
        "print(f\"훈련 데이터셋: {train_dataset}\")\n",
        "print(f\"테스트 데이터셋: {test_dataset}\")"
      ],
      "metadata": {
        "colab": {
          "base_uri": "https://localhost:8080/"
        },
        "id": "yzb2MVhIgWkl",
        "outputId": "e4e733d3-69ca-4ef3-c9a7-518b14b5f064"
      },
      "execution_count": null,
      "outputs": [
        {
          "output_type": "stream",
          "name": "stdout",
          "text": [
            "Line 25858: Empty document, skipping\n",
            "Line 55738: Empty document, skipping\n",
            "Line 110015: Empty document, skipping\n",
            "Line 126783: Empty document, skipping\n",
            "Line 140722: Empty document, skipping\n",
            "Line 5747: Empty document, skipping\n",
            "Line 7900: Empty document, skipping\n",
            "Line 27098: Empty document, skipping\n",
            "=== 훈련 데이터 정보 ===\n",
            "총 샘플 수: 149995\n",
            "라벨 분포:\n",
            "label\n",
            "0    75170\n",
            "1    74825\n",
            "Name: count, dtype: int64\n",
            "평균 문서 길이: 35.2자\n",
            "최대 문서 길이: 158자\n",
            "\n",
            "=== 테스트 데이터 정보 ===\n",
            "총 샘플 수: 49997\n",
            "라벨 분포:\n",
            "label\n",
            "0    24826\n",
            "1    25171\n",
            "Name: count, dtype: int64\n",
            "평균 문서 길이: 35.4자\n",
            "최대 문서 길이: 152자\n",
            "\n",
            "=== 훈련 데이터 샘플 ===\n",
            "ID: 9976970\n",
            "라벨: 0 (부정)\n",
            "텍스트: 아 더빙.. 진짜 짜증나네요 목소리\n",
            "--------------------------------------------------\n",
            "ID: 3819312\n",
            "라벨: 1 (긍정)\n",
            "텍스트: 흠...포스터보고 초딩영화줄....오버연기조차 가볍지 않구나\n",
            "--------------------------------------------------\n",
            "ID: 10265843\n",
            "라벨: 0 (부정)\n",
            "텍스트: 너무재밓었다그래서보는것을추천한다\n",
            "--------------------------------------------------\n",
            "\n",
            "=== 허깅페이스 Dataset 변환 완료 ===\n",
            "훈련 데이터셋: Dataset({\n",
            "    features: ['id', 'document', 'label'],\n",
            "    num_rows: 149995\n",
            "})\n",
            "테스트 데이터셋: Dataset({\n",
            "    features: ['id', 'document', 'label'],\n",
            "    num_rows: 49997\n",
            "})\n"
          ]
        }
      ]
    },
    {
      "cell_type": "code",
      "source": [
        "import transformers\n",
        "from transformers import AutoTokenizer, AutoModelForSequenceClassification\n",
        "\n",
        "# KLUE BERT 토크나이저와 모델 로드\n",
        "huggingface_tokenizer = AutoTokenizer.from_pretrained('klue/bert-base')\n",
        "huggingface_model = AutoModelForSequenceClassification.from_pretrained('klue/bert-base', num_labels=2)"
      ],
      "metadata": {
        "colab": {
          "base_uri": "https://localhost:8080/"
        },
        "id": "H0nJlMoPgZY0",
        "outputId": "fd4421e1-58a2-47d4-b4e9-853831c4c7d8"
      },
      "execution_count": null,
      "outputs": [
        {
          "output_type": "stream",
          "name": "stderr",
          "text": [
            "/usr/local/lib/python3.12/dist-packages/huggingface_hub/utils/_auth.py:94: UserWarning: \n",
            "The secret `HF_TOKEN` does not exist in your Colab secrets.\n",
            "To authenticate with the Hugging Face Hub, create a token in your settings tab (https://huggingface.co/settings/tokens), set it as secret in your Google Colab and restart your session.\n",
            "You will be able to reuse this secret in all of your notebooks.\n",
            "Please note that authentication is recommended but still optional to access public models or datasets.\n",
            "  warnings.warn(\n",
            "Some weights of BertForSequenceClassification were not initialized from the model checkpoint at klue/bert-base and are newly initialized: ['classifier.bias', 'classifier.weight']\n",
            "You should probably TRAIN this model on a down-stream task to be able to use it for predictions and inference.\n"
          ]
        }
      ]
    },
    {
      "cell_type": "code",
      "source": [
        "import numpy as np\n",
        "from transformers import TrainingArguments, Trainer\n",
        "from sklearn.metrics import accuracy_score\n",
        "import torch"
      ],
      "metadata": {
        "id": "Dl6KF94ogddt"
      },
      "execution_count": null,
      "outputs": []
    },
    {
      "cell_type": "code",
      "source": [
        "# 1. 데이터 전처리 함수\n",
        "def tokenize_function(examples):\n",
        "    \"\"\"텍스트를 토크나이징하는 함수\"\"\"\n",
        "    return huggingface_tokenizer(\n",
        "        examples['document'],\n",
        "        truncation=True,\n",
        "        padding=True,\n",
        "        max_length=128,  # 메모리와 속도를 고려한 길이\n",
        "        return_tensors=\"pt\" if isinstance(examples['document'], str) else None\n",
        "    )"
      ],
      "metadata": {
        "id": "pV7LNu-Dgfuw"
      },
      "execution_count": null,
      "outputs": []
    },
    {
      "cell_type": "code",
      "source": [
        "# 2. 평가 메트릭 함수\n",
        "def compute_metrics(eval_pred):\n",
        "    \"\"\"학습 중 평가 메트릭을 계산하는 함수\"\"\"\n",
        "    predictions, labels = eval_pred\n",
        "    predictions = np.argmax(predictions, axis=1)\n",
        "\n",
        "    accuracy = accuracy_score(labels, predictions)\n",
        "\n",
        "    return {\n",
        "        'accuracy': accuracy\n",
        "    }"
      ],
      "metadata": {
        "id": "-5F4TIpgghdp"
      },
      "execution_count": null,
      "outputs": []
    },
    {
      "cell_type": "code",
      "source": [
        "# 3. 데이터셋 준비\n",
        "print(\"=== 데이터셋 준비 중 ===\")\n",
        "\n",
        "# DataFrame을 HuggingFace Dataset으로 변환 (이미 위에서 했다면 스킵)\n",
        "if 'train_dataset' not in globals():\n",
        "    train_dataset = convert_to_huggingface_dataset(train_df)\n",
        "    test_dataset = convert_to_huggingface_dataset(test_df)\n",
        "\n",
        "# 토크나이징 적용\n",
        "print(\"토크나이징 진행 중...\")\n",
        "train_dataset_tokenized = train_dataset.map(tokenize_function, batched=True)\n",
        "test_dataset_tokenized = test_dataset.map(tokenize_function, batched=True)\n",
        "\n",
        "# 학습에 필요한 컬럼만 유지\n",
        "train_dataset_tokenized = train_dataset_tokenized.remove_columns(['id', 'document'])\n",
        "test_dataset_tokenized = test_dataset_tokenized.remove_columns(['id', 'document'])\n",
        "\n",
        "# 라벨 컬럼명 변경 (Trainer가 'labels'를 기대함)\n",
        "train_dataset_tokenized = train_dataset_tokenized.rename_column('label', 'labels')\n",
        "test_dataset_tokenized = test_dataset_tokenized.rename_column('label', 'labels')\n",
        "\n",
        "# 데이터 타입 설정\n",
        "train_dataset_tokenized.set_format('torch', columns=['input_ids', 'attention_mask', 'labels'])\n",
        "test_dataset_tokenized.set_format('torch', columns=['input_ids', 'attention_mask', 'labels'])\n",
        "\n",
        "print(f\"전처리 완료!\")\n",
        "print(f\"훈련 데이터: {len(train_dataset_tokenized)} 샘플\")\n",
        "print(f\"테스트 데이터: {len(test_dataset_tokenized)} 샘플\")"
      ],
      "metadata": {
        "colab": {
          "base_uri": "https://localhost:8080/",
          "height": 168,
          "referenced_widgets": [
            "d26f7d94ba7943eaa72d8efc223d8dd3",
            "1a17e754e12848ae9ed5228d2f6ad674",
            "4118f0a9cc064042a1ad357f63211dbb",
            "cd61f1d7bd594817a8bf08a1c031335f",
            "775a9d74b6f14b9d89ec3079376cbfc1",
            "3e35f6f90d6b46f28787272ebec89e7d",
            "4eecd356c2f149f880c1900464d0a3d2",
            "2428a3eadaa54d12a704a87038c36e82",
            "f17beb33cb8e4bb698eb241a0415a792",
            "ab532831491245c984735de9872de123",
            "5ee5b3e6d2284595a64977b31720f4e9",
            "49946cb20d5f438a942e7d1ecae10dd2",
            "b9edf1bca57a4197809e3024b07bbac3",
            "41e887365dc84e2b8bb625e96b5a916a",
            "e097e94a24774b5490863f9c50142fc4",
            "18d74fc73630464bacc17c0a8e6752f2",
            "cc75bf1c418e4ba6899559d650f743b3",
            "c4521f1db59b4db9b9efd9c41f46b860",
            "5eeea1a09e534cc2bb43dd583af24532",
            "59e8aa75b32b4a13897ede3f0f05f4d7",
            "283eaee7e96a4115a2b11963b86ac24a",
            "d8d34bc19f714758af5af7934492ad5d"
          ]
        },
        "id": "CgEkA5Gfgjvo",
        "outputId": "cb6eca1e-7d5e-4ad2-88f9-a91bcc292b83"
      },
      "execution_count": null,
      "outputs": [
        {
          "output_type": "stream",
          "name": "stdout",
          "text": [
            "=== 데이터셋 준비 중 ===\n",
            "토크나이징 진행 중...\n"
          ]
        },
        {
          "output_type": "display_data",
          "data": {
            "text/plain": [
              "Map:   0%|          | 0/149995 [00:00<?, ? examples/s]"
            ],
            "application/vnd.jupyter.widget-view+json": {
              "version_major": 2,
              "version_minor": 0,
              "model_id": "d26f7d94ba7943eaa72d8efc223d8dd3"
            }
          },
          "metadata": {}
        },
        {
          "output_type": "display_data",
          "data": {
            "text/plain": [
              "Map:   0%|          | 0/49997 [00:00<?, ? examples/s]"
            ],
            "application/vnd.jupyter.widget-view+json": {
              "version_major": 2,
              "version_minor": 0,
              "model_id": "49946cb20d5f438a942e7d1ecae10dd2"
            }
          },
          "metadata": {}
        },
        {
          "output_type": "stream",
          "name": "stdout",
          "text": [
            "전처리 완료!\n",
            "훈련 데이터: 149995 샘플\n",
            "테스트 데이터: 49997 샘플\n"
          ]
        }
      ]
    },
    {
      "cell_type": "code",
      "source": [
        "# 4. 학습 설정\n",
        "print(\"\\n=== 학습 설정 ===\")\n",
        "\n",
        "training_args = TrainingArguments(\n",
        "    output_dir='./results',          # 모델 저장 경로\n",
        "    num_train_epochs=3,              # 에폭 수\n",
        "    per_device_train_batch_size=16,  # 배치 크기\n",
        "    per_device_eval_batch_size=16,\n",
        "    warmup_steps=500,               # 워밍업 스텝\n",
        "    weight_decay=0.01,              # 가중치 감소\n",
        "    logging_dir='./logs',           # 로그 저장 경로\n",
        "    logging_steps=100,              # 로깅 간격\n",
        "    eval_strategy=\"steps\",          # 평가 전략 (최신 버전)\n",
        "    eval_steps=5000,                 # 평가 간격\n",
        "    save_strategy=\"steps\",          # 저장 전략\n",
        "    save_steps=5000,                # 저장 간격\n",
        "    load_best_model_at_end=True,    # 최고 모델 로드\n",
        "    metric_for_best_model=\"accuracy\", # 최고 모델 선택 기준\n",
        "    greater_is_better=True,         # 높을수록 좋음\n",
        "    report_to=None,                 # wandb 등 비활성화\n",
        "    seed=42                         # 재현 가능성을 위한 시드\n",
        ")"
      ],
      "metadata": {
        "colab": {
          "base_uri": "https://localhost:8080/"
        },
        "id": "U8fbnX1qgzhV",
        "outputId": "f5cf8d8b-0fa2-4740-8846-94f108766136"
      },
      "execution_count": null,
      "outputs": [
        {
          "output_type": "stream",
          "name": "stdout",
          "text": [
            "\n",
            "=== 학습 설정 ===\n"
          ]
        }
      ]
    },
    {
      "cell_type": "code",
      "source": [
        "# 5. Trainer 초기화\n",
        "print(\"Trainer 초기화 중...\")\n",
        "\n",
        "trainer = Trainer(\n",
        "    model=huggingface_model,\n",
        "    args=training_args,\n",
        "    train_dataset=train_dataset_tokenized,\n",
        "    eval_dataset=test_dataset_tokenized,  # 평가용으로 테스트셋 사용\n",
        "    compute_metrics=compute_metrics,\n",
        "    tokenizer=huggingface_tokenizer\n",
        ")"
      ],
      "metadata": {
        "colab": {
          "base_uri": "https://localhost:8080/"
        },
        "id": "JOoioAN3gmKk",
        "outputId": "ad10d13d-f4d6-46ef-8cd0-38e403f575bb"
      },
      "execution_count": null,
      "outputs": [
        {
          "output_type": "stream",
          "name": "stdout",
          "text": [
            "Trainer 초기화 중...\n"
          ]
        },
        {
          "output_type": "stream",
          "name": "stderr",
          "text": [
            "/tmp/ipython-input-2632568074.py:4: FutureWarning: `tokenizer` is deprecated and will be removed in version 5.0.0 for `Trainer.__init__`. Use `processing_class` instead.\n",
            "  trainer = Trainer(\n"
          ]
        }
      ]
    },
    {
      "cell_type": "code",
      "source": [
        "# 6. 학습 시작\n",
        "print(\"\\n=== 모델 학습 시작 ===\")\n",
        "print(\"이 과정은 시간이 걸릴 수 있습니다...\")\n",
        "\n",
        "# GPU 사용 가능 여부 확인\n",
        "device = torch.device('cuda' if torch.cuda.is_available() else 'cpu')\n",
        "print(f\"사용 중인 디바이스: {device}\")\n",
        "\n",
        "# 학습 실행\n",
        "train_result = trainer.train()\n",
        "\n",
        "print(\"\\n=== 학습 완료 ===\")\n",
        "print(f\"최종 학습 손실: {train_result.training_loss:.4f}\")"
      ],
      "metadata": {
        "colab": {
          "base_uri": "https://localhost:8080/",
          "height": 475
        },
        "id": "KVxHOxBPg4rz",
        "outputId": "a1602c94-44eb-4c11-ea93-dc473896f721"
      },
      "execution_count": null,
      "outputs": [
        {
          "output_type": "stream",
          "name": "stdout",
          "text": [
            "\n",
            "=== 모델 학습 시작 ===\n",
            "이 과정은 시간이 걸릴 수 있습니다...\n",
            "사용 중인 디바이스: cuda\n"
          ]
        },
        {
          "output_type": "stream",
          "name": "stderr",
          "text": [
            "\u001b[34m\u001b[1mwandb\u001b[0m: Currently logged in as: \u001b[33mluis-jang\u001b[0m (\u001b[33mluis-jang-personal\u001b[0m) to \u001b[32mhttps://api.wandb.ai\u001b[0m. Use \u001b[1m`wandb login --relogin`\u001b[0m to force relogin\n"
          ]
        },
        {
          "output_type": "display_data",
          "data": {
            "text/plain": [
              "<IPython.core.display.HTML object>"
            ],
            "text/html": [
              "creating run (0.0s)"
            ]
          },
          "metadata": {}
        },
        {
          "output_type": "display_data",
          "data": {
            "text/plain": [
              "<IPython.core.display.HTML object>"
            ],
            "text/html": [
              "Tracking run with wandb version 0.21.3"
            ]
          },
          "metadata": {}
        },
        {
          "output_type": "display_data",
          "data": {
            "text/plain": [
              "<IPython.core.display.HTML object>"
            ],
            "text/html": [
              "Run data is saved locally in <code>/content/wandb/run-20250915_101236-c5002v3n</code>"
            ]
          },
          "metadata": {}
        },
        {
          "output_type": "display_data",
          "data": {
            "text/plain": [
              "<IPython.core.display.HTML object>"
            ],
            "text/html": [
              "Syncing run <strong><a href='https://wandb.ai/luis-jang-personal/huggingface/runs/c5002v3n' target=\"_blank\">happy-microwave-4</a></strong> to <a href='https://wandb.ai/luis-jang-personal/huggingface' target=\"_blank\">Weights & Biases</a> (<a href='https://wandb.me/developer-guide' target=\"_blank\">docs</a>)<br>"
            ]
          },
          "metadata": {}
        },
        {
          "output_type": "display_data",
          "data": {
            "text/plain": [
              "<IPython.core.display.HTML object>"
            ],
            "text/html": [
              " View project at <a href='https://wandb.ai/luis-jang-personal/huggingface' target=\"_blank\">https://wandb.ai/luis-jang-personal/huggingface</a>"
            ]
          },
          "metadata": {}
        },
        {
          "output_type": "display_data",
          "data": {
            "text/plain": [
              "<IPython.core.display.HTML object>"
            ],
            "text/html": [
              " View run at <a href='https://wandb.ai/luis-jang-personal/huggingface/runs/c5002v3n' target=\"_blank\">https://wandb.ai/luis-jang-personal/huggingface/runs/c5002v3n</a>"
            ]
          },
          "metadata": {}
        },
        {
          "output_type": "display_data",
          "data": {
            "text/plain": [
              "<IPython.core.display.HTML object>"
            ],
            "text/html": [
              "\n",
              "    <div>\n",
              "      \n",
              "      <progress value='28125' max='28125' style='width:300px; height:20px; vertical-align: middle;'></progress>\n",
              "      [28125/28125 3:03:34, Epoch 3/3]\n",
              "    </div>\n",
              "    <table border=\"1\" class=\"dataframe\">\n",
              "  <thead>\n",
              " <tr style=\"text-align: left;\">\n",
              "      <th>Step</th>\n",
              "      <th>Training Loss</th>\n",
              "      <th>Validation Loss</th>\n",
              "      <th>Accuracy</th>\n",
              "      <th>F1</th>\n",
              "      <th>Precision</th>\n",
              "      <th>Recall</th>\n",
              "    </tr>\n",
              "  </thead>\n",
              "  <tbody>\n",
              "    <tr>\n",
              "      <td>5000</td>\n",
              "      <td>0.299900</td>\n",
              "      <td>0.284577</td>\n",
              "      <td>0.879453</td>\n",
              "      <td>0.879296</td>\n",
              "      <td>0.881034</td>\n",
              "      <td>0.879453</td>\n",
              "    </tr>\n",
              "    <tr>\n",
              "      <td>10000</td>\n",
              "      <td>0.199700</td>\n",
              "      <td>0.337629</td>\n",
              "      <td>0.892414</td>\n",
              "      <td>0.892370</td>\n",
              "      <td>0.892840</td>\n",
              "      <td>0.892414</td>\n",
              "    </tr>\n",
              "    <tr>\n",
              "      <td>15000</td>\n",
              "      <td>0.209300</td>\n",
              "      <td>0.345447</td>\n",
              "      <td>0.890073</td>\n",
              "      <td>0.889910</td>\n",
              "      <td>0.892923</td>\n",
              "      <td>0.890073</td>\n",
              "    </tr>\n",
              "    <tr>\n",
              "      <td>20000</td>\n",
              "      <td>0.166000</td>\n",
              "      <td>0.356656</td>\n",
              "      <td>0.900474</td>\n",
              "      <td>0.900472</td>\n",
              "      <td>0.900478</td>\n",
              "      <td>0.900474</td>\n",
              "    </tr>\n",
              "    <tr>\n",
              "      <td>25000</td>\n",
              "      <td>0.147900</td>\n",
              "      <td>0.348486</td>\n",
              "      <td>0.901494</td>\n",
              "      <td>0.901479</td>\n",
              "      <td>0.901627</td>\n",
              "      <td>0.901494</td>\n",
              "    </tr>\n",
              "  </tbody>\n",
              "</table><p>"
            ]
          },
          "metadata": {}
        },
        {
          "output_type": "stream",
          "name": "stdout",
          "text": [
            "\n",
            "=== 학습 완료 ===\n",
            "최종 학습 손실: 0.2249\n"
          ]
        }
      ]
    }
  ]
}