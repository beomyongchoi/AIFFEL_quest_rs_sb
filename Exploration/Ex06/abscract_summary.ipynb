{
 "cells": [
  {
   "cell_type": "code",
   "execution_count": 1,
   "id": "86f1477c-4a18-4563-ae6c-004ce855318a",
   "metadata": {},
   "outputs": [
    {
     "name": "stdout",
     "output_type": "stream",
     "text": [
      "Requirement already satisfied: summa in /opt/conda/lib/python3.12/site-packages (1.2.0)\n",
      "Requirement already satisfied: scipy>=0.19 in /opt/conda/lib/python3.12/site-packages (from summa) (1.15.2)\n",
      "Requirement already satisfied: numpy<2.5,>=1.23.5 in /opt/conda/lib/python3.12/site-packages (from scipy>=0.19->summa) (2.2.6)\n",
      "Requirement already satisfied: nltk in /opt/conda/lib/python3.12/site-packages (3.9.1)\n",
      "Requirement already satisfied: click in /opt/conda/lib/python3.12/site-packages (from nltk) (8.2.1)\n",
      "Requirement already satisfied: joblib in /opt/conda/lib/python3.12/site-packages (from nltk) (1.5.1)\n",
      "Requirement already satisfied: regex>=2021.8.3 in /opt/conda/lib/python3.12/site-packages (from nltk) (2025.7.34)\n",
      "Requirement already satisfied: tqdm in /opt/conda/lib/python3.12/site-packages (from nltk) (4.67.1)\n"
     ]
    }
   ],
   "source": [
    "!pip install --upgrade summa\n",
    "!pip install --upgrade nltk #3.9.1"
   ]
  },
  {
   "cell_type": "code",
   "execution_count": 2,
   "id": "c92fc93f-5a93-48dc-b70b-839841a47ffc",
   "metadata": {},
   "outputs": [
    {
     "name": "stdout",
     "output_type": "stream",
     "text": [
      "3.9.1\n",
      "2.7.1+cu118\n",
      "2.3.0\n",
      "1.2.0\n"
     ]
    }
   ],
   "source": [
    "from importlib.metadata import version\n",
    "import nltk\n",
    "import torch\n",
    "import summa\n",
    "import pandas as pd\n",
    "\n",
    "print(nltk.__version__)\n",
    "print(torch.__version__)\n",
    "print(pd.__version__)\n",
    "print(version('summa'))"
   ]
  },
  {
   "cell_type": "code",
   "execution_count": 85,
   "id": "b9d9acf4-ef58-4aaf-bc1c-259964ae68d8",
   "metadata": {},
   "outputs": [
    {
     "name": "stdout",
     "output_type": "stream",
     "text": [
      "98401\n"
     ]
    }
   ],
   "source": [
    "import urllib.request\n",
    "urllib.request.urlretrieve(\"https://raw.githubusercontent.com/sunnysai12345/News_Summary/master/news_summary_more.csv\", filename=\"news_summary_more.csv\")\n",
    "data = pd.read_csv('news_summary_more.csv', encoding='iso-8859-1')\n",
    "print(len(data))"
   ]
  },
  {
   "cell_type": "code",
   "execution_count": 86,
   "id": "cca82d5d-1d68-4041-8832-7a49730c2eb6",
   "metadata": {},
   "outputs": [
    {
     "data": {
      "text/html": [
       "<div>\n",
       "<style scoped>\n",
       "    .dataframe tbody tr th:only-of-type {\n",
       "        vertical-align: middle;\n",
       "    }\n",
       "\n",
       "    .dataframe tbody tr th {\n",
       "        vertical-align: top;\n",
       "    }\n",
       "\n",
       "    .dataframe thead th {\n",
       "        text-align: right;\n",
       "    }\n",
       "</style>\n",
       "<table border=\"1\" class=\"dataframe\">\n",
       "  <thead>\n",
       "    <tr style=\"text-align: right;\">\n",
       "      <th></th>\n",
       "      <th>headlines</th>\n",
       "      <th>text</th>\n",
       "    </tr>\n",
       "  </thead>\n",
       "  <tbody>\n",
       "    <tr>\n",
       "      <th>31899</th>\n",
       "      <td>Founders to pay capital gains tax post Flipkar...</td>\n",
       "      <td>Flipkart founders Sachin and Binny Bansal may ...</td>\n",
       "    </tr>\n",
       "    <tr>\n",
       "      <th>54692</th>\n",
       "      <td>Shkreli's ex-lawyer convicted of aiding him in...</td>\n",
       "      <td>A former lawyer for Martin Shkreli's companies...</td>\n",
       "    </tr>\n",
       "    <tr>\n",
       "      <th>42912</th>\n",
       "      <td>PM Modi's office, 6 departments bought 140 air...</td>\n",
       "      <td>As many as 140 air purifiers were purchased fo...</td>\n",
       "    </tr>\n",
       "    <tr>\n",
       "      <th>61168</th>\n",
       "      <td>Nothing can stop the release of Padmavati: Dee...</td>\n",
       "      <td>Speaking about the row on the upcoming film 'P...</td>\n",
       "    </tr>\n",
       "    <tr>\n",
       "      <th>8275</th>\n",
       "      <td>Musk's Boring Company abandons plans to make L...</td>\n",
       "      <td>Elon Musk-owned The Boring Company on Tuesday ...</td>\n",
       "    </tr>\n",
       "    <tr>\n",
       "      <th>30804</th>\n",
       "      <td>Man seeks bribe for Varanasi flyover collapse ...</td>\n",
       "      <td>The sweeper of a mortuary has been arrested fo...</td>\n",
       "    </tr>\n",
       "    <tr>\n",
       "      <th>31389</th>\n",
       "      <td>Morgan Stanley sells nearly 38 lakh shares of ...</td>\n",
       "      <td>Investment firm Morgan Stanley has sold 37.86 ...</td>\n",
       "    </tr>\n",
       "    <tr>\n",
       "      <th>15776</th>\n",
       "      <td>Real Madrid, BarÃÂ§a lose league match on sam...</td>\n",
       "      <td>Real Madrid and Barcelona lost 0-3 and 1-2 to ...</td>\n",
       "    </tr>\n",
       "    <tr>\n",
       "      <th>56745</th>\n",
       "      <td>Gaming startup Nazara raises $28 mn from Rakes...</td>\n",
       "      <td>Mumbai-based mobile gaming company Nazara has ...</td>\n",
       "    </tr>\n",
       "    <tr>\n",
       "      <th>21541</th>\n",
       "      <td>Stokes included in Test team 102 min after not...</td>\n",
       "      <td>England all-rounder Ben Stokes was added to th...</td>\n",
       "    </tr>\n",
       "  </tbody>\n",
       "</table>\n",
       "</div>"
      ],
      "text/plain": [
       "                                               headlines  \\\n",
       "31899  Founders to pay capital gains tax post Flipkar...   \n",
       "54692  Shkreli's ex-lawyer convicted of aiding him in...   \n",
       "42912  PM Modi's office, 6 departments bought 140 air...   \n",
       "61168  Nothing can stop the release of Padmavati: Dee...   \n",
       "8275   Musk's Boring Company abandons plans to make L...   \n",
       "30804  Man seeks bribe for Varanasi flyover collapse ...   \n",
       "31389  Morgan Stanley sells nearly 38 lakh shares of ...   \n",
       "15776  Real Madrid, BarÃÂ§a lose league match on sam...   \n",
       "56745  Gaming startup Nazara raises $28 mn from Rakes...   \n",
       "21541  Stokes included in Test team 102 min after not...   \n",
       "\n",
       "                                                    text  \n",
       "31899  Flipkart founders Sachin and Binny Bansal may ...  \n",
       "54692  A former lawyer for Martin Shkreli's companies...  \n",
       "42912  As many as 140 air purifiers were purchased fo...  \n",
       "61168  Speaking about the row on the upcoming film 'P...  \n",
       "8275   Elon Musk-owned The Boring Company on Tuesday ...  \n",
       "30804  The sweeper of a mortuary has been arrested fo...  \n",
       "31389  Investment firm Morgan Stanley has sold 37.86 ...  \n",
       "15776  Real Madrid and Barcelona lost 0-3 and 1-2 to ...  \n",
       "56745  Mumbai-based mobile gaming company Nazara has ...  \n",
       "21541  England all-rounder Ben Stokes was added to th...  "
      ]
     },
     "execution_count": 86,
     "metadata": {},
     "output_type": "execute_result"
    }
   ],
   "source": [
    "data.sample(10)"
   ]
  },
  {
   "cell_type": "code",
   "execution_count": 5,
   "id": "01dee86c-aec1-432f-ab31-bad9b839c863",
   "metadata": {},
   "outputs": [
    {
     "name": "stdout",
     "output_type": "stream",
     "text": [
      "Requirement already satisfied: beautifulsoup4 in /opt/conda/lib/python3.12/site-packages (4.13.4)\n",
      "Requirement already satisfied: soupsieve>1.2 in /opt/conda/lib/python3.12/site-packages (from beautifulsoup4) (2.7)\n",
      "Requirement already satisfied: typing-extensions>=4.0.0 in /opt/conda/lib/python3.12/site-packages (from beautifulsoup4) (4.14.0)\n"
     ]
    }
   ],
   "source": [
    "!pip install beautifulsoup4"
   ]
  },
  {
   "cell_type": "code",
   "execution_count": 6,
   "id": "a92c7054-2ecd-4668-ad5f-06399ca1116d",
   "metadata": {},
   "outputs": [
    {
     "name": "stderr",
     "output_type": "stream",
     "text": [
      "[nltk_data] Downloading package stopwords to /home/jovyan/nltk_data...\n",
      "[nltk_data]   Package stopwords is already up-to-date!\n"
     ]
    },
    {
     "name": "stdout",
     "output_type": "stream",
     "text": [
      "=3\n"
     ]
    }
   ],
   "source": [
    "nltk.download('stopwords')\n",
    "\n",
    "import numpy as np\n",
    "import os\n",
    "import re\n",
    "import matplotlib.pyplot as plt\n",
    "from nltk.corpus import stopwords\n",
    "from bs4 import BeautifulSoup\n",
    "\n",
    "from collections import Counter\n",
    "\n",
    "import urllib.request\n",
    "import warnings\n",
    "warnings.filterwarnings(\"ignore\", category=UserWarning, module='bs4')\n",
    "\n",
    "print('=3')"
   ]
  },
  {
   "cell_type": "code",
   "execution_count": 87,
   "id": "b7c6d789-ed54-4388-a465-47c1c0f37982",
   "metadata": {},
   "outputs": [
    {
     "name": "stdout",
     "output_type": "stream",
     "text": [
      "Text 열에서 중복을 배제한 유일한 샘플의 수 : 98360\n",
      "Summary 열에서 중복을 배제한 유일한 샘플의 수 : 98280\n"
     ]
    }
   ],
   "source": [
    "print('Text 열에서 중복을 배제한 유일한 샘플의 수 :', data['text'].nunique())\n",
    "print('Summary 열에서 중복을 배제한 유일한 샘플의 수 :', data['headlines'].nunique())"
   ]
  },
  {
   "cell_type": "code",
   "execution_count": 88,
   "id": "46240c95-8d9b-437a-bb75-930f11e15170",
   "metadata": {},
   "outputs": [
    {
     "name": "stdout",
     "output_type": "stream",
     "text": [
      "전체 샘플수 : 98360\n"
     ]
    }
   ],
   "source": [
    "# inplace=True 를 설정하면 DataFrame 타입 값을 return 하지 않고 data 내부를 직접적으로 바꿉니다\n",
    "data.drop_duplicates(subset = ['text'], inplace=True)\n",
    "print('전체 샘플수 :', (len(data)))"
   ]
  },
  {
   "cell_type": "code",
   "execution_count": 89,
   "id": "c2e64b22-1afc-486a-a4e9-b873a96004c1",
   "metadata": {},
   "outputs": [
    {
     "name": "stdout",
     "output_type": "stream",
     "text": [
      "전체 샘플수 : 98262\n"
     ]
    }
   ],
   "source": [
    "# inplace=True 를 설정하면 DataFrame 타입 값을 return 하지 않고 data 내부를 직접적으로 바꿉니다\n",
    "data.drop_duplicates(subset = ['headlines'], inplace=True)\n",
    "print('전체 샘플수 :', (len(data)))"
   ]
  },
  {
   "cell_type": "code",
   "execution_count": 90,
   "id": "bd32bd88-b4a3-4304-be72-e48798be899d",
   "metadata": {},
   "outputs": [
    {
     "name": "stdout",
     "output_type": "stream",
     "text": [
      "headlines    0\n",
      "text         0\n",
      "dtype: int64\n"
     ]
    }
   ],
   "source": [
    "print(data.isnull().sum())"
   ]
  },
  {
   "cell_type": "code",
   "execution_count": 11,
   "id": "5f294bfa-1a8c-48bd-a64a-c18c5e0cb1c3",
   "metadata": {},
   "outputs": [],
   "source": [
    "## Null값 제거는 Null인 항목이 없으므로 실행하지 않음\n",
    "\n",
    "# data.dropna(axis=0, inplace=True)\n",
    "# print('전체 샘플수 :', (len(data)))"
   ]
  },
  {
   "cell_type": "code",
   "execution_count": 92,
   "id": "601fde28-5fdf-4c2a-9919-ad26c1a8206b",
   "metadata": {},
   "outputs": [
    {
     "name": "stdout",
     "output_type": "stream",
     "text": [
      "정규화 사전의 수:  120\n"
     ]
    }
   ],
   "source": [
    "## 텍스트 정규화\n",
    "\n",
    "contractions = {\"ain't\": \"is not\", \"aren't\": \"are not\",\"can't\": \"cannot\", \"'cause\": \"because\", \"could've\": \"could have\", \"couldn't\": \"could not\",\n",
    "                           \"didn't\": \"did not\",  \"doesn't\": \"does not\", \"don't\": \"do not\", \"hadn't\": \"had not\", \"hasn't\": \"has not\", \"haven't\": \"have not\",\n",
    "                           \"he'd\": \"he would\",\"he'll\": \"he will\", \"he's\": \"he is\", \"how'd\": \"how did\", \"how'd'y\": \"how do you\", \"how'll\": \"how will\", \"how's\": \"how is\",\n",
    "                           \"I'd\": \"I would\", \"I'd've\": \"I would have\", \"I'll\": \"I will\", \"I'll've\": \"I will have\",\"I'm\": \"I am\", \"I've\": \"I have\", \"i'd\": \"i would\",\n",
    "                           \"i'd've\": \"i would have\", \"i'll\": \"i will\",  \"i'll've\": \"i will have\",\"i'm\": \"i am\", \"i've\": \"i have\", \"isn't\": \"is not\", \"it'd\": \"it would\",\n",
    "                           \"it'd've\": \"it would have\", \"it'll\": \"it will\", \"it'll've\": \"it will have\",\"it's\": \"it is\", \"let's\": \"let us\", \"ma'am\": \"madam\",\n",
    "                           \"mayn't\": \"may not\", \"might've\": \"might have\",\"mightn't\": \"might not\",\"mightn't've\": \"might not have\", \"must've\": \"must have\",\n",
    "                           \"mustn't\": \"must not\", \"mustn't've\": \"must not have\", \"needn't\": \"need not\", \"needn't've\": \"need not have\",\"o'clock\": \"of the clock\",\n",
    "                           \"oughtn't\": \"ought not\", \"oughtn't've\": \"ought not have\", \"shan't\": \"shall not\", \"sha'n't\": \"shall not\", \"shan't've\": \"shall not have\",\n",
    "                           \"she'd\": \"she would\", \"she'd've\": \"she would have\", \"she'll\": \"she will\", \"she'll've\": \"she will have\", \"she's\": \"she is\",\n",
    "                           \"should've\": \"should have\", \"shouldn't\": \"should not\", \"shouldn't've\": \"should not have\", \"so've\": \"so have\",\"so's\": \"so as\",\n",
    "                           \"this's\": \"this is\",\"that'd\": \"that would\", \"that'd've\": \"that would have\", \"that's\": \"that is\", \"there'd\": \"there would\",\n",
    "                           \"there'd've\": \"there would have\", \"there's\": \"there is\", \"here's\": \"here is\",\"they'd\": \"they would\", \"they'd've\": \"they would have\",\n",
    "                           \"they'll\": \"they will\", \"they'll've\": \"they will have\", \"they're\": \"they are\", \"they've\": \"they have\", \"to've\": \"to have\",\n",
    "                           \"wasn't\": \"was not\", \"we'd\": \"we would\", \"we'd've\": \"we would have\", \"we'll\": \"we will\", \"we'll've\": \"we will have\", \"we're\": \"we are\",\n",
    "                           \"we've\": \"we have\", \"weren't\": \"were not\", \"what'll\": \"what will\", \"what'll've\": \"what will have\", \"what're\": \"what are\",\n",
    "                           \"what's\": \"what is\", \"what've\": \"what have\", \"when's\": \"when is\", \"when've\": \"when have\", \"where'd\": \"where did\", \"where's\": \"where is\",\n",
    "                           \"where've\": \"where have\", \"who'll\": \"who will\", \"who'll've\": \"who will have\", \"who's\": \"who is\", \"who've\": \"who have\",\n",
    "                           \"why's\": \"why is\", \"why've\": \"why have\", \"will've\": \"will have\", \"won't\": \"will not\", \"won't've\": \"will not have\",\n",
    "                           \"would've\": \"would have\", \"wouldn't\": \"would not\", \"wouldn't've\": \"would not have\", \"y'all\": \"you all\",\n",
    "                           \"y'all'd\": \"you all would\",\"y'all'd've\": \"you all would have\",\"y'all're\": \"you all are\",\"y'all've\": \"you all have\",\n",
    "                           \"you'd\": \"you would\", \"you'd've\": \"you would have\", \"you'll\": \"you will\", \"you'll've\": \"you will have\",\n",
    "                           \"you're\": \"you are\", \"you've\": \"you have\"}\n",
    "\n",
    "print(\"정규화 사전의 수: \", len(contractions))"
   ]
  },
  {
   "cell_type": "code",
   "execution_count": 93,
   "id": "6005dfbb-3523-4fcd-829d-fa30c544b2fc",
   "metadata": {},
   "outputs": [
    {
     "name": "stdout",
     "output_type": "stream",
     "text": [
      "불용어 개수 : 198\n",
      "['a', 'about', 'above', 'after', 'again', 'against', 'ain', 'all', 'am', 'an', 'and', 'any', 'are', 'aren', \"aren't\", 'as', 'at', 'be', 'because', 'been', 'before', 'being', 'below', 'between', 'both', 'but', 'by', 'can', 'couldn', \"couldn't\", 'd', 'did', 'didn', \"didn't\", 'do', 'does', 'doesn', \"doesn't\", 'doing', 'don', \"don't\", 'down', 'during', 'each', 'few', 'for', 'from', 'further', 'had', 'hadn', \"hadn't\", 'has', 'hasn', \"hasn't\", 'have', 'haven', \"haven't\", 'having', 'he', \"he'd\", \"he'll\", 'her', 'here', 'hers', 'herself', \"he's\", 'him', 'himself', 'his', 'how', 'i', \"i'd\", 'if', \"i'll\", \"i'm\", 'in', 'into', 'is', 'isn', \"isn't\", 'it', \"it'd\", \"it'll\", \"it's\", 'its', 'itself', \"i've\", 'just', 'll', 'm', 'ma', 'me', 'mightn', \"mightn't\", 'more', 'most', 'mustn', \"mustn't\", 'my', 'myself', 'needn', \"needn't\", 'no', 'nor', 'not', 'now', 'o', 'of', 'off', 'on', 'once', 'only', 'or', 'other', 'our', 'ours', 'ourselves', 'out', 'over', 'own', 're', 's', 'same', 'shan', \"shan't\", 'she', \"she'd\", \"she'll\", \"she's\", 'should', 'shouldn', \"shouldn't\", \"should've\", 'so', 'some', 'such', 't', 'than', 'that', \"that'll\", 'the', 'their', 'theirs', 'them', 'themselves', 'then', 'there', 'these', 'they', \"they'd\", \"they'll\", \"they're\", \"they've\", 'this', 'those', 'through', 'to', 'too', 'under', 'until', 'up', 've', 'very', 'was', 'wasn', \"wasn't\", 'we', \"we'd\", \"we'll\", \"we're\", 'were', 'weren', \"weren't\", \"we've\", 'what', 'when', 'where', 'which', 'while', 'who', 'whom', 'why', 'will', 'with', 'won', \"won't\", 'wouldn', \"wouldn't\", 'y', 'you', \"you'd\", \"you'll\", 'your', \"you're\", 'yours', 'yourself', 'yourselves', \"you've\"]\n"
     ]
    }
   ],
   "source": [
    "print('불용어 개수 :', len(stopwords.words('english') ))\n",
    "print(stopwords.words('english'))"
   ]
  },
  {
   "cell_type": "code",
   "execution_count": 94,
   "id": "ce0ad9f7-d14f-4040-a844-6734bb8052dc",
   "metadata": {},
   "outputs": [
    {
     "name": "stdout",
     "output_type": "stream",
     "text": [
      "=3\n"
     ]
    }
   ],
   "source": [
    "# 데이터 전처리 함수\n",
    "def preprocess_sentence(sentence, remove_stopwords=True):\n",
    "    sentence = sentence.lower() # 텍스트 소문자화\n",
    "    sentence = BeautifulSoup(sentence, \"lxml\").text # <br />, <a href = ...> 등의 html 태그 제거\n",
    "    sentence = re.sub(r'\\([^)]*\\)', '', sentence) # 괄호로 닫힌 문자열 (...) 제거 Ex) my husband (and myself!) for => my husband for\n",
    "    sentence = re.sub('\"','', sentence) # 쌍따옴표 \" 제거\n",
    "    sentence = ' '.join([contractions[t] if t in contractions else t for t in sentence.split(\" \")]) # 약어 정규화\n",
    "    sentence = re.sub(r\"'s\\b\",\"\", sentence) # 소유격 제거. Ex) roland's -> roland\n",
    "    sentence = re.sub(\"[^a-zA-Z]\", \" \", sentence) # 영어 외 문자(숫자, 특수문자 등) 공백으로 변환\n",
    "    sentence = re.sub('[m]{2,}', 'mm', sentence) # m이 3개 이상이면 2개로 변경. Ex) ummmmmmm yeah -> umm yeah\n",
    "\n",
    "    # 불용어 제거 (Text)\n",
    "    if remove_stopwords:\n",
    "        tokens = ' '.join(word for word in sentence.split() if not word in stopwords.words('english') if len(word) > 1)\n",
    "    # 불용어 미제거 (Summary)\n",
    "    else:\n",
    "        tokens = ' '.join(word for word in sentence.split() if len(word) > 1)\n",
    "    return tokens\n",
    "print('=3')"
   ]
  },
  {
   "cell_type": "code",
   "execution_count": 15,
   "id": "8f7fe1f5-976d-4f30-9e2a-7ca8c9b0d17c",
   "metadata": {},
   "outputs": [
    {
     "name": "stdout",
     "output_type": "stream",
     "text": [
      "Requirement already satisfied: lxml in /opt/conda/lib/python3.12/site-packages (6.0.0)\n"
     ]
    }
   ],
   "source": [
    "!pip install lxml"
   ]
  },
  {
   "cell_type": "code",
   "execution_count": 95,
   "id": "0a67a581-3b72-4e11-b0e6-634a87bc6b6e",
   "metadata": {
    "editable": true,
    "slideshow": {
     "slide_type": ""
    },
    "tags": []
   },
   "outputs": [
    {
     "name": "stdout",
     "output_type": "stream",
     "text": [
      "text:  everything bought great infact ordered twice third ordered wasfor mother father\n",
      "summary: great way to start the day\n"
     ]
    }
   ],
   "source": [
    "## 불용어 제거 테스트\n",
    "\n",
    "temp_text = 'Everything I bought was great, infact I ordered twice and the third ordered was<br />for my mother and father.'\n",
    "temp_summary = 'Great way to start (or finish) the day!!!'\n",
    "\n",
    "print(\"text: \", preprocess_sentence(temp_text))\n",
    "print(\"summary:\", preprocess_sentence(temp_summary, False))  # 불용어를 제거하지 않습니다."
   ]
  },
  {
   "cell_type": "code",
   "execution_count": 96,
   "id": "94d277c2-f650-4c8f-a26d-77e92bac052a",
   "metadata": {
    "editable": true,
    "slideshow": {
     "slide_type": ""
    },
    "tags": []
   },
   "outputs": [
    {
     "name": "stdout",
     "output_type": "stream",
     "text": [
      "text 전처리 후 결과:  ['saurav kant alumnus upgrad iiit pg program machine learning artificial intelligence sr systems engineer infosys almost years work experience program upgrad degree career support helped transition data scientist tech mahindra salary hike upgrad online power learning powered lakh careers', 'kunal shah credit card bill payment platform cred gave users chance win free food swiggy one year pranav kaushik delhi techie bagged reward spending cred coins users get one cred coin per rupee bill paid used avail rewards brands like ixigo bookmyshow ubereats cult fit', 'new zealand defeated india wickets fourth odi hamilton thursday win first match five match odi series india lost international match rohit sharma captaincy consecutive victories dating back march match witnessed india getting seventh lowest total odi cricket history', 'aegon life iterm insurance plan customers enjoy tax benefits premiums paid save taxes plan provides life cover age years also customers options insure critical illnesses disability accidental death benefit rider life cover age years', 'speaking sexual harassment allegations rajkumar hirani sonam kapoor said known hirani many years true metoo movement get derailed metoo movement always believe woman case need reserve judgment added hirani accused assistant worked sanju']\n"
     ]
    }
   ],
   "source": [
    "# 전체 Text 데이터에 대한 전처리 : 10분 이상 시간이 걸릴 수 있습니다.\n",
    "clean_text = []\n",
    "\n",
    "for sentence in data['text']:\n",
    "    clean_text.append(preprocess_sentence(sentence))\n",
    "\n",
    "# 전처리 후 출력\n",
    "print(\"text 전처리 후 결과: \", clean_text[:5])"
   ]
  },
  {
   "cell_type": "code",
   "execution_count": 97,
   "id": "80cb8f7f-98f2-4325-a3b3-ec8c50624f0e",
   "metadata": {
    "editable": true,
    "slideshow": {
     "slide_type": ""
    },
    "tags": []
   },
   "outputs": [
    {
     "name": "stdout",
     "output_type": "stream",
     "text": [
      "headlines 전처리 후 결과:  ['upgrad learner switches to career in ml al with salary hike', 'delhi techie wins free food from swiggy for one year on cred', 'new zealand end rohit sharma led india match winning streak', 'aegon life iterm insurance plan helps customers save tax', 'have known hirani for yrs what if metoo claims are not true sonam']\n"
     ]
    }
   ],
   "source": [
    "# 전체 headlines 데이터에 대한 전처리 : 5분 이상 시간이 걸릴 수 있습니다.\n",
    "clean_summary = []\n",
    "\n",
    "for sentence in data['headlines']:\n",
    "    clean_summary.append(preprocess_sentence(sentence, remove_stopwords=False))\n",
    "\n",
    "print(\"headlines 전처리 후 결과: \", clean_summary[:5])"
   ]
  },
  {
   "cell_type": "code",
   "execution_count": 98,
   "id": "fcfd9f54-ef94-4d71-979d-421fa6c5d0e2",
   "metadata": {},
   "outputs": [
    {
     "name": "stdout",
     "output_type": "stream",
     "text": [
      "=3\n"
     ]
    }
   ],
   "source": [
    "data['text'] = clean_text\n",
    "data['headlines'] = clean_summary\n",
    "\n",
    "# 빈 값을 Null 값으로 변환\n",
    "data.replace('', np.nan, inplace=True)\n",
    "print('=3')"
   ]
  },
  {
   "cell_type": "code",
   "execution_count": 99,
   "id": "84db1d59-77ef-4186-868e-fb67201b9273",
   "metadata": {},
   "outputs": [
    {
     "data": {
      "text/plain": [
       "headlines    0\n",
       "text         0\n",
       "dtype: int64"
      ]
     },
     "execution_count": 99,
     "metadata": {},
     "output_type": "execute_result"
    }
   ],
   "source": [
    "data.isnull().sum()"
   ]
  },
  {
   "cell_type": "code",
   "execution_count": null,
   "id": "fe86045f-1cac-46cd-a35c-0d12cd11884c",
   "metadata": {},
   "outputs": [],
   "source": [
    "## Null이 없으므로 실행하지 않음\n",
    "\n",
    "# data.dropna(axis=0, inplace=True)\n",
    "# print('전체 샘플수 :', (len(data)))"
   ]
  },
  {
   "cell_type": "code",
   "execution_count": 100,
   "id": "257033b3-cc3b-4c8a-8dce-c4ef3b6802d9",
   "metadata": {},
   "outputs": [
    {
     "name": "stdout",
     "output_type": "stream",
     "text": [
      "텍스트의 최소 길이 : 1\n",
      "텍스트의 최대 길이 : 60\n",
      "텍스트의 평균 길이 : 35.10029309397326\n",
      "요약의 최소 길이 : 1\n",
      "요약의 최대 길이 : 16\n",
      "요약의 평균 길이 : 9.299444342675704\n"
     ]
    },
    {
     "data": {
      "image/png": "[encoded data removed]",
      "text/plain": [
       "<Figure size 640x480 with 2 Axes>"
      ]
     },
     "metadata": {},
     "output_type": "display_data"
    },
    {
     "data": {
      "image/png": "[encoded data removed]",
      "text/plain": [
       "<Figure size 640x480 with 1 Axes>"
      ]
     },
     "metadata": {},
     "output_type": "display_data"
    },
    {
     "data": {
      "image/png": "[encoded data removed]",
      "text/plain": [
       "<Figure size 640x480 with 1 Axes>"
      ]
     },
     "metadata": {},
     "output_type": "display_data"
    }
   ],
   "source": [
    "# 길이 분포 출력\n",
    "import matplotlib.pyplot as plt\n",
    "\n",
    "text_len = [len(s.split()) for s in data['text']]\n",
    "summary_len = [len(s.split()) for s in data['headlines']]\n",
    "\n",
    "print('텍스트의 최소 길이 : {}'.format(np.min(text_len)))\n",
    "print('텍스트의 최대 길이 : {}'.format(np.max(text_len)))\n",
    "print('텍스트의 평균 길이 : {}'.format(np.mean(text_len)))\n",
    "print('요약의 최소 길이 : {}'.format(np.min(summary_len)))\n",
    "print('요약의 최대 길이 : {}'.format(np.max(summary_len)))\n",
    "print('요약의 평균 길이 : {}'.format(np.mean(summary_len)))\n",
    "\n",
    "plt.subplot(1,2,1)\n",
    "plt.boxplot(text_len)\n",
    "plt.title('Text')\n",
    "plt.subplot(1,2,2)\n",
    "plt.boxplot(summary_len)\n",
    "plt.title('Summary')\n",
    "plt.tight_layout()\n",
    "plt.show()\n",
    "\n",
    "plt.title('Text')\n",
    "plt.hist(text_len, bins = 40)\n",
    "plt.xlabel('length of samples')\n",
    "plt.ylabel('number of samples')\n",
    "plt.show()\n",
    "\n",
    "plt.title('Summary')\n",
    "plt.hist(summary_len, bins = 40)\n",
    "plt.xlabel('length of samples')\n",
    "plt.ylabel('number of samples')\n",
    "plt.show()"
   ]
  },
  {
   "cell_type": "code",
   "execution_count": 101,
   "id": "7649e39f-dcfe-4ca7-b07e-5aef87bdb4e6",
   "metadata": {},
   "outputs": [
    {
     "name": "stdout",
     "output_type": "stream",
     "text": [
      "=3\n"
     ]
    }
   ],
   "source": [
    "text_max_len = 50\n",
    "summary_max_len = 13\n",
    "print('=3')"
   ]
  },
  {
   "cell_type": "code",
   "execution_count": 102,
   "id": "e96ed1d2-2ff6-43ce-9880-f9039b7ecedc",
   "metadata": {},
   "outputs": [
    {
     "name": "stdout",
     "output_type": "stream",
     "text": [
      "=3\n"
     ]
    }
   ],
   "source": [
    "def below_threshold_len(max_len, nested_list):\n",
    "  cnt = 0\n",
    "  for s in nested_list:\n",
    "    if(len(s.split()) <= max_len):\n",
    "        cnt = cnt + 1\n",
    "  print('전체 샘플 중 길이가 %s 이하인 샘플의 비율: %s'%(max_len, (cnt / len(nested_list))))\n",
    "print('=3')"
   ]
  },
  {
   "cell_type": "code",
   "execution_count": 103,
   "id": "01da023d-a25c-41c0-b686-96ae9b852278",
   "metadata": {},
   "outputs": [
    {
     "name": "stdout",
     "output_type": "stream",
     "text": [
      "전체 샘플 중 길이가 50 이하인 샘플의 비율: 0.999857523763001\n",
      "전체 샘플 중 길이가 13 이하인 샘플의 비율: 0.9981681626671551\n"
     ]
    }
   ],
   "source": [
    "below_threshold_len(text_max_len, data['text'])\n",
    "below_threshold_len(summary_max_len, data['headlines'])"
   ]
  },
  {
   "cell_type": "code",
   "execution_count": 104,
   "id": "859a0857-654b-4f84-8251-a223896713f1",
   "metadata": {},
   "outputs": [
    {
     "name": "stdout",
     "output_type": "stream",
     "text": [
      "전체 샘플수 : 98068\n"
     ]
    }
   ],
   "source": [
    "## 길이가 최대 기준보다 긴 샘플 삭제\n",
    "\n",
    "data = data[data['text'].apply(lambda x: len(x.split()) <= text_max_len)]\n",
    "data = data[data['headlines'].apply(lambda x: len(x.split()) <= summary_max_len)]\n",
    "\n",
    "print('전체 샘플수 :', (len(data)))"
   ]
  },
  {
   "cell_type": "code",
   "execution_count": 105,
   "id": "5126b581-2842-441d-97d0-7c6c34abf54a",
   "metadata": {},
   "outputs": [
    {
     "data": {
      "text/html": [
       "<div>\n",
       "<style scoped>\n",
       "    .dataframe tbody tr th:only-of-type {\n",
       "        vertical-align: middle;\n",
       "    }\n",
       "\n",
       "    .dataframe tbody tr th {\n",
       "        vertical-align: top;\n",
       "    }\n",
       "\n",
       "    .dataframe thead th {\n",
       "        text-align: right;\n",
       "    }\n",
       "</style>\n",
       "<table border=\"1\" class=\"dataframe\">\n",
       "  <thead>\n",
       "    <tr style=\"text-align: right;\">\n",
       "      <th></th>\n",
       "      <th>headlines</th>\n",
       "      <th>text</th>\n",
       "      <th>decoder_input</th>\n",
       "      <th>decoder_target</th>\n",
       "    </tr>\n",
       "  </thead>\n",
       "  <tbody>\n",
       "    <tr>\n",
       "      <th>0</th>\n",
       "      <td>upgrad learner switches to career in ml al wit...</td>\n",
       "      <td>saurav kant alumnus upgrad iiit pg program mac...</td>\n",
       "      <td>sostoken upgrad learner switches to career in ...</td>\n",
       "      <td>upgrad learner switches to career in ml al wit...</td>\n",
       "    </tr>\n",
       "    <tr>\n",
       "      <th>1</th>\n",
       "      <td>delhi techie wins free food from swiggy for on...</td>\n",
       "      <td>kunal shah credit card bill payment platform c...</td>\n",
       "      <td>sostoken delhi techie wins free food from swig...</td>\n",
       "      <td>delhi techie wins free food from swiggy for on...</td>\n",
       "    </tr>\n",
       "    <tr>\n",
       "      <th>2</th>\n",
       "      <td>new zealand end rohit sharma led india match w...</td>\n",
       "      <td>new zealand defeated india wickets fourth odi ...</td>\n",
       "      <td>sostoken new zealand end rohit sharma led indi...</td>\n",
       "      <td>new zealand end rohit sharma led india match w...</td>\n",
       "    </tr>\n",
       "    <tr>\n",
       "      <th>3</th>\n",
       "      <td>aegon life iterm insurance plan helps customer...</td>\n",
       "      <td>aegon life iterm insurance plan customers enjo...</td>\n",
       "      <td>sostoken aegon life iterm insurance plan helps...</td>\n",
       "      <td>aegon life iterm insurance plan helps customer...</td>\n",
       "    </tr>\n",
       "    <tr>\n",
       "      <th>4</th>\n",
       "      <td>have known hirani for yrs what if metoo claims...</td>\n",
       "      <td>speaking sexual harassment allegations rajkuma...</td>\n",
       "      <td>sostoken have known hirani for yrs what if met...</td>\n",
       "      <td>have known hirani for yrs what if metoo claims...</td>\n",
       "    </tr>\n",
       "  </tbody>\n",
       "</table>\n",
       "</div>"
      ],
      "text/plain": [
       "                                           headlines  \\\n",
       "0  upgrad learner switches to career in ml al wit...   \n",
       "1  delhi techie wins free food from swiggy for on...   \n",
       "2  new zealand end rohit sharma led india match w...   \n",
       "3  aegon life iterm insurance plan helps customer...   \n",
       "4  have known hirani for yrs what if metoo claims...   \n",
       "\n",
       "                                                text  \\\n",
       "0  saurav kant alumnus upgrad iiit pg program mac...   \n",
       "1  kunal shah credit card bill payment platform c...   \n",
       "2  new zealand defeated india wickets fourth odi ...   \n",
       "3  aegon life iterm insurance plan customers enjo...   \n",
       "4  speaking sexual harassment allegations rajkuma...   \n",
       "\n",
       "                                       decoder_input  \\\n",
       "0  sostoken upgrad learner switches to career in ...   \n",
       "1  sostoken delhi techie wins free food from swig...   \n",
       "2  sostoken new zealand end rohit sharma led indi...   \n",
       "3  sostoken aegon life iterm insurance plan helps...   \n",
       "4  sostoken have known hirani for yrs what if met...   \n",
       "\n",
       "                                      decoder_target  \n",
       "0  upgrad learner switches to career in ml al wit...  \n",
       "1  delhi techie wins free food from swiggy for on...  \n",
       "2  new zealand end rohit sharma led india match w...  \n",
       "3  aegon life iterm insurance plan helps customer...  \n",
       "4  have known hirani for yrs what if metoo claims...  "
      ]
     },
     "execution_count": 105,
     "metadata": {},
     "output_type": "execute_result"
    }
   ],
   "source": [
    "## 시작 토큰과 종료 토큰 추가\n",
    "\n",
    "# 요약 데이터에는 시작 토큰과 종료 토큰을 추가한다.\n",
    "data['decoder_input'] = data['headlines'].apply(lambda x : 'sostoken '+ x)\n",
    "data['decoder_target'] = data['headlines'].apply(lambda x : x + ' eostoken')\n",
    "data.head()"
   ]
  },
  {
   "cell_type": "code",
   "execution_count": 106,
   "id": "71caabb0-da50-45ac-8af3-3d192e74411a",
   "metadata": {},
   "outputs": [
    {
     "name": "stdout",
     "output_type": "stream",
     "text": [
      "=3\n"
     ]
    }
   ],
   "source": [
    "encoder_input = np.array(data['text']) # 인코더의 입력\n",
    "decoder_input = np.array(data['decoder_input']) # 디코더의 입력\n",
    "decoder_target = np.array(data['decoder_target']) # 디코더의 레이블\n",
    "print('=3')"
   ]
  },
  {
   "cell_type": "code",
   "execution_count": 108,
   "id": "35fb2cfc-baf9-44e8-95f6-eba4f1946bad",
   "metadata": {},
   "outputs": [
    {
     "name": "stdout",
     "output_type": "stream",
     "text": [
      "[    0     1     2 ... 98065 98066 98067]\n",
      "[81581 97450 41145 ... 73746  3426 51955]\n"
     ]
    }
   ],
   "source": [
    "indices = np.arange(encoder_input.shape[0])\n",
    "print(indices)\n",
    "np.random.shuffle(indices)\n",
    "print(indices)"
   ]
  },
  {
   "cell_type": "code",
   "execution_count": 32,
   "id": "dc668083-a419-4382-ba06-72551891baa3",
   "metadata": {},
   "outputs": [
    {
     "name": "stdout",
     "output_type": "stream",
     "text": [
      "=3\n"
     ]
    }
   ],
   "source": [
    "## 샘플 섞기\n",
    "\n",
    "encoder_input = encoder_input[indices]\n",
    "decoder_input = decoder_input[indices]\n",
    "decoder_target = decoder_target[indices]\n",
    "print('=3')"
   ]
  },
  {
   "cell_type": "code",
   "execution_count": 109,
   "id": "20795352-f6d9-46e6-935a-8beb26f0ae4c",
   "metadata": {},
   "outputs": [
    {
     "name": "stdout",
     "output_type": "stream",
     "text": [
      "테스트 데이터의 수 : 19613\n"
     ]
    }
   ],
   "source": [
    "n_of_val = int(len(encoder_input)*0.2)\n",
    "print('테스트 데이터의 수 :', n_of_val)"
   ]
  },
  {
   "cell_type": "code",
   "execution_count": 110,
   "id": "a099c3b3-72c9-4221-809f-67e9b72d2abe",
   "metadata": {},
   "outputs": [
    {
     "name": "stdout",
     "output_type": "stream",
     "text": [
      "훈련 데이터의 개수 : 78455\n",
      "훈련 레이블의 개수 : 78455\n",
      "테스트 데이터의 개수 : 19613\n",
      "테스트 레이블의 개수 : 19613\n"
     ]
    }
   ],
   "source": [
    "## 훈련세트와 테스트세트 분리\n",
    "\n",
    "encoder_input_train = encoder_input[:-n_of_val]\n",
    "decoder_input_train = decoder_input[:-n_of_val]\n",
    "decoder_target_train = decoder_target[:-n_of_val]\n",
    "\n",
    "encoder_input_test = encoder_input[-n_of_val:]\n",
    "decoder_input_test = decoder_input[-n_of_val:]\n",
    "decoder_target_test = decoder_target[-n_of_val:]\n",
    "\n",
    "print('훈련 데이터의 개수 :', len(encoder_input_train))\n",
    "print('훈련 레이블의 개수 :', len(decoder_input_train))\n",
    "print('테스트 데이터의 개수 :', len(encoder_input_test))\n",
    "print('테스트 레이블의 개수 :', len(decoder_input_test))"
   ]
  },
  {
   "cell_type": "code",
   "execution_count": 111,
   "id": "20d6caf2-66f8-464d-b47e-0cfa42328409",
   "metadata": {},
   "outputs": [
    {
     "name": "stdout",
     "output_type": "stream",
     "text": [
      "=3\n"
     ]
    }
   ],
   "source": [
    "def src_tokenizer(text): # 토크나이저 정의\n",
    "    text = text.lower()  # 소문자로 변환\n",
    "    text = re.sub(r\"[^a-zA-Z0-9]+\", \" \", text)  # 특수문자 제거\n",
    "    return text.split()  # 공백 기준 토큰화\n",
    "\n",
    "def build_vocab(texts):\n",
    "    vocab = {\"<PAD>\": 0, \"<UNK>\": 1}  # 패딩과 UNK 토큰 추가\n",
    "    word_counter = Counter()\n",
    "\n",
    "    for text in texts:\n",
    "        word_counter.update(src_tokenizer(text))  # 단어 빈도수 계산\n",
    "\n",
    "    # 단어 집합 생성 (빈도가 높은 순서대로)\n",
    "    for word, _ in word_counter.most_common():\n",
    "        if word not in vocab:\n",
    "            vocab[word] = len(vocab)\n",
    "\n",
    "    return vocab\n",
    "\n",
    "src_vocab = build_vocab(encoder_input_train) # 입력된 데이터로부터 단어 집합 생성\n",
    "print('=3')"
   ]
  },
  {
   "cell_type": "code",
   "execution_count": 112,
   "id": "997df6fd-fb98-4d04-823b-177aae64651f",
   "metadata": {},
   "outputs": [
    {
     "name": "stdout",
     "output_type": "stream",
     "text": [
      "단어 집합(vocabulary)의 크기 : 76254\n",
      "등장 빈도가 6번 이하인 희귀 단어의 수: 51739\n",
      "단어 집합에서 희귀 단어를 제외시킬 경우의 단어 집합의 크기 24515\n",
      "단어 집합에서 희귀 단어의 비율: 67.85086683977234\n",
      "전체 등장 빈도에서 희귀 단어 등장 빈도 비율: 3.04056959186377\n"
     ]
    }
   ],
   "source": [
    "threshold = 7\n",
    "\n",
    "# 전처리된 데이터 사용\n",
    "text_data = data['text'].tolist()\n",
    "summary_data = data['headlines'].tolist()\n",
    "# 단어 빈도수 계산\n",
    "word_counter = Counter()\n",
    "for text in text_data:\n",
    "    word_counter.update(text.split())\n",
    "\n",
    "total_cnt = len(word_counter)  # 전체 단어 개수\n",
    "total_freq = sum(word_counter.values())  # 전체 단어 등장 횟수\n",
    "rare_cnt = sum(1 for count in word_counter.values() if count < threshold)  # 희귀 단어 개수\n",
    "rare_freq = sum(count for count in word_counter.values() if count < threshold)  # 희귀 단어 등장 횟수\n",
    "\n",
    "# 희귀 단어를 제외한 단어 사전 구축\n",
    "vocab = {\"<PAD>\": 0, \"<UNK>\": 1}  # 패딩 및 미등록 단어 추가\n",
    "word_index = {word: idx + 2 for idx, (word, count) in enumerate(word_counter.items()) if count >= threshold}\n",
    "\n",
    "print('단어 집합(vocabulary)의 크기 :', total_cnt)\n",
    "print('등장 빈도가 %s번 이하인 희귀 단어의 수: %s'%(threshold - 1, rare_cnt))\n",
    "print('단어 집합에서 희귀 단어를 제외시킬 경우의 단어 집합의 크기 %s'%(total_cnt - rare_cnt))\n",
    "print(\"단어 집합에서 희귀 단어의 비율:\", (rare_cnt / total_cnt)*100)\n",
    "print(\"전체 등장 빈도에서 희귀 단어 등장 빈도 비율:\", (rare_freq / total_freq)*100)"
   ]
  },
  {
   "cell_type": "code",
   "execution_count": 113,
   "id": "7c83f286-d186-49dd-9c88-a9cea82231a9",
   "metadata": {},
   "outputs": [
    {
     "name": "stdout",
     "output_type": "stream",
     "text": [
      "=3\n"
     ]
    }
   ],
   "source": [
    "## 단어 집합의 크기를 24,000개로 제한 ---> 단어 집합에서 희귀 단어를 제외시킬 경우의 단어 집합의 크기 24515\n",
    "\n",
    "src_vocab_size = 24000\n",
    "\n",
    "def build_limited_vocab(texts, vocab_size):\n",
    "    vocab = {\"<PAD>\": 0, \"<UNK>\": 1}  # 패딩과 UNK 토큰 추가\n",
    "    word_counter = Counter()\n",
    "\n",
    "    for text in texts:\n",
    "        word_counter.update(src_tokenizer(text))  # 단어 빈도수 계산\n",
    "\n",
    "    # 빈도가 높은 상위 vocab_size - 2개 단어만 선택 (PAD, UNK 포함)\n",
    "    for word, _ in word_counter.most_common(vocab_size - 2):\n",
    "        vocab[word] = len(vocab)\n",
    "\n",
    "    return vocab\n",
    "\n",
    "src_vocab = build_limited_vocab(encoder_input_train, src_vocab_size)\n",
    "print('=3')"
   ]
  },
  {
   "cell_type": "code",
   "execution_count": 114,
   "id": "1d3fdc14-44af-4515-9c07-ea1477140b4e",
   "metadata": {},
   "outputs": [
    {
     "name": "stdout",
     "output_type": "stream",
     "text": [
      "[[23704, 6433, 6844, 8192, 9913, 8758, 1664, 1741, 1993, 1395, 624, 11720, 1742, 2324, 1286, 878, 23, 141, 1226, 1664, 8192, 2553, 608, 350, 960, 5059, 132, 3409, 2307, 1813, 1547, 2171, 8192, 210, 327, 1993, 2185, 63, 8473], [5442, 240, 1270, 1047, 543, 1442, 414, 20443, 600, 102, 2360, 223, 374, 343, 5492, 18, 3, 13670, 8474, 27, 20444, 3693, 2958, 2655, 20443, 4721, 102, 118, 18, 20443, 3522, 126, 2639, 543, 536, 101, 4472, 10379, 3674, 39, 1, 14629, 21855, 11721, 2527], [26, 722, 819, 4, 704, 598, 273, 4672, 73, 223, 9, 90, 89, 90, 273, 145, 4, 265, 119, 90, 798, 237, 5390, 1327, 6514, 1308, 164, 412, 90, 1687, 4, 486, 2472, 2673, 326, 273, 116, 479]]\n",
      "[[987, 392, 77, 36, 38, 538, 1879, 153, 50, 1930, 1454, 2, 14, 3138, 3138, 244, 50, 42, 555, 2709, 211, 6409, 6, 36, 1569, 1489, 2144, 5567, 65, 1454, 4, 294, 3362, 2272, 9375, 2358, 160, 1217, 7568], [152, 15, 106, 43, 58, 94, 19, 1441, 3034, 2431, 225, 341, 837, 6697, 1678, 22, 7, 94, 22055, 63, 1, 1692, 322, 43, 2499, 1137, 151, 2289, 203, 17782, 9551, 1048], [506, 214, 574, 3016, 5207, 10825, 249, 165, 32, 23, 9, 1306, 77, 1222, 1613, 249, 595, 18, 2252, 176, 3516, 178, 81, 294, 2598, 527, 1663, 18698, 632, 3484, 6020, 20654, 1, 25, 8955, 6733, 249, 425]]\n"
     ]
    }
   ],
   "source": [
    "def text_to_sequence(texts, vocab):\n",
    "    sequences = []\n",
    "    for text in texts:\n",
    "        sequence = [vocab.get(word, vocab[\"<UNK>\"]) for word in src_tokenizer(text)]\n",
    "        sequences.append(sequence)\n",
    "    return sequences\n",
    "\n",
    "# 텍스트 데이터 정수 시퀀스로 변환\n",
    "encoder_input_train_seq = text_to_sequence(encoder_input_train, src_vocab)\n",
    "encoder_input_test_seq = text_to_sequence(encoder_input_test, src_vocab)\n",
    "\n",
    "# 잘 진행되었는지 샘플 출력\n",
    "print(encoder_input_train_seq[:3])\n",
    "print(encoder_input_test_seq[:3])"
   ]
  },
  {
   "cell_type": "code",
   "execution_count": 115,
   "id": "2c3d412e-aae9-4e0c-bb13-5dc5d62671b7",
   "metadata": {},
   "outputs": [
    {
     "name": "stdout",
     "output_type": "stream",
     "text": [
      "=3\n"
     ]
    }
   ],
   "source": [
    "## summary 데이터도 동일 작업 수행\n",
    "\n",
    "def tar_tokenizer(text):\n",
    "    text = text.lower()  # 소문자로 변환\n",
    "    text = re.sub(r\"[^a-zA-Z0-9]+\", \" \", text)  # 특수문자 제거\n",
    "    return text.split()  # 공백 기준 토큰화\n",
    "\n",
    "tar_vocab = build_vocab(decoder_input_train)\n",
    "print('=3')"
   ]
  },
  {
   "cell_type": "code",
   "execution_count": 117,
   "id": "37f8308b-7ef9-4479-942d-34f91fcb64be",
   "metadata": {},
   "outputs": [
    {
     "name": "stdout",
     "output_type": "stream",
     "text": [
      "단어 집합(vocabulary)의 크기 : 29728\n",
      "등장 빈도가 5번 이하인 희귀 단어의 수: 19415\n",
      "단어 집합에서 희귀 단어를 제외시킬 경우의 단어 집합의 크기 10313\n",
      "단어 집합에서 희귀 단어의 비율: 65.30879978471475\n",
      "전체 등장 빈도에서 희귀 단어 등장 빈도 비율: 4.5872\n"
     ]
    }
   ],
   "source": [
    "threshold = 6\n",
    "\n",
    "word_counter = Counter()\n",
    "for text in decoder_input_train:\n",
    "    word_counter.update(tar_tokenizer(text))  # 각 문장의 단어 빈도 계산\n",
    "\n",
    "# 전체 단어 개수 및 등장 빈도 계산\n",
    "total_cnt = len(word_counter)  # 전체 단어 개수\n",
    "total_freq = sum(word_counter.values())  # 전체 단어 등장 횟수\n",
    "rare_cnt = sum(1 for count in word_counter.values() if count < threshold)  # 희귀 단어 개수\n",
    "rare_freq = sum(count for count in word_counter.values() if count < threshold)  # 희귀 단어 등장 횟수\n",
    "\n",
    "print('단어 집합(vocabulary)의 크기 :', total_cnt)\n",
    "print('등장 빈도가 %s번 이하인 희귀 단어의 수: %s'%(threshold - 1, rare_cnt))\n",
    "print('단어 집합에서 희귀 단어를 제외시킬 경우의 단어 집합의 크기 %s'%(total_cnt - rare_cnt))\n",
    "print(\"단어 집합에서 희귀 단어의 비율:\", (rare_cnt / total_cnt)*100)\n",
    "print(\"전체 등장 빈도에서 희귀 단어 등장 빈도 비율:\", (rare_freq / total_freq)*100)"
   ]
  },
  {
   "cell_type": "code",
   "execution_count": 118,
   "id": "c74ded7f-e2fa-482b-9a0c-d1915864f695",
   "metadata": {},
   "outputs": [
    {
     "name": "stdout",
     "output_type": "stream",
     "text": [
      "input\n",
      "input  [[2, 7209, 8359, 8360, 4, 722, 5, 9608, 1885, 9, 1087, 1166], [2, 32, 3776, 141, 229, 342, 14, 3777, 6, 111, 47, 8, 1], [2, 39, 1157, 312, 576, 540, 425, 13, 185, 554, 3275], [2, 9977, 176, 7732, 1721, 473, 829, 1854, 749, 336], [2, 45, 1962, 3008, 6, 104, 214, 76, 1103, 173, 59, 10, 2399, 745]]\n",
      "target\n",
      "decoder  [[7209, 8359, 8360, 4, 722, 5, 9608, 1885, 9, 1087, 1166, 3], [32, 3776, 141, 229, 342, 14, 3777, 6, 111, 47, 8, 1, 3], [39, 1157, 312, 576, 540, 425, 13, 185, 554, 3275, 3], [9977, 176, 7732, 1721, 473, 829, 1854, 749, 336, 3], [45, 1962, 3008, 6, 104, 214, 76, 1103, 173, 59, 10, 2399, 745, 3]]\n"
     ]
    }
   ],
   "source": [
    "## 단어 집합의 크기를 10,000개로 제한 ---> 단어 집합에서 희귀 단어를 제외시킬 경우의 단어 집합의 크기 24515\n",
    "\n",
    "tar_vocab_size = 10000\n",
    "tar_vocab = build_limited_vocab(decoder_input_train + decoder_target_train, tar_vocab_size)\n",
    "\n",
    "# 텍스트 시퀀스를 정수 시퀀스로 변환\n",
    "decoder_input_train_seq = text_to_sequence(decoder_input_train, tar_vocab)\n",
    "decoder_target_train_seq = text_to_sequence(decoder_target_train, tar_vocab)\n",
    "decoder_input_test_seq = text_to_sequence(decoder_input_test, tar_vocab)\n",
    "decoder_target_test_seq = text_to_sequence(decoder_target_test, tar_vocab)\n",
    "\n",
    "# 잘 변환되었는지 확인\n",
    "print('input')\n",
    "print('input ',decoder_input_train_seq[:5])\n",
    "print('target')\n",
    "print('decoder ',decoder_target_train_seq[:5])"
   ]
  },
  {
   "cell_type": "code",
   "execution_count": 119,
   "id": "59cca4c8-f3ae-4cf7-9f08-57792557b8bf",
   "metadata": {},
   "outputs": [
    {
     "name": "stdout",
     "output_type": "stream",
     "text": [
      "삭제할 훈련 데이터의 개수 : 0\n",
      "삭제할 테스트 데이터의 개수 : 0\n",
      "훈련 데이터의 개수 : 78455\n",
      "훈련 레이블의 개수 : 78455\n",
      "테스트 데이터의 개수 : 19613\n",
      "테스트 레이블의 개수 : 19613\n"
     ]
    }
   ],
   "source": [
    "drop_train = [index for index, sentence in enumerate(decoder_input_train) if len(sentence) == 1]\n",
    "drop_test = [index for index, sentence in enumerate(decoder_input_test) if len(sentence) == 1]\n",
    "\n",
    "print('삭제할 훈련 데이터의 개수 :', len(drop_train))\n",
    "print('삭제할 테스트 데이터의 개수 :', len(drop_test))\n",
    "\n",
    "encoder_input_train = [sentence for index, sentence in enumerate(encoder_input_train) if index not in drop_train]\n",
    "decoder_input_train = [sentence for index, sentence in enumerate(decoder_input_train) if index not in drop_train]\n",
    "decoder_target_train = [sentence for index, sentence in enumerate(decoder_target_train) if index not in drop_train]\n",
    "\n",
    "encoder_input_test = [sentence for index, sentence in enumerate(encoder_input_test) if index not in drop_test]\n",
    "decoder_input_test = [sentence for index, sentence in enumerate(decoder_input_test) if index not in drop_test]\n",
    "decoder_target_test = [sentence for index, sentence in enumerate(decoder_target_test) if index not in drop_test]\n",
    "\n",
    "print('훈련 데이터의 개수 :', len(encoder_input_train))\n",
    "print('훈련 레이블의 개수 :', len(decoder_input_train))\n",
    "print('테스트 데이터의 개수 :', len(encoder_input_test))\n",
    "print('테스트 레이블의 개수 :', len(decoder_input_test))"
   ]
  },
  {
   "cell_type": "code",
   "execution_count": 120,
   "id": "7e07f056-123f-4901-a90e-0439b1366fdc",
   "metadata": {},
   "outputs": [
    {
     "name": "stdout",
     "output_type": "stream",
     "text": [
      "=3\n"
     ]
    }
   ],
   "source": [
    "## 패딩 작업\n",
    "\n",
    "from torch.nn.utils.rnn import pad_sequence\n",
    "\n",
    "# 텐서 변환 함수 (리스트 → PyTorch 텐서)\n",
    "def convert_to_tensor(sequences):\n",
    "    return [torch.tensor(seq, dtype=torch.long) for seq in sequences]\n",
    "\n",
    "# 패딩 적용 함수 (PyTorch `pad_sequence()` 활용)\n",
    "def pad_sequences_pytorch(sequences, maxlen, padding_value=0):\n",
    "    sequences = convert_to_tensor(sequences)  # 리스트를 텐서로 변환\n",
    "    padded_seqs = pad_sequence(sequences, batch_first=True, padding_value=padding_value)  # 패딩 적용\n",
    "    return padded_seqs[:, :maxlen]  # maxlen 길이로 자르기 (최대 길이 초과 방지)\n",
    "\n",
    "# 패딩 적용\n",
    "encoder_input_train = pad_sequences_pytorch(encoder_input_train_seq, maxlen=text_max_len)\n",
    "encoder_input_test = pad_sequences_pytorch(encoder_input_test_seq, maxlen=text_max_len)\n",
    "decoder_input_train = pad_sequences_pytorch(decoder_input_train_seq, maxlen=summary_max_len)\n",
    "decoder_target_train = pad_sequences_pytorch(decoder_target_train_seq, maxlen=summary_max_len)\n",
    "decoder_input_test = pad_sequences_pytorch(decoder_input_test_seq, maxlen=summary_max_len)\n",
    "decoder_target_test = pad_sequences_pytorch(decoder_target_test_seq, maxlen=summary_max_len)\n",
    "\n",
    "print('=3')"
   ]
  },
  {
   "cell_type": "code",
   "execution_count": 123,
   "id": "f1799b1a-fdbf-414c-b2f3-68461642d7c8",
   "metadata": {},
   "outputs": [],
   "source": [
    "## 모델 설계\n",
    "\n",
    "import torch.nn as nn\n",
    "import torch.nn.functional as F\n",
    "\n",
    "# 인코더 설계 시작\n",
    "embedding_dim = 128\n",
    "hidden_size = 256\n",
    "src_vocab_size = len(src_vocab)  # 단어 집합 크기\n",
    "\n",
    "# 인코더\n",
    "class Encoder(nn.Module):\n",
    "    def __init__(self, vocab_size, embedding_dim, hidden_size, num_layers=3, dropout=0.4):\n",
    "        super(Encoder, self).__init__()\n",
    "        self.embedding = nn.Embedding(vocab_size, embedding_dim)\n",
    "        self.lstm = nn.LSTM(\n",
    "            embedding_dim, hidden_size, num_layers=num_layers,\n",
    "            dropout=dropout, batch_first=True\n",
    "        )\n",
    "\n",
    "    def forward(self, x): # 인코더의 임베딩 층\n",
    "        embedded = self.embedding(x)\n",
    "        output, (hidden, cell) = self.lstm(embedded)  # LSTM 실행\n",
    "        return output, hidden, cell\n",
    "\n",
    "# 인코더 모델 생성\n",
    "encoder = Encoder(src_vocab_size, embedding_dim, hidden_size, num_layers=3, dropout=0.4)"
   ]
  },
  {
   "cell_type": "code",
   "execution_count": 124,
   "id": "3ff69637-e53c-4278-a969-f1c30ddbbd04",
   "metadata": {},
   "outputs": [],
   "source": [
    "# 디코더 설계\n",
    "class Decoder(nn.Module):\n",
    "    def __init__(self, vocab_size, embedding_dim, hidden_size, dropout=0.4, num_layers=3):\n",
    "        super(Decoder, self).__init__()\n",
    "        self.embedding = nn.Embedding(vocab_size, embedding_dim)\n",
    "        self.lstm = nn.LSTM(\n",
    "            embedding_dim, hidden_size, num_layers=num_layers, dropout=dropout,\n",
    "            batch_first=True\n",
    "        )\n",
    "\n",
    "    def forward(self, x, hidden, cell): # 디코더의 임베딩 층\n",
    "        embedded = self.embedding(x)\n",
    "        output, (hidden, cell) = self.lstm(embedded, (hidden, cell))  # 초기 상태를 인코더에서 전달받음\n",
    "        return output, hidden, cell\n",
    "\n",
    "# 디코더 모델 생성\n",
    "decoder = Decoder(tar_vocab_size, embedding_dim, hidden_size, num_layers=3, dropout=0.4)"
   ]
  },
  {
   "cell_type": "code",
   "execution_count": 125,
   "id": "9548f060-eec8-4ca9-9eda-c9cd29285e3a",
   "metadata": {},
   "outputs": [
    {
     "name": "stdout",
     "output_type": "stream",
     "text": [
      "Seq2Seq(\n",
      "  (encoder): Encoder(\n",
      "    (embedding): Embedding(24000, 128)\n",
      "    (lstm): LSTM(128, 256, num_layers=3, batch_first=True, dropout=0.4)\n",
      "  )\n",
      "  (decoder): Decoder(\n",
      "    (embedding): Embedding(10000, 128)\n",
      "    (lstm): LSTM(128, 256, num_layers=3, batch_first=True, dropout=0.4)\n",
      "  )\n",
      "  (softmax_layer): Linear(in_features=256, out_features=10000, bias=True)\n",
      ")\n"
     ]
    }
   ],
   "source": [
    "# 디코더의 출력층\n",
    "class Seq2Seq(nn.Module):\n",
    "    def __init__(self, encoder, decoder, vocab_size):\n",
    "        super(Seq2Seq, self).__init__()\n",
    "        self.encoder = encoder\n",
    "        self.decoder = decoder\n",
    "        self.softmax_layer = nn.Linear(hidden_size, vocab_size)  # 출력층 정의\n",
    "\n",
    "    def forward(self, encoder_input, decoder_input):\n",
    "        # 인코더 실행\n",
    "        encoder_output, hidden, cell = self.encoder(encoder_input)\n",
    "\n",
    "        # 디코더 실행\n",
    "        decoder_output, _, _ = self.decoder(decoder_input, hidden, cell)\n",
    "\n",
    "        # 출력층 적용 (Softmax는 Loss 내부에서 적용되므로 생략 가능)\n",
    "        output = self.softmax_layer(decoder_output)\n",
    "        return output\n",
    "\n",
    "# 모델 정의\n",
    "model = Seq2Seq(encoder, decoder, tar_vocab_size)\n",
    "print(model)"
   ]
  },
  {
   "cell_type": "code",
   "execution_count": 126,
   "id": "d1b2e63a-bc34-4008-83cb-33de4df9171b",
   "metadata": {},
   "outputs": [
    {
     "name": "stdout",
     "output_type": "stream",
     "text": [
      "Seq2SeqWithAttention(\n",
      "  (encoder): Encoder(\n",
      "    (embedding): Embedding(24000, 128)\n",
      "    (lstm): LSTM(128, 256, num_layers=3, batch_first=True, dropout=0.4)\n",
      "  )\n",
      "  (decoder): Decoder(\n",
      "    (embedding): Embedding(10000, 128)\n",
      "    (lstm): LSTM(128, 256, num_layers=3, batch_first=True, dropout=0.4)\n",
      "  )\n",
      "  (attention): Attention_dot(\n",
      "    (attn): Linear(in_features=256, out_features=256, bias=True)\n",
      "    (v): Linear(in_features=256, out_features=1, bias=False)\n",
      "  )\n",
      "  (concat): Linear(in_features=512, out_features=256, bias=True)\n",
      "  (output_layer): Linear(in_features=256, out_features=10000, bias=True)\n",
      ")\n"
     ]
    }
   ],
   "source": [
    "## attention 층 설계\n",
    "\n",
    "class Attention_dot(nn.Module):\n",
    "    def __init__(self, hidden_size):\n",
    "        super(Attention_dot, self).__init__()\n",
    "        self.attn = nn.Linear(hidden_size, hidden_size)  # 어텐션 가중치\n",
    "        self.v = nn.Linear(hidden_size, 1, bias=False)  # 어텐션 가중치 벡터\n",
    "\n",
    "    def forward(self, decoder_output, encoder_outputs):\n",
    "        attn_weights = torch.bmm(decoder_output, encoder_outputs.transpose(1, 2))\n",
    "        attn_weights = F.softmax(attn_weights, dim=-1)  # 어텐션 가중치 정규화\n",
    "        attn_out = torch.bmm(attn_weights, encoder_outputs)\n",
    "\n",
    "        return attn_out\n",
    "\n",
    "class Seq2SeqWithAttention(nn.Module):\n",
    "    def __init__(self, encoder, decoder, vocab_size, hidden_size):\n",
    "        super(Seq2SeqWithAttention, self).__init__()\n",
    "        self.encoder = encoder\n",
    "        self.decoder = decoder\n",
    "        self.attention = Attention_dot(hidden_size)\n",
    "        self.concat = nn.Linear(hidden_size * 2, hidden_size)  # 어텐션 결합\n",
    "        self.output_layer = nn.Linear(hidden_size, vocab_size)  # 최종 출력층\n",
    "\n",
    "    def forward(self, encoder_input, decoder_input):\n",
    "        encoder_outputs, hidden, cell = self.encoder(encoder_input)\n",
    "        decoder_outputs, _, _ = self.decoder(decoder_input, hidden, cell)\n",
    "\n",
    "        # 어텐션 적용\n",
    "        attn_out = self.attention(decoder_outputs, encoder_outputs)\n",
    "\n",
    "        # 어텐션 결과와 디코더 출력 연결\n",
    "        decoder_concat_output = torch.cat((decoder_outputs, attn_out), dim=-1)\n",
    "\n",
    "        # 어텐션 결합 후 최종 출력\n",
    "        decoder_concat_output = torch.tanh(self.concat(decoder_concat_output))\n",
    "        output = self.output_layer(decoder_concat_output)\n",
    "\n",
    "        return output\n",
    "\n",
    "# 모델 생성\n",
    "model = Seq2SeqWithAttention(encoder, decoder, tar_vocab_size, hidden_size)\n",
    "print(model)"
   ]
  },
  {
   "cell_type": "code",
   "execution_count": 127,
   "id": "4e407b29-917b-4b08-9176-d9356b32c604",
   "metadata": {},
   "outputs": [
    {
     "name": "stdout",
     "output_type": "stream",
     "text": [
      "Using device: cuda\n"
     ]
    }
   ],
   "source": [
    "## 훈련 진행\n",
    "\n",
    "import torch.optim as optim\n",
    "from torch.utils.data import DataLoader, TensorDataset\n",
    "\n",
    "device = torch.device(\"cuda\" if torch.cuda.is_available() else \"cpu\")\n",
    "print(f\"Using device: {device}\")\n",
    "model.to(device)\n",
    "\n",
    "# Hyperparameters\n",
    "batch_size = 256\n",
    "epochs = 50\n",
    "learning_rate = 0.001\n",
    "patience = 2\n",
    "\n",
    "# 손실 함수 & 옵티마이저\n",
    "criterion = nn.CrossEntropyLoss(ignore_index=0)  # 패딩 토큰 무시\n",
    "optimizer = optim.AdamW(model.parameters(), lr=learning_rate)\n",
    "\n",
    "# PyTorch DataLoader 설정\n",
    "train_dataset = TensorDataset(encoder_input_train, decoder_input_train, decoder_target_train)\n",
    "test_dataset = TensorDataset(encoder_input_test, decoder_input_test, decoder_target_test)\n",
    "\n",
    "train_loader = DataLoader(train_dataset, batch_size=batch_size, shuffle=True)\n",
    "test_loader = DataLoader(test_dataset, batch_size=batch_size, shuffle=False)"
   ]
  },
  {
   "cell_type": "code",
   "execution_count": 128,
   "id": "a2165b37-38f5-4025-83f8-b2cbce3891b5",
   "metadata": {},
   "outputs": [],
   "source": [
    "train_losses = []\n",
    "val_losses = []\n",
    "\n",
    "# 학습 함수\n",
    "def train_model(model, train_loader, test_loader, criterion, optimizer, epochs, patience):\n",
    "    model.train()\n",
    "    best_val_loss = float('inf')\n",
    "    early_stop_counter = 0\n",
    "\n",
    "    for epoch in range(epochs):\n",
    "        total_loss = 0\n",
    "\n",
    "        for encoder_input, decoder_input, target in train_loader:\n",
    "            optimizer.zero_grad()\n",
    "\n",
    "            # 정수형 변환\n",
    "            encoder_input = encoder_input.to(device).long()\n",
    "            decoder_input = decoder_input.to(device).long()\n",
    "            target = target.to(device).long()\n",
    "\n",
    "            # 모델 실행\n",
    "            output = model(encoder_input, decoder_input)\n",
    "            output = output.view(-1, output.shape[-1])\n",
    "            target = target.view(-1)\n",
    "\n",
    "            loss = criterion(output, target)\n",
    "            loss.backward()\n",
    "            optimizer.step()\n",
    "            total_loss += loss.item()\n",
    "\n",
    "        avg_loss = total_loss / len(train_loader)\n",
    "        train_losses.append(avg_loss)\n",
    "\n",
    "        # Validation loss 계산\n",
    "        model.eval()\n",
    "        val_loss = 0\n",
    "        with torch.no_grad():\n",
    "            for encoder_input, decoder_input, target in test_loader:\n",
    "                encoder_input = encoder_input.to(device).long()\n",
    "                decoder_input = decoder_input.to(device).long()\n",
    "                target = target.to(device).long()\n",
    "\n",
    "                output = model(encoder_input, decoder_input)\n",
    "                output = output.view(-1, output.shape[-1])\n",
    "                target = target.view(-1)\n",
    "                loss = criterion(output, target)\n",
    "\n",
    "                val_loss += loss.item()\n",
    "\n",
    "        val_loss /= len(test_loader)\n",
    "        val_losses.append(val_loss)\n",
    "        print(f\"Epoch {epoch+1}/{epochs} | Train Loss: {avg_loss:.4f} | Val Loss: {val_loss:.4f}\")\n",
    "\n",
    "        # Early Stopping 조건\n",
    "        if val_loss < best_val_loss:\n",
    "            best_val_loss = val_loss\n",
    "            early_stop_counter = 0\n",
    "        else:\n",
    "            early_stop_counter += 1\n",
    "\n",
    "        if early_stop_counter >= patience:\n",
    "            print(f\"Early stopping triggered at epoch {epoch+1}\")\n",
    "            break\n",
    "\n",
    "        model.train()"
   ]
  },
  {
   "cell_type": "code",
   "execution_count": 129,
   "id": "bde30ebe-ccc9-4fc6-b257-4be791fe273b",
   "metadata": {},
   "outputs": [
    {
     "name": "stdout",
     "output_type": "stream",
     "text": [
      "Epoch 1/50 | Train Loss: 6.8347 | Val Loss: 6.5053\n",
      "Epoch 2/50 | Train Loss: 6.3947 | Val Loss: 6.1801\n",
      "Epoch 3/50 | Train Loss: 6.0139 | Val Loss: 5.8752\n",
      "Epoch 4/50 | Train Loss: 5.6144 | Val Loss: 5.5100\n",
      "Epoch 5/50 | Train Loss: 5.2276 | Val Loss: 5.2586\n",
      "Epoch 6/50 | Train Loss: 4.9369 | Val Loss: 5.0850\n",
      "Epoch 7/50 | Train Loss: 4.7094 | Val Loss: 4.9512\n",
      "Epoch 8/50 | Train Loss: 4.5175 | Val Loss: 4.8552\n",
      "Epoch 9/50 | Train Loss: 4.3498 | Val Loss: 4.7776\n",
      "Epoch 10/50 | Train Loss: 4.2000 | Val Loss: 4.7132\n",
      "Epoch 11/50 | Train Loss: 4.0634 | Val Loss: 4.6693\n",
      "Epoch 12/50 | Train Loss: 3.9399 | Val Loss: 4.6182\n",
      "Epoch 13/50 | Train Loss: 3.8291 | Val Loss: 4.5987\n",
      "Epoch 14/50 | Train Loss: 3.7261 | Val Loss: 4.5792\n",
      "Epoch 15/50 | Train Loss: 3.6335 | Val Loss: 4.5612\n",
      "Epoch 16/50 | Train Loss: 3.5427 | Val Loss: 4.5600\n",
      "Epoch 17/50 | Train Loss: 3.4602 | Val Loss: 4.5496\n",
      "Epoch 18/50 | Train Loss: 3.3830 | Val Loss: 4.5560\n",
      "Epoch 19/50 | Train Loss: 3.3082 | Val Loss: 4.5548\n",
      "Early stopping triggered at epoch 19\n",
      "CPU times: user 8min 22s, sys: 661 ms, total: 8min 22s\n",
      "Wall time: 8min 22s\n"
     ]
    }
   ],
   "source": [
    "%%time\n",
    "# 30분 이상 시간이 걸릴 수 있습니다. GPU 환경에서 학습하는 것을 권장합니다.\n",
    "# 학습 실행\n",
    "train_model(model, train_loader, test_loader, criterion, optimizer, epochs=epochs, patience=patience)"
   ]
  },
  {
   "cell_type": "code",
   "execution_count": 130,
   "id": "c53b736d-481f-4398-b0a2-74a1ed39d8e7",
   "metadata": {},
   "outputs": [
    {
     "data": {
      "image/png": "[encoded data removed]",
      "text/plain": [
       "<Figure size 640x480 with 1 Axes>"
      ]
     },
     "metadata": {},
     "output_type": "display_data"
    }
   ],
   "source": [
    "plt.plot(range(len(train_losses)), train_losses, label='Train Loss')\n",
    "plt.plot(range(len(val_losses)), val_losses, label='Validation Loss')\n",
    "plt.legend()\n",
    "plt.xlabel(\"Epochs\")\n",
    "plt.ylabel(\"Loss\")\n",
    "plt.title(\"Training and Validation Loss\")\n",
    "plt.show()"
   ]
  },
  {
   "cell_type": "code",
   "execution_count": 131,
   "id": "4129d15e-f6ea-4280-8e4d-f0fb213dc02e",
   "metadata": {},
   "outputs": [
    {
     "name": "stdout",
     "output_type": "stream",
     "text": [
      "=3\n"
     ]
    }
   ],
   "source": [
    "src_index_to_word = {idx: word for word, idx in src_vocab.items()} # 원문 단어 집합에서 정수 -> 단어를 얻음\n",
    "tar_word_to_index = tar_vocab # 요약 단어 집합에서 단어 -> 정수를 얻음\n",
    "tar_index_to_word = {idx: word for word, idx in tar_vocab.items()} # 요약 단어 집합에서 정수 -> 단어를 얻음\n",
    "\n",
    "print('=3')"
   ]
  },
  {
   "cell_type": "code",
   "execution_count": 132,
   "id": "fbcd3f53-7ee4-47b9-bd4a-d4796e2f6784",
   "metadata": {},
   "outputs": [
    {
     "name": "stdout",
     "output_type": "stream",
     "text": [
      "=3\n"
     ]
    }
   ],
   "source": [
    "device = torch.device(\"cuda\" if torch.cuda.is_available() else \"cpu\")\n",
    "decoder.to(device)\n",
    "\n",
    "# 인코더 설계\n",
    "def encode_input(encoder, input_seq):\n",
    "    encoder_outputs, hidden, cell = encoder(input_seq)\n",
    "    return encoder_outputs, hidden, cell\n",
    "\n",
    "# 이전 시점의 상태들을 저장하는 텐서\n",
    "num_layers = 3  # 디코더 LSTM 레이어 개수 (설정에 맞춰 조정)\n",
    "batch_size = 1\n",
    "\n",
    "decoder_state_input_h = torch.zeros((num_layers, batch_size, hidden_size), dtype=torch.float, device=device)\n",
    "decoder_state_input_c = torch.zeros((num_layers, batch_size, hidden_size), dtype=torch.float, device=device)\n",
    "decoder_input = torch.zeros((batch_size, 1), dtype=torch.long, device=device)\n",
    "\n",
    "dec_emb2 = decoder.embedding(decoder_input)\n",
    "\n",
    "# 문장의 다음 단어를 예측하기 위해서 초기 상태(initial_state)를 이전 시점의 상태로 사용. 이는 뒤의 함수 decode_sequence()에 구현\n",
    "# 훈련 과정에서와 달리 LSTM의 리턴하는 은닉 상태와 셀 상태인 state_h와 state_c를 버리지 않음.\n",
    "decoder_outputs2, state_h2, state_c2 = decoder(decoder_input, decoder_state_input_h, decoder_state_input_c)\n",
    "\n",
    "print('=3')"
   ]
  },
  {
   "cell_type": "code",
   "execution_count": 133,
   "id": "f0375e4e-c230-42ba-a463-5b57d8de78e6",
   "metadata": {},
   "outputs": [
    {
     "name": "stdout",
     "output_type": "stream",
     "text": [
      "=3\n"
     ]
    }
   ],
   "source": [
    "class DecoderWithAttention(nn.Module):\n",
    "    def __init__(self, decoder, attention, hidden_size, vocab_size):\n",
    "        super(DecoderWithAttention, self).__init__()\n",
    "        self.decoder = decoder  # 기존 디코더\n",
    "        self.attention = attention  # 어텐션 레이어\n",
    "        self.concat = nn.Linear(hidden_size * 2, hidden_size)  # 어텐션 결합 레이어\n",
    "        self.output_layer = nn.Linear(hidden_size, vocab_size)  # 최종 출력층\n",
    "        self.softmax = nn.Softmax(dim=-1)  # 소프트맥스\n",
    "\n",
    "    def forward(self, decoder_inputs, decoder_hidden_state, decoder_state_h, decoder_state_c):\n",
    "        # 디코더 실행\n",
    "        decoder_outputs, state_h, state_c = self.decoder(decoder_inputs, decoder_state_h, decoder_state_c)\n",
    "\n",
    "        # 어텐션 적용\n",
    "        attn_out = self.attention(decoder_outputs, decoder_hidden_state)\n",
    "\n",
    "        # 어텐션과 디코더 출력 결합\n",
    "        decoder_concat_output = torch.cat((decoder_outputs, attn_out), dim=-1)\n",
    "        decoder_concat_output = torch.tanh(self.concat(decoder_concat_output))\n",
    "\n",
    "        # 최종 출력층 적용\n",
    "        decoder_outputs2 = self.softmax(self.output_layer(decoder_concat_output))\n",
    "\n",
    "        return decoder_outputs2, state_h, state_c\n",
    "\n",
    "# 기존 Attention 클래스 사용\n",
    "attention_layer = Attention_dot(hidden_size)\n",
    "\n",
    "# 디코더 모델 생성\n",
    "decoder_model = DecoderWithAttention(decoder, attention_layer, hidden_size, tar_vocab_size)\n",
    "print('=3')"
   ]
  },
  {
   "cell_type": "code",
   "execution_count": 134,
   "id": "ce91468e-637b-4bd7-9ee2-e7005fb03b56",
   "metadata": {},
   "outputs": [
    {
     "name": "stdout",
     "output_type": "stream",
     "text": [
      "=3\n"
     ]
    }
   ],
   "source": [
    "def decode_sequence(input_seq, encoder, decoder, tar_word_to_index, tar_index_to_word, text_max_len, summary_max_len, device):\n",
    "    # 입력을 PyTorch Tensor로 변환\n",
    "    input_seq = torch.tensor(input_seq, dtype=torch.long, device=device)\n",
    "\n",
    "    # 인코더 실행하여 초기 상태(hidden, cell) 얻기\n",
    "    with torch.no_grad():\n",
    "        e_out, e_h, e_c = encoder(input_seq)\n",
    "\n",
    "    e_out = e_out.repeat(1, text_max_len, 1)  # 차원 조정 (np.tile 대신 repeat 사용)\n",
    "\n",
    "    # <SOS>에 해당하는 토큰 생성\n",
    "    target_seq = torch.zeros((1, 1), dtype=torch.long, device=device)\n",
    "    target_seq[0, 0] = tar_word_to_index['sostoken']\n",
    "\n",
    "    stop_condition = False\n",
    "    decoded_sentence = ''\n",
    "\n",
    "    while not stop_condition:\n",
    "        # 디코더 실행\n",
    "        with torch.no_grad():\n",
    "            output_tokens, h, c = decoder(target_seq, e_h, e_c)\n",
    "\n",
    "        # 가장 높은 확률을 가진 단어 선택\n",
    "        sampled_token_index = torch.argmax(output_tokens[0, -1, :]).item()\n",
    "        sampled_token = tar_index_to_word[sampled_token_index]\n",
    "\n",
    "        if sampled_token != 'eostoken':\n",
    "            decoded_sentence += ' ' + sampled_token\n",
    "\n",
    "        # 종료 조건: <eos>에 도달하거나 최대 길이를 초과하면 중단\n",
    "        if sampled_token == 'eostoken' or len(decoded_sentence.split()) >= (summary_max_len - 1):\n",
    "            stop_condition = True\n",
    "\n",
    "        # 길이가 1인 타겟 시퀀스를 업데이트\n",
    "        target_seq = torch.zeros((1, 1), dtype=torch.long, device=device)\n",
    "        target_seq[0, 0] = sampled_token_index\n",
    "\n",
    "        # 상태 업데이트\n",
    "        e_h, e_c = h, c\n",
    "\n",
    "    return decoded_sentence\n",
    "print(\"=3\")"
   ]
  },
  {
   "cell_type": "code",
   "execution_count": 135,
   "id": "586e918f-3fee-4693-8b4f-c9ac0dc9a9cf",
   "metadata": {},
   "outputs": [
    {
     "name": "stdout",
     "output_type": "stream",
     "text": [
      "=3\n"
     ]
    }
   ],
   "source": [
    "# 원문의 정수 시퀀스를 텍스트 시퀀스로 변환\n",
    "def seq2text(input_seq):\n",
    "    temp = ''\n",
    "    for i in input_seq:\n",
    "        key = int(i.item())  # PyTorch Tensor → int 변환\n",
    "        if key != 0:  # 패딩(0) 제외\n",
    "            temp = temp + src_index_to_word.get(key, \"<UNK>\") + ' '  # 안전한 조회\n",
    "    return temp.strip()\n",
    "\n",
    "# 요약문의 정수 시퀀스를 텍스트 시퀀스로 변환\n",
    "def seq2summary(input_seq):\n",
    "    temp = ''\n",
    "    for i in input_seq:\n",
    "        key = int(i.item())  # PyTorch Tensor → int 변환\n",
    "        if key != 0 and key != tar_word_to_index['sostoken'] and key != tar_word_to_index['eostoken']:\n",
    "            temp = temp + tar_index_to_word.get(key, \"<UNK>\") + ' '  # 안전한 조회\n",
    "    return temp.strip()  # 양쪽 공백 제거\n",
    "\n",
    "print('=3')"
   ]
  },
  {
   "cell_type": "code",
   "execution_count": 136,
   "id": "ddee4f90-c194-4e04-97fe-60cba2d7bfd7",
   "metadata": {},
   "outputs": [
    {
     "name": "stdout",
     "output_type": "stream",
     "text": [
      "원문 : axis bank rubbished news reports said ceo shikha sharma may join tata group lead financial services vertical <UNK> untrue unfounded said adding laid process board <UNK> conclude going change leadership entirely premature speculative\n",
      "실제 요약 : axis bank denies reports of ceo shikha sharma moving to tata\n",
      "예측 요약 :  prez arrested study out uk found uk after make nd the show\n",
      "\n",
      "\n",
      "원문 : akshay kumar suggested mixed cricket team similar mixed doubles tennis <UNK> cannot men women cricket match another country kind set happens biggest set ever added akshay said idea struck watching wimbledon match phone\n",
      "실제 요약 : cricket should have mixed team like tennis suggests akshay\n",
      "예측 요약 :  prez arrested study out uk like attack at first bihar at first\n",
      "\n",
      "\n",
      "원문 : ex australian pacer glenn mcgrath talking sachin tendulkar son arjun left arm pacer said winner love passion cricket like father name like tendulkar pretty big shoes fill added mcgrath year old bowling nets india women players\n",
      "실제 요약 : arjun will be winner if he has sachin passion mcgrath\n",
      "예측 요약 :  prez arrested arrested be out after like like like kohli air life\n",
      "\n",
      "\n",
      "원문 : ruling aiadmk party tamil nadu monday said would take legal action karnataka ex dig roopa withdraw bribery charges party chief vk sasikala police officer alleged sasikala given special treatment amenities prison rules notably sasikala jailed disproportionate assets case\n",
      "실제 요약 : will sue cop in sasikala bribery row threatens aiadmk\n",
      "예측 요약 :  accused startup out to make attack at first bihar at attack bihar\n",
      "\n",
      "\n",
      "원문 : border roads organisation reportedly construct two tunnels arunachal pradesh <UNK> pass cut distance china border <UNK> km tunnels would reduce travel time least hour ensure nh km stretch <UNK> <UNK> remain accessible weather conditions\n",
      "실제 요약 : tunnels proposed in arunachal to cut distance to china border\n",
      "예측 요약 :  app data study uk dhoni daughter makes uk pakistan pakistan pakistan cong\n",
      "\n",
      "\n",
      "원문 : goa chief minister manohar parrikar tuesday said state planning provide financial assistance farmers help take care old cows economical viability maintaining cow lasts till gives milk cow becomes old <UNK> <UNK> farmers parrikar added\n",
      "실제 요약 : goa to provide aid to farmers to help take care of old\n",
      "예측 요약 :  modi data data uk will man khan amid no up mumbai use\n",
      "\n",
      "\n",
      "원문 : video showing us president donald trump son law jared kushner asked protester sign russian flag surfaced online comes kushner testified senate committee alleged collusion russian officials presidential election campaign protester also called trump resign immediately\n",
      "실제 요약 : video protester asks trump son in law to sign russia flag\n",
      "예측 요약 :  app data study study jail uk th attack at was daughter daughter\n",
      "\n",
      "\n",
      "원문 : brihanmumbai municipal corporation denied ganesh mandal coordination committee demand take approval process setting <UNK> online committee claimed single window clearance system introduced improve mandal approval rate ineffective reportedly meet mayor vishwanath mahadeshwar demand better clearance system\n",
      "실제 요약 : bmc denies ganesh mandal demand for online approval\n",
      "예측 요약 :  modi data data study study jail ban uk kerala life sostoken men\n",
      "\n",
      "\n",
      "원문 : year old student harpreet singh happy punjab jalandhar allegedly got girlfriend raped could use excuse avoid marrying according reports two happy friends took abandoned haveli raped day supposed meet parents reports added\n",
      "실제 요약 : college student gets girlfriend raped to avoid marriage\n",
      "예측 요약 :  daughter data study makes ban uk uk can show ex can show\n",
      "\n",
      "\n",
      "원문 : mumbai residents protesting outside brihanmumbai municipal corporation bandra office every monday friday since july complaints resolved months complaints filed bmc public grievance registration system set complaints include illegal encroachments drainage issues potholes tree cutting among others\n",
      "실제 요약 : <UNK> protest outside bmc on <UNK> complaints\n",
      "예측 요약 :  accused startup data study jail ban uk dhoni jail amid first bihar\n",
      "\n",
      "\n",
      "원문 : north korean officials said care us ban citizens travelling country saying effect tourism industry ban reportedly enacted week comes death us student arrested north korea tour\n",
      "실제 요약 : we do not care at all about us travel ban korea\n",
      "예측 요약 :  will him due due off first bihar bihar can hc jail air\n",
      "\n",
      "\n",
      "원문 : australian <UNK> church come fire video surfaced pastor describing islam cancer must destroy keith <UNK> described quran virus infecting brains muslims adding islam culturally incompatible western christian values called ban muslim immigration\n",
      "실제 요약 : australian pastor calls islam cancer we must destroy\n",
      "예측 요약 :  will him on attack at can out kohli slams was no if\n",
      "\n",
      "\n",
      "원문 : new book detailing nelson mandela last days withdrawn condemned widow publisher penguin random house announced saying way intended disrespectful book revealed several <UNK> episodes end mandela life well family <UNK> care legacy\n",
      "실제 요약 : <UNK> mandela book withdrawn after <UNK> from widow\n",
      "예측 요약 :  pm startup data study killed ban uk killed at attack at first\n",
      "\n",
      "\n",
      "원문 : polish man killed teenage boy hit superman punch caused fall hit head ground court heard accused reportedly punched deceased mocking english accent victim knocked unconscious later died hospital head injuries\n",
      "실제 요약 : polish man killed by superman punch from teen court <UNK>\n",
      "예측 요약 :  daughter data study makes ban uk uk can show ex attack china\n",
      "\n",
      "\n",
      "원문 : us court ruled president donald trump commission election fraud resume collecting voter information states commission asked states provide publicly available data including registered voters names birth dates social security numbers however advocacy group filed lawsuit commission citing privacy concerns\n",
      "실제 요약 : us court allows trump commission to collect voter data\n",
      "예측 요약 :  accused startup data study jail ban killed ban killed ban get get\n",
      "\n",
      "\n",
      "원문 : protesters ac france built wall around hotel prevent used migrant shelter accusing authorities failing discuss plan protesters claimed town unable cope new arrivals french government bought several hotels house migrants sleeping streets\n",
      "실제 요약 : french protesters build wall around hotel to stop migrants\n",
      "예측 요약 :  modi data data study study jail ban uk dhoni amid was ex\n",
      "\n",
      "\n",
      "원문 : australian minister resources matthew <UNK> became third politician resign dual citizenship learning mother signed italian citizenship knowledge become italian citizen <UNK> said notably australian politicians eligible elected parliament hold dual citizenship\n",
      "실제 요약 : australian minister resigns over italian citizenship\n",
      "예측 요약 :  will man on attack rape slams was slams at found at first\n",
      "\n",
      "\n",
      "원문 : us president donald trump sunday slammed members party protecting sad republicans even carried line back little protect president trump tweeted comes republicans struggled come together bill repeal replace <UNK>\n",
      "실제 요약 : trump slams <UNK> for not protecting him\n",
      "예측 요약 :  will him rape at attack at found at found at was kohli\n",
      "\n",
      "\n",
      "원문 : govinda thanked rishi kapoor showing concern role jagga jasoos removed added good blood never speaks wrong said expected little professionalism director anurag basu want govinda work film ask first place rishi said\n",
      "실제 요약 : govinda thanks rishi for showing concern in <UNK> jasoos row\n",
      "예측 요약 :  prez arrested study out uk found due off ban at can man\n",
      "\n",
      "\n",
      "원문 : hindi trailer kajol dhanush starrer film vip <UNK> released sequel tamil film <UNK> <UNK> <UNK> dhanush penned story also co producing sister law soundarya rajinikanth directing film scheduled release july\n",
      "실제 요약 : hindi trailer of kajol dhanush vip <UNK> released\n",
      "예측 요약 :  from attack bihar life study study jail makes pakistan bihar life china\n",
      "\n",
      "\n",
      "원문 : official james bond twitter handle announced november release date new film franchise titled bond film written neal <UNK> robert wade produced michael wilson barbara <UNK> daniel craig reportedly return character james bond film\n",
      "실제 요약 : release date of new james bond film bond announced\n",
      "예측 요약 :  minister data data uk uk twitter twitter pakistan makes was air dead\n",
      "\n",
      "\n",
      "원문 : many ministers mlas uttar pradesh failed declare assets despite cm yogi adityanath repeated directions according government notification per rules ministers mlas mandated declare assets liabilities within three months assuming office elected members state assembly\n",
      "실제 요약 : ministers mlas in up fail to declare assets\n",
      "예측 요약 :  from attack bihar can show ex can show kohli slams was get\n",
      "\n",
      "\n",
      "원문 : state owned broadcaster doordarshan planning change iconic logo issued invitation asking entries public logo designs doordarshan take new logo design entries till august winner awarded cash prize lakh sporting current logo since\n",
      "실제 요약 : <UNK> plans to replace its logo after years\n",
      "예측 요약 :  pm jail ban from attack bihar can hc ex was what man\n",
      "\n",
      "\n",
      "원문 : president ram nath kovind tuesday said speech nation building requires national pride adding citizen india nation builder talked various professionals india act nation builders also said india believed philosophy <UNK> <UNK> world family\n",
      "실제 요약 : <UNK> to the crore citizens of this great nation kovind\n",
      "예측 요약 :  prez arrested study out uk found if out if no if no\n",
      "\n",
      "\n",
      "원문 : police officials uk arrested gang criminals ran largest cannabis growing operation britain network drug farms built inside industrial facilities gang grew cannabis street value million year members convicted conspiracy produce illegal substances\n",
      "실제 요약 : uk largest cannabis growing operation busted\n",
      "예측 요약 :  app data study uk dead at was daughter daughter airport firm airport\n",
      "\n",
      "\n",
      "원문 : country largest telecom operator bharti airtel tuesday reported year year decline consolidated net profit crore quarter ended june total revenue company also slipped crore bharti airtel ceo gopal <UNK> said pricing disruption caused entry new operator created stress sector profitability\n",
      "실제 요약 : airtel profit plunges to crore in june quarter\n",
      "예측 요약 :  app app on was uk dead use the attack bank china pakistan\n",
      "\n",
      "\n",
      "원문 : tanzania government sent gold producer <UNK> mining billion tax bill another billion interest penalties bill equal almost two centuries worth company revenue government alleged company declared export revenues company disagreements authorities resulted decline stock year\n",
      "실제 요약 : <UNK> govt issues billion tax bill to mining company\n",
      "예측 요약 :  app data study study jail uk uk time men crore bank men\n",
      "\n",
      "\n",
      "원문 : asked big task bring infosys board founders together co chairman ravi venkatesan said <UNK> know measure <UNK> lot still left stated comments come public dispute co founders including narayana murthy top management corporate governance\n",
      "실제 요약 : can bring infosys board and founders together co chairman\n",
      "예측 요약 :  pm arrested ban from attack bihar can man what man film air\n",
      "\n",
      "\n",
      "원문 : actor varun dhawan star director shoojit sircar next film titled october talking film shoojit said love story box kind story unusual unconventional kind story slice life romance space notably varun first film shoojit\n",
      "실제 요약 : varun dhawan to star in <UNK> <UNK> next film october\n"
     ]
    },
    {
     "name": "stderr",
     "output_type": "stream",
     "text": [
      "<timed exec>:4: UserWarning: To copy construct from a tensor, it is recommended to use sourceTensor.detach().clone() or sourceTensor.detach().clone().requires_grad_(True), rather than torch.tensor(sourceTensor).\n",
      "/tmp/ipykernel_424/366614501.py:3: UserWarning: To copy construct from a tensor, it is recommended to use sourceTensor.detach().clone() or sourceTensor.detach().clone().requires_grad_(True), rather than torch.tensor(sourceTensor).\n",
      "  input_seq = torch.tensor(input_seq, dtype=torch.long, device=device)\n"
     ]
    },
    {
     "name": "stdout",
     "output_type": "stream",
     "text": [
      "예측 요약 :  pm their ban uk can hc pakistan pakistan kerala life film air\n",
      "\n",
      "\n",
      "원문 : actor arjun rampal turned showstopper designer rohit bal india couture week show walked ramp black <UNK> pants featured bal newly patented motif <UNK> collection featured <UNK> gowns saris <UNK> woven gold silver threads decorated <UNK> crystals\n",
      "실제 요약 : arjun rampal turns showstopper at india couture week\n",
      "예측 요약 :  from attack arrested at does hc out new dhoni pakistan pakistan pakistan\n",
      "\n",
      "\n",
      "원문 : <UNK> emmanuel portrays <UNK> game thrones said first nude scene show featured season second episode big deal added strange become good friends co star jacob anderson portrays grey worm fine obviously done really respectfully said\n",
      "실제 요약 : my first game of thrones nude scene was big deal <UNK>\n",
      "예측 요약 :  prez arrested study mp uk th son men makes after attack air\n",
      "\n",
      "\n",
      "원문 : former adult star mia khalifa started youtube channel review christopher nolan directorial <UNK> video review said know whole thing lasted hours rescue mission took two half months mia also slammed <UNK> tweeting love nolan <UNK> sucked\n",
      "실제 요약 : mia khalifa starts youtube channel with review of <UNK>\n",
      "예측 요약 :  minister data while uk bihar can man pakistan be film be film\n",
      "\n",
      "\n",
      "원문 : actor neil nitin mukesh took twitter share first look poster upcoming film <UNK> co stars alongside jackie shroff film also stars kay kay menon karan singh grover <UNK> dhar film directed <UNK> bhatt cast expected begin shooting august\n",
      "실제 요약 : st look of neil jackie shroff upcoming film <UNK> out\n",
      "예측 요약 :  minister data data study uk dhoni twitter dhoni pakistan pakistan air cong\n",
      "\n",
      "\n",
      "원문 : actor mithun chakraborty said advice youngsters concentrate talent compared six pack abs added talent capability crack film industry mithun said one persistent efforts talent cannot anything\n",
      "실제 요약 : advice youngsters to focus on talent over pack <UNK> mithun\n",
      "예측 요약 :  prez arrested study out uk police bihar use if no if hc\n",
      "\n",
      "\n",
      "원문 : actor ayushmann khurrana tweeted please change doordarshan logo represents childhood statement comes recent reports doordarshan planning changing logo create something <UNK> appeal children <UNK> doordarshan sporting current logo since inception\n",
      "실제 요약 : ayushmann requests <UNK> not to change its logo\n",
      "예측 요약 :  prez arrested ban from attack bihar can man jail air life air\n",
      "\n",
      "\n",
      "원문 : actor sushant singh rajput said think saif ali khan daughter sara ali khan feeling pressure making debut bright girl confident career sure well added sara make acting debut opposite sushant film kedarnath\n",
      "실제 요약 : sara is not feeling the pressure of making her debut sushant\n",
      "예측 요약 :  prez arrested study out uk found if out if no if no\n",
      "\n",
      "\n",
      "원문 : karnataka government tuesday announced plans open new liquor stores compensate drop excise revenue liquor sale along highways banned new stores reportedly run state government owned mysore sales international limited comes amid protests opposition stores push people debt <UNK>\n",
      "실제 요약 : karnataka government to open new liquor stores\n",
      "예측 요약 :  modi data data study study jail ban get get get airport get\n",
      "\n",
      "\n",
      "원문 : human resource development minister prakash javadekar monday announced soon give approval world class research teaching institutions called indian institutes eminence adding approval given parliament monsoon session said <UNK> ranked among top universities world\n",
      "실제 요약 : india to get institutes of <UNK> for research\n",
      "예측 요약 :  modi data data due off ban at attack bihar life captain captain\n",
      "\n",
      "\n",
      "원문 : german carmaker bmw rejected reports cheated emissions tests illegal systems cars company also denied reports plotting audi volkswagen porsche designs diesel emissions treatment systems vehicle emissions came scrutiny worldwide since volkswagen admitted installing illegal software cheat us emissions tests diesel cars\n",
      "실제 요약 : bmw denies reports of emissions <UNK>\n",
      "예측 요약 :  accused down on attack bihar can man pakistan be film air life\n",
      "\n",
      "\n",
      "원문 : amateur australian astronomer captured footage rare phenomenon upside lightning <UNK> called <UNK> <UNK> caused electrical discharge storms instead traditionally going towards ground travel upwards space phenomenon observed skies australia new south wales\n",
      "실제 요약 : <UNK> captures footage of upside down lightning <UNK>\n",
      "예측 요약 :  app data study uk dhoni makes was daughter makes makes air air\n",
      "\n",
      "\n",
      "원문 : vietnam reportedly stopped oil drilling disputed area south china sea china threatened attack vietnamese bases <UNK> islands drilling stop china claims <UNK> sovereignty islands calls <UNK> islands notably several countries including philippines vietnam others dispute china claim region\n",
      "실제 요약 : vietnam halts <UNK> in south china sea post china threat\n",
      "예측 요약 :  app app data uk uk can show ex can show nd show\n",
      "\n",
      "\n",
      "원문 : russian lawmakers urged president vladimir putin sanction poland bill ordering demolition soviet monuments legislation part poland de <UNK> law states monuments cannot pay tribute persons organisations events symbolising <UNK> <UNK> systems notably lakh soviet soldiers died liberating poland nazis wwii\n",
      "실제 요약 : <UNK> ask putin to sanction poland over anti <UNK> law\n",
      "예측 요약 :  app data study study study jail killed killed killed killed killed get\n",
      "\n",
      "\n",
      "원문 : television personality kylie jenner snapchat hacked hacker posted message caption add kylie jenner <UNK> followed post alleged hacker twitter account read got kylie <UNK> however hour later supposed hacker wrote joke nude pictures kylie\n",
      "실제 요약 : hacker threatens to leak kylie jenner nude pictures\n",
      "예측 요약 :  down her data study study study makes makes attack men crore air\n",
      "\n",
      "\n",
      "원문 : supreme court tuesday directed sahara group chief subrata roy deposit crore september also said process auctioning group aamby valley shall start next hearing case september supreme court ordered auction sahara alleged failure deposit money refunding investors\n",
      "실제 요약 : sc directs <UNK> roy to deposit crore by september\n",
      "예측 요약 :  modi data data uk uk men men after no men crore mumbai\n",
      "\n",
      "\n",
      "원문 : india host first wta tournament five years city mumbai stages lakh mumbai open november maharashtra state lawn tennis association recently bagged hosting rights chennai open india atp world tour event branded maharashtra open held pune\n",
      "실제 요약 : mumbai open to be india st <UNK> event in years\n",
      "예측 요약 :  app data study study jail makes attack pakistan pakistan pakistan china china\n",
      "\n",
      "\n",
      "원문 : government raised cess cigarettes itc increased prices different pack sizes variants reports said people pay brands like classic gold <UNK> navy cut premium brands classic gold <UNK> kings seen sharpest hike cigarette packs cost earlier\n",
      "실제 요약 : itc raises cigarette prices by up to after hike in cess\n",
      "예측 요약 :  from attack bihar her her men crore ban film film film get\n",
      "\n",
      "\n",
      "원문 : <UNK> mathur ex cfo global consultant auditor pwc indian arm filed defamation suit accusing falsifying accounts evading taxes breaking several laws accused pwc intimidating cheating tarnishing name refused cover crimes mathur alleged pwc lied government made expenses crore evade taxes\n",
      "실제 요약 : <UNK> <UNK> accounts <UNK> tax and <UNK> laws ex cfo\n",
      "예측 요약 :  accused down on does hc daughter pakistan pakistan pakistan pakistan captain be\n",
      "\n",
      "\n",
      "원문 : late veteran actress madhubala set get wax figure madame tussauds new delhi wax figure styled character <UNK> film mughal azam wax museum open later year also feature wax figures bollywood actors amitabh bachchan shah rukh khan singer shreya <UNK> among others\n",
      "실제 요약 : madhubala to get wax statue at delhi madame tussauds\n",
      "예측 요약 :  from her says from attack new the attack world use world use\n",
      "\n",
      "\n",
      "원문 : rock band linkin park tribute lead singer chester bennington allegedly committed suicide wrote hearts broken facebook post read absence leaves void never filled <UNK> funny ambitious creative kind generous voice room missing also shared web link <UNK> page\n",
      "실제 요약 : our hearts are broken linkin park in tribute to chester\n",
      "예측 요약 :  pm arrested be from attack bihar can hc daughter firm film air\n",
      "\n",
      "\n",
      "원문 : video reportedly showing xiaomi <UNK> note exploding bengaluru store emerged online damage due faulty third party charger used customer company claimed xiaomi india said replaced customer damaged unit brand new <UNK> note\n",
      "실제 요약 : xiaomi <UNK> note explodes at store in bengaluru\n",
      "예측 요약 :  pm startup data study uk dead uk th use men makes no\n",
      "\n",
      "\n",
      "CPU times: user 360 ms, sys: 2.01 ms, total: 362 ms\n",
      "Wall time: 360 ms\n"
     ]
    }
   ],
   "source": [
    "%%time\n",
    "for i in range(50, 100):\n",
    "    print(\"원문 :\", seq2text(encoder_input_test[i]))\n",
    "    print(\"실제 요약 :\", seq2summary(decoder_input_test[i]))\n",
    "    input_seq = torch.tensor(encoder_input_test[i], dtype=torch.long, device=device).unsqueeze(0)\n",
    "    print(\"예측 요약 :\", decode_sequence(input_seq, encoder, decoder, tar_word_to_index, tar_index_to_word, text_max_len, summary_max_len, device))\n",
    "    print(\"\\n\")"
   ]
  },
  {
   "cell_type": "code",
   "execution_count": 68,
   "id": "16793ee5-6e1e-4874-9b30-9c56432b27f0",
   "metadata": {},
   "outputs": [],
   "source": [
    "import requests\n",
    "from summa.summarizer import summarize"
   ]
  },
  {
   "cell_type": "code",
   "execution_count": 78,
   "id": "5115475d-930f-4c36-88ea-4407a313fc9b",
   "metadata": {},
   "outputs": [
    {
     "name": "stdout",
     "output_type": "stream",
     "text": [
      "23074    five militants killed security forces overnigh...\n",
      "Name: text, dtype: object\n"
     ]
    }
   ],
   "source": [
    "print(data.sample(1).text)\n",
    "\n",
    "extracted = data.sample(1).to_string(index=False)"
   ]
  },
  {
   "cell_type": "code",
   "execution_count": 82,
   "id": "24e57175-5547-468e-ae11-31a0dd7aa18a",
   "metadata": {},
   "outputs": [
    {
     "name": "stdout",
     "output_type": "stream",
     "text": [
      "Summary:\n",
      "\n",
      "Summary:\n",
      "[]\n",
      "Summary:\n",
      "headlines                                                                                                                                                                                                                                                                                 text                                                       decoder_input                                                      decoder_target\n",
      "anti social elements infiltrated sterlite stir rajinikanth talking protests tamil nadu sterlite plant actor turned politician rajinikanth said attack collector office setting fire quarters done common people anti social elements infiltrated government crush anti social elements iron fist otherwise result great danger tamil nadu added sostoken anti social elements infiltrated sterlite stir rajinikanth anti social elements infiltrated sterlite stir rajinikanth eostoken\n"
     ]
    }
   ],
   "source": [
    "print('Summary:')\n",
    "print(summarize(extracted, ratio=0.01))\n",
    "\n",
    "print('Summary:')\n",
    "print(summarize(extracted, ratio=0.01, split=True))\n",
    "\n",
    "print('Summary:')\n",
    "print(summarize(extracted, words=50))"
   ]
  }
 ],
 "metadata": {
  "kernelspec": {
   "display_name": "Python 3 (ipykernel)",
   "language": "python",
   "name": "python3"
  },
  "language_info": {
   "codemirror_mode": {
    "name": "ipython",
    "version": 3
   },
   "file_extension": ".py",
   "mimetype": "text/x-python",
   "name": "python",
   "nbconvert_exporter": "python",
   "pygments_lexer": "ipython3",
   "version": "3.12.11"
  }
 },
 "nbformat": 4,
 "nbformat_minor": 5
}
